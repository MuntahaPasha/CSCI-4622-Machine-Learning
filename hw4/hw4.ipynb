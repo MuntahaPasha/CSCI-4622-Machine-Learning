{
 "cells": [
  {
   "cell_type": "markdown",
   "metadata": {
    "deletable": false,
    "editable": false,
    "nbgrader": {
     "cell_type": "markdown",
     "checksum": "02804d34b749993749a391fe95bd7520",
     "grade": false,
     "grade_id": "cell-39cc69ad672c2457",
     "locked": true,
     "schema_version": 3,
     "solution": false,
     "task": false
    }
   },
   "source": [
    "# Homework 4: SVM\n",
    "\n",
    "\n",
    "This assignment is due on Moodle by **11:59pm on Friday October 30**. \n",
    "Your solutions to theoretical questions should be done in Markdown/MathJax directly below the associated question.\n",
    "Your solutions to computational questions should include any specified Python code and results \n",
    "as well as written commentary on your conclusions.\n",
    "Remember that you are encouraged to discuss the problems with your instructors and classmates, \n",
    "but **you must write all code and solutions on your own**. For a refresher on the course **Collaboration Policy** click [here](https://github.com/BoulderDS/CSCI5622-Machine-Learning/blob/master/info/syllabus.md#collaboration-policy).\n",
    "\n",
    "**NOTES**: \n",
    "\n",
    "- Do **NOT** load or use any Python packages that are not available in Anaconda (Version: 2019.07) with Python 3.7. \n",
    "- Some problems with code may be autograded.  If we provide a function API **do not** change it.  If we do not provide a function API then you're free to structure your code however you like. \n",
    "- Submit only this Jupyter notebook to Moodle.  Do not compress it using tar, rar, zip, etc. \n",
    "- In this homework you will explore the primal and dual representations of support vector machines, as well as the performance of various kernels while classifying sentiments. Install the following packages: `nltk` (Version: 3.5), `scikit-learn` (Version: 0.23.2)\n"
   ]
  },
  {
   "cell_type": "markdown",
   "metadata": {
    "deletable": false,
    "editable": false,
    "nbgrader": {
     "cell_type": "markdown",
     "checksum": "b6a65990e3ee338fcca6169ba1c4d1ff",
     "grade": false,
     "grade_id": "cell-42609c0d44322df4",
     "locked": true,
     "schema_version": 3,
     "solution": false,
     "task": false
    }
   },
   "source": [
    "**Please put your name and cuidentity username.**"
   ]
  },
  {
   "cell_type": "markdown",
   "metadata": {},
   "source": [
    "**Name**: Muntaha Pasha"
   ]
  },
  {
   "cell_type": "markdown",
   "metadata": {},
   "source": [
    "**Identity Key**: mupa0444"
   ]
  },
  {
   "cell_type": "code",
   "execution_count": 3,
   "metadata": {},
   "outputs": [],
   "source": [
    "import math\n",
    "import pickle\n",
    "import gzip\n",
    "import numpy as np\n",
    "import pandas\n",
    "import matplotlib.pylab as plt\n",
    "%matplotlib inline\n",
    "\n",
    "# Set random seed for deterministic output\n",
    "np.random.seed(5622)"
   ]
  },
  {
   "cell_type": "markdown",
   "metadata": {
    "deletable": false,
    "editable": false,
    "nbgrader": {
     "cell_type": "markdown",
     "checksum": "bcadea9323aaa669deed90d8c5ea2f4b",
     "grade": false,
     "grade_id": "cell-1e40b611c0a33948",
     "locked": true,
     "schema_version": 3,
     "solution": false,
     "task": false
    }
   },
   "source": [
    "[40 Points] Problem 1 - Basic concepts of SVM\n",
    "---\n",
    "\n",
    "### Part 1 [10 points]\n",
    "* What are the main differences between the primal and the dual representations?\n",
    "* For the variables $\\xi_i$, $C$ in the primal formation, what are their roles? Write out the upper/lower bounds (constraints) of these variables. What are the interpretation for these maximum/minimum values?\n",
    "* For the variable $\\alpha_i$, $\\beta_i$ in the dual formation, what are the upper/lower bound (constraints) of them?"
   ]
  },
  {
   "cell_type": "markdown",
   "metadata": {},
   "source": [
    "**SOURCES USED:**\n",
    "\n",
    "1 - (Understanding Primal/Dual Formation) https://www.quora.com/What-is-primal-and-dual-formulation-in-SVM\n",
    "\n",
    "2 - (More on SVM) http://people.csail.mit.edu/dsontag/courses/ml13/slides/lecture6.pdf"
   ]
  },
  {
   "cell_type": "markdown",
   "metadata": {
    "deletable": false,
    "nbgrader": {
     "cell_type": "markdown",
     "checksum": "f616bf5ea6cd25ba5b9bbbf94bb465f5",
     "grade": true,
     "grade_id": "cell-f177349aed9aabcf",
     "locked": false,
     "points": 10,
     "schema_version": 3,
     "solution": true
    }
   },
   "source": [
    "**(SOLUTION):**\n",
    "\n",
    "-  $\\textbf{What are the main differences between the primal and the dual representations?}$\n",
    "\n",
    "For a $\\textbf{Primal Representation}$, we are going to optimize the function $min_{w, b} = \\frac{1}{2} ||w||^2$, which is subject to $y_i \\cdot (w \\cdot x_i + b) \\geq 1$ for all $i \\in [1, m]$. We will get an optimal value for $w$, however there will be an unknown in regards to $\\alpha_i$. To classify any sort of point we would need to use the equation $w^Tx$ (where $x$ is the point) which could be costly especially if our $d$ value is very big. Another way to look at it is in the Primal Representation, we are going to minimize the objective function with respect to $w, b$, and $x_i$ where we would be directly solving for our variables $b$ and for $w$. $\\checkmark$\n",
    "\n",
    "On the other hand now, a $\\textbf{Dual Representation}$ we will get an $\\alpha_i$ for the places where $\\alpha_i = 0$, and as we discussed that would be everywhere except where the support vectors are. In this representation, we are maximixing a different objective function with regard to $\\alpha$. We want to maximize $ max_\\alpha \\sum_{i=1}^m \\alpha_i -\\frac{1}{2} \\sum_{i = 1}^m\\sum_{j = 1}^m\\alpha_i \\cdot \\alpha_j \\cdot y_i \\cdot y_j(x_j \\cdot x_i)$ which is subject to $\\alpha_i \\ge 0$, $i \\in[1, m]$, $\\sum_{i} \\alpha_i \\cdot y_i = 0$. This Objective Function doesn't deal with $b$, or $w$, and only makes use of $\\alpha$. Through it, we find the max $\\alpha$ value and then would use KKT conditions to figure out what our $w$ and $b$ are. $\\checkmark$\n",
    "\n",
    "- $\\textbf{For the variables $\\xi_i$, $C$ in the primal formation, what are their roles? Write out the upper/lower bounds (constraints) of these variables. What are the interpretation for these maximum/minimum values?}$\n",
    "\n",
    "We know that $\\xi_i$ is what defines the slack variables, which is the level of how incorrectly a point is from where it should be. We also know that $\\xi_i$ has to always be $\\ge 0$. We can break this up into two cases.\n",
    "\n",
    "1. If $y_i(w \\cdot x_i + b)\\ge 1$, then $\\xi_i = 0$. (The margin is satisfied)\n",
    "\n",
    "So when some point $x_i$ is within the scope of our margin, a slack variable isn't needed so $\\xi_i$ will just be 0.\n",
    "\n",
    "2. $\\xi_i$ = $1-y_i(w \\cdot x_i+b)$. (Margin isn't satisfied)\n",
    "\n",
    "In this case, when you have some point $x_i$ that doesn't satisfy the margin and is found within the opposite area of where it should be, then $\\xi_i$ must be equal to $1-y_i(w \\cdot x_i+b)$.\n",
    "\n",
    "$C$ is our variable that defines the trade-off between slack and margin points. We know that $C$ will always be $\\ge 0$. An we also know that if we increase the value of $C$, the margin is also going to increase in turn, which leads to a decrease in bias, increase in variance, and therefore a decrease in the overall overfitting. $\\checkmark$\n",
    "\n",
    "- $\\textbf{For the variable $\\alpha_i$, $\\beta_i$ in the dual formation, what are the upper/lower bound (constraints) of them?}$\n",
    "\n",
    "$\\alpha_i$ is always going to be $\\ge 0$, and its also a non-zero value for our Support Vectors. However, for the other vectors that don't impact the weight $(w)$, then it's just going to be $0$. In a Soft Margin SVM, we learned in lecture that the bounds of $\\alpha_i$ are going to be between $C$ and $0$. $C \\ge \\alpha_i \\ge 0$.\n",
    "\n",
    "Now, looking at $\\beta_i$, we can also see that $\\beta_i$ is always going to be $\\ge 0$. In a Soft Margin SVM, we learned in lecture that the bounds of $\\beta_i$ are going to be between $C$ and $0$. $C\\ge\\beta_i\\ge0$. \n",
    "\n",
    "We can put $\\alpha_i$ and $\\beta_i$ together to make $C$, because ($\\alpha_i + \\beta_i = C$). We know that when $\\alpha_i = 0$, then $\\beta_i = C$ and on the reverse of that when $\\alpha_i = C$, then $\\beta_i = 0$. We can also relate $\\xi_i$ to $\\alpha_i$ given that $\\beta_i \\xi_i = 0$ which tells us that our $\\beta_i = 0$, or that $\\xi_i = 0$. $\\checkmark$"
   ]
  },
  {
   "cell_type": "markdown",
   "metadata": {
    "deletable": false,
    "editable": false,
    "nbgrader": {
     "cell_type": "markdown",
     "checksum": "d9711d8637903ea332d20ecae46de997",
     "grade": false,
     "grade_id": "cell-fe7878b1dd2ff1df",
     "locked": true,
     "schema_version": 3,
     "solution": false,
     "task": false
    }
   },
   "source": [
    "### Part 2 [20 points]\n",
    "\n",
    " * Given a weight vector, implement the `find_support` function that returns the indices of the support vectors.\n",
    " * Given a weight vector, implement the `find_slack` function that returns the indices of the vectors with nonzero slack.\n",
    " * Given the alpha dual vector, implement the `weight_vector` function that returns the corresponding weight vector."
   ]
  },
  {
   "cell_type": "markdown",
   "metadata": {},
   "source": [
    "**SOURCES USED:**\n",
    "\n",
    "1 - (Slack in SVM) https://cel.archives-ouvertes.fr/cel-01003007/file/Lecture3_Linear_SVM_with_Slack.pdf"
   ]
  },
  {
   "cell_type": "code",
   "execution_count": 4,
   "metadata": {
    "deletable": false,
    "nbgrader": {
     "cell_type": "code",
     "checksum": "03db7fcb00d613cbf64708dc2a27b9ab",
     "grade": false,
     "grade_id": "cell-14c104d96c00c2eb",
     "locked": false,
     "schema_version": 3,
     "solution": true
    }
   },
   "outputs": [],
   "source": [
    "class SVM:\n",
    "    def __init__(self):\n",
    "        self.kINSP = np.array([\n",
    "            (1, 8, +1),\n",
    "            (7, 2, -1),\n",
    "            (6, -1, -1),\n",
    "            (-5, 0, +1),\n",
    "            (-5, 1, -1),\n",
    "            (-5, 2, +1),\n",
    "            (6, 3, +1),\n",
    "            (6, 1, -1),\n",
    "            (5, 2, -1)\n",
    "        ])\n",
    "        self.kSEP = np.array([\n",
    "            (-2, 2, +1),    # 0 - A\n",
    "            (0, 4, +1),     # 1 - B\n",
    "            (2, 1, +1),     # 2 - C\n",
    "            (-2, -3, -1),   # 3 - D\n",
    "            (0, -1, -1),    # 4 - E\n",
    "            (2, -3, -1),    # 5 - F\n",
    "        ])\n",
    "\n",
    "\n",
    "    def weight_vector(self, x, y, alpha):\n",
    "        \"\"\"\n",
    "        Given a vector of alphas, compute the primal weight vector w.\n",
    "        The vector w should be returned as an Numpy array.\n",
    "        \n",
    "        Returns:\n",
    "            w (np.ndarray): The primal weight vector w.\n",
    "        \"\"\"\n",
    "\n",
    "        w = np.zeros(len(x[0]))\n",
    "        # YOUR CODE HERE\n",
    "        #raise NotImplementedError()\n",
    "        counter = 0\n",
    "        lenX = len(x[0])\n",
    "        #Iterate over x\n",
    "        while(counter < lenX):\n",
    "            for i in range(len(x)):\n",
    "                #Updat x, y, and alpha, and set weight\n",
    "                xVal = x[i][counter]\n",
    "                yVal = y[i]\n",
    "                alph = alpha[i]\n",
    "                #Here we compute our w.\n",
    "                w[counter] = (w[counter]) + (xVal * yVal * alph) \n",
    "            counter = counter + 1\n",
    "        return w\n",
    "\n",
    "\n",
    "\n",
    "    def find_support(self, x, y, w, b, tolerance=0.001):\n",
    "        \"\"\"\n",
    "        Given a set of training examples and primal weights, return the indices\n",
    "        of all of the support vectors as a set.\n",
    "        \n",
    "        Returns:\n",
    "            support (set) : set of support vector indices\n",
    "        \"\"\"\n",
    "\n",
    "        support = set()\n",
    "        # YOUR CODE HERE\n",
    "        #raise NotImplementedError()\n",
    "        lenX = len(x)\n",
    "        for i in range(lenX):\n",
    "            inner = (x[i].dot(w) + b)\n",
    "            mult = y[i] * inner\n",
    "            toleranceOther = (1 - tolerance)\n",
    "            toleranceAdd = (1 + tolerance)\n",
    "            #Check to see if the conditions apply.\n",
    "            if mult <= toleranceAdd and mult >= toleranceOther:\n",
    "                support.add(i)\n",
    "        return support\n",
    "\n",
    "\n",
    "\n",
    "    def find_slack(self, x, y, w, b):\n",
    "        \"\"\"\n",
    "        Given a set of training examples and primal weights, return the indices\n",
    "        of all examples with nonzero slack as a set.\n",
    "        \n",
    "        Returns:\n",
    "            slack (set) : set of slack indices \n",
    "        \"\"\"\n",
    "\n",
    "        slack = set()\n",
    "        # YOUR CODE HERE\n",
    "        #raise NotImplementedError()\n",
    "        lenX = len(x)\n",
    "        for i in range(lenX):\n",
    "            #Calculating our slack variable\n",
    "            inner = (x[i].dot(w) + b)\n",
    "            mult = y[i] * inner\n",
    "            if mult < 1:\n",
    "                slack.add(i)\n",
    "        return slack"
   ]
  },
  {
   "cell_type": "code",
   "execution_count": 5,
   "metadata": {
    "deletable": false,
    "editable": false,
    "nbgrader": {
     "cell_type": "code",
     "checksum": "3aa73cc220bc2b16c09b0e72ebd10dfa",
     "grade": true,
     "grade_id": "cell-3c7d7f432578009e",
     "locked": true,
     "points": 20,
     "schema_version": 3,
     "solution": false
    }
   },
   "outputs": [
    {
     "name": "stderr",
     "output_type": "stream",
     "text": [
      "TestWideSlack (tests.tests.TestSVM) ... ok\n",
      "TestNarrowSlack (tests.tests.TestSVM) ... ok\n",
      "TestSupport (tests.tests.TestSVM) ... ok\n",
      "TestWeight (tests.tests.TestSVM) ... ok\n",
      "\n",
      "----------------------------------------------------------------------\n",
      "Ran 4 tests in 0.013s\n",
      "\n",
      "OK\n"
     ]
    }
   ],
   "source": [
    "from tests import tests\n",
    "tests.run_test_suite(\"prob 1\", SVM)"
   ]
  },
  {
   "cell_type": "markdown",
   "metadata": {
    "deletable": false,
    "editable": false,
    "nbgrader": {
     "cell_type": "markdown",
     "checksum": "b842153bbb481e2a662612aaa95c8979",
     "grade": false,
     "grade_id": "cell-7c25ab5ed0d77621",
     "locked": true,
     "schema_version": 3,
     "solution": false,
     "task": false
    }
   },
   "source": [
    "### Part 3 [10 points]\n",
    "\n",
    "The goal of this problem is to correctly classify test data points, given a training data set.\n",
    "For this problem, assume that we are training an SVM with a quadratic kernel, which means our kernel function is a polynomial kernel of degree 2. You are given the data set presented in the figure below. The slack penalty $C$ will determine the location of the decision boundary.\n",
    "\n",
    "Justify the following questions in a sentence or via drawing decision boundary.\n",
    "![training_data](./data/data.png)\n",
    "\n",
    "* Where would the decision boundary be for very large values of $C$ ?\n",
    "* Where you would expect the decision boundary to be if  $C = 0$ ?\n",
    "* Which of the two cases above would you expect to generalize better on test data? Why?"
   ]
  },
  {
   "cell_type": "markdown",
   "metadata": {},
   "source": [
    "**SOURCES USED:**\n",
    "\n",
    "1 - (C Value in SVMs) https://stats.stackexchange.com/questions/31066/what-is-the-influence-of-c-in-svms-with-linear-kernel#:~:text=The%20C%20parameter%20tells%20the,the%20training%20points%20classified%20correctly.\n",
    "\n",
    "2 - (More about C Value in SVM) https://medium.com/@pushkarmandot/what-is-the-significance-of-c-value-in-support-vector-machine-28224e852c5a"
   ]
  },
  {
   "cell_type": "markdown",
   "metadata": {
    "deletable": false,
    "nbgrader": {
     "cell_type": "markdown",
     "checksum": "985db05b9496fb3714ee2096479f6f7d",
     "grade": true,
     "grade_id": "cell-02406ba497be1623",
     "locked": false,
     "points": 10,
     "schema_version": 3,
     "solution": true
    }
   },
   "source": [
    "**(SOLUTION):**\n",
    "\n",
    "- Where would the decision boundary be for very large values of $C$ ?\n",
    "\n",
    "For very large values of $C$, we would expect our decision boundary to be closer to one of our classes above because bigger and bigger $C$ values try and seperate positive class and negative class points in a way that we would not have misclassification. The margin would no longer be maximized in this case, as it aims for no misclassification. $\\checkmark$\n",
    "\n",
    "- Where you would expect the decision boundary to be if  $C = 0$ ?\n",
    "\n",
    "If $C$ was equal to $0$, we would find the decision boundary right in the middle of both classes, with a misclassification on our $2$ red points. That's because when $C$ equals $0$, our $\\xi_i$ variable can take on larger values. We will allow for a few bad apples here in this case. Margin will be thus maximized here because of that case. $\\checkmark$\n",
    "\n",
    "\n",
    "- Which of the two cases above would you expect to generalize better on test data? Why?\n",
    "\n",
    "I would say that Case $2$ will generalize better on Test Data because we run the risk of overfitting on the training data from Case $1$. This is because in Case $1$, our margin would be very narrow, and not maximized. So we would get a high training accuracy, but in turn we'd get a low test accuracy. Meanwhile with Case $2$, as we discussed in the answer above, it allows for a few bad apples, so we would be okay with a few misclassifications thus maximizing our Margin which is what we want for our SVM. $\\checkmark$"
   ]
  },
  {
   "cell_type": "markdown",
   "metadata": {
    "deletable": false,
    "editable": false,
    "nbgrader": {
     "cell_type": "markdown",
     "checksum": "bef866dff5b0ce6c9dea5e7aea37f23a",
     "grade": false,
     "grade_id": "cell-55888810e6151283",
     "locked": true,
     "schema_version": 3,
     "solution": false,
     "task": false
    }
   },
   "source": [
    "[30 points] Problem 2 - The Kernel Trick\n",
    "---\n",
    "The kernel trick can make SVM powerful and become non-linear. In this problem we will get familiar with the kernel trick.\n",
    "\n",
    "### Part 1 [10 points]\n",
    "\n",
    "We will construct a support vector machine that computes the XOR function, using values of +1 and −1 (instead of 1 and 0) for both inputs and outputs, so that an example looks like ($[−1, 1], 1$) or ($[−1, −1], −1$). \n",
    "- Map the input $[x_1, x_2]$ into a space consisting of $x_1$ and $x_1x_2$. \n",
    "- Plot the four input points in this space, and the maximal margin separator. \n",
    "- Give the margin value in the markdown cell. \n",
    "\n",
    "Remember to indicate which points have output +1 and which -1."
   ]
  },
  {
   "cell_type": "markdown",
   "metadata": {},
   "source": [
    "**SOURCES USED:**\n",
    "\n",
    "1 - (Plotting w/ Ax) https://www.geeksforgeeks.org/matplotlib-axes-axes-plot-in-python/\n",
    "\n",
    "2 - (Numpy Linspace) https://www.geeksforgeeks.org/numpy-linspace-python/"
   ]
  },
  {
   "cell_type": "code",
   "execution_count": 6,
   "metadata": {
    "deletable": false,
    "nbgrader": {
     "cell_type": "code",
     "checksum": "c0fe2b7a9339f72690a8459981899a23",
     "grade": true,
     "grade_id": "cell-20ea52b04bb94dee",
     "locked": false,
     "points": 8,
     "schema_version": 3,
     "solution": true,
     "task": false
    }
   },
   "outputs": [
    {
     "data": {
      "text/plain": [
       "<matplotlib.legend.Legend at 0x2794dc7aee0>"
      ]
     },
     "execution_count": 6,
     "metadata": {},
     "output_type": "execute_result"
    },
    {
     "data": {
      "image/png": "[encoded data removed]",
      "text/plain": [
       "<Figure size 720x504 with 1 Axes>"
      ]
     },
     "metadata": {
      "needs_background": "light"
     },
     "output_type": "display_data"
    },
    {
     "data": {
      "image/png": "[encoded data removed]",
      "text/plain": [
       "<Figure size 720x504 with 1 Axes>"
      ]
     },
     "metadata": {
      "needs_background": "light"
     },
     "output_type": "display_data"
    }
   ],
   "source": [
    "# YOUR CODE HERE\n",
    "#raise NotImplementedError()\n",
    "\n",
    "#-----------------------SetUp & Definitions-----------------------\n",
    "x_1 = [-1, -1, 1, 1]\n",
    "x_2 = [-1, 1, -1, 1]\n",
    "y_val = [-1, 1, 1, -1]\n",
    "lenY = len(y_val)\n",
    "c1 = {1 : 'green', -1 : 'red'}\n",
    "c2 = {1 : 'lime', -1 : 'pink'}\n",
    "\n",
    "#-----------------------XOR w/o Kernel Setup----------------------\n",
    "fig1, ax = plt.subplots(figsize = (10, 7))\n",
    "for i in range(lenY):\n",
    "    #Label for the legend, showing what numbers are being XOR'd and what the result is.\n",
    "    labelAx = str(x_1[i]) + \" xor \" + str(x_2[i]) + \" = \" + str(y_val[i])\n",
    "    #Plot x1, x2 in their respective colors.\n",
    "    ax.scatter(x_1[i], x_2[i], label = labelAx, color = c1[y_val[i]])\n",
    "ax.set_title(\"XOR before Kernel Trick\")\n",
    "ax.set_xlabel(\"$x_1$\", fontsize = 15)\n",
    "ax.set_ylabel(\"$x_2$\", fontsize = 15)\n",
    "ax.legend()\n",
    "\n",
    "#----------------------XOR with Kernel Setup----------------------\n",
    "fig1, ax1 = plt.subplots(figsize = (10, 7))\n",
    "for i in range(lenY):\n",
    "    #Label for the legend, showing what numbers are being XOR'd and what the result is.\n",
    "    #This time we are doing x1 * x2\n",
    "    labelAx1 = str(x_1[i]) + \" xor \" + str(x_1[i] * x_2[i]) + \" = \" + str(y_val[i])\n",
    "    #Plot x1, x1*x2 in their respective colors.\n",
    "    ax1.scatter(x_1[i], (x_1[i] * x_2[i]), label = labelAx1, color = c2[y_val[i]])\n",
    "#Make sure they have same shape (of 4)\n",
    "ax1.plot(x_1, np.linspace(0, 0, 4), label = \"Maximal Margin Separator\")\n",
    "ax1.set_title(\"XOR after Kernel Trick\")\n",
    "ax1.set_xlabel(\"$x_1$\", fontsize = 15)\n",
    "ax1.set_ylabel(\"($x_1 \\cdot x_2$)\", fontsize = 15)\n",
    "ax1.legend()"
   ]
  },
  {
   "cell_type": "markdown",
   "metadata": {
    "deletable": false,
    "nbgrader": {
     "cell_type": "markdown",
     "checksum": "e73071136adefa9aed2ebcd5957bd69a",
     "grade": true,
     "grade_id": "cell-64bbc4980b5c4edd",
     "locked": false,
     "points": 2,
     "schema_version": 3,
     "solution": true,
     "task": false
    }
   },
   "source": [
    "**(SOLUTION):**\n",
    "\n",
    "The Margins we get will be at $x_1 \\cdot x_2 = 1$, and at $x_1 \\cdot x_2 = -1$. Our $\\textbf{Maximal Margin Seperator}$ as shown above in my second plot is going to be at $x_1 \\cdot x_2 = 0$. You can see it perfectly splits the data. $\\checkmark$"
   ]
  },
  {
   "cell_type": "markdown",
   "metadata": {
    "deletable": false,
    "editable": false,
    "nbgrader": {
     "cell_type": "markdown",
     "checksum": "387213f9cb504ea0e2fc596e89d0f919",
     "grade": false,
     "grade_id": "cell-5ba884cd7e49d78d",
     "locked": true,
     "schema_version": 3,
     "solution": false,
     "task": false
    }
   },
   "source": [
    "### Part 2 [5 points]\n",
    "Plot the separating line of **Part 1** back in the original Euclidean input space."
   ]
  },
  {
   "cell_type": "code",
   "execution_count": 7,
   "metadata": {
    "deletable": false,
    "nbgrader": {
     "cell_type": "code",
     "checksum": "e6e323e18881c3d6be9b1ff2abd3d8ac",
     "grade": true,
     "grade_id": "cell-9020bbe03ed87cfc",
     "locked": false,
     "points": 5,
     "schema_version": 3,
     "solution": true,
     "task": false
    }
   },
   "outputs": [
    {
     "data": {
      "text/plain": [
       "<matplotlib.legend.Legend at 0x2794deceaf0>"
      ]
     },
     "execution_count": 7,
     "metadata": {},
     "output_type": "execute_result"
    },
    {
     "data": {
      "image/png": "[encoded data removed]",
      "text/plain": [
       "<Figure size 720x504 with 1 Axes>"
      ]
     },
     "metadata": {
      "needs_background": "light"
     },
     "output_type": "display_data"
    }
   ],
   "source": [
    "# YOUR CODE HERE\n",
    "#raise NotImplementedError()\n",
    "\n",
    "#-----------------------SetUp & Definitions-----------------------\n",
    "x_1 = [-1, -1, 1, 1]\n",
    "x_2 = [-1, 1, -1, 1]\n",
    "y_val = [-1, 1, 1, -1]\n",
    "listShape = []\n",
    "for i in range(100):\n",
    "    listShape.append(i*0)\n",
    "Shape = np.linspace(-1, 1, 100)\n",
    "lenY = len(y_val)\n",
    "c3 = {1 : 'limegreen', -1 : 'magenta'}\n",
    "\n",
    "#--------------------Orig Euclidean Input Space-------------------\n",
    "fig, ax = plt.subplots(figsize=(10, 7))\n",
    "for i in range(lenY):\n",
    "    #Label for the legend, showing what numbers are being XOR'd and what the result is.\n",
    "    labelAx = str(x_1[i]) + \" xor \" + str(x_2[i]) + \" = \" + str(y_val[i])\n",
    "    #Plot x1, x2 in their respective colors.\n",
    "    ax.scatter(x_1[i], x_2[i], label = labelAx, color = c3[y_val[i]])\n",
    "#Earlier Part\n",
    "ax.plot(Shape, listShape, label = \"Maximal Margin Seperator\")\n",
    "#Plot\n",
    "ax.plot(listShape, Shape)\n",
    "ax.set_title(\"Seperating Line for Original Euclidean Input Space (Part 1)\")\n",
    "ax.set_xlabel(\"$x_1$\", fontsize = 15)\n",
    "ax.set_ylabel(\"$x_2$\", fontsize = 15)\n",
    "ax.legend(loc = \"upper center\")"
   ]
  },
  {
   "cell_type": "markdown",
   "metadata": {
    "deletable": false,
    "editable": false,
    "nbgrader": {
     "cell_type": "markdown",
     "checksum": "d978690256991b3b10176a46bb25febe",
     "grade": false,
     "grade_id": "cell-3013de14effe2d4a",
     "locked": true,
     "schema_version": 3,
     "solution": false,
     "task": false
    }
   },
   "source": [
    "### Part 3 [5 points]\n",
    "Is the separator in **Part 1** linear? Is the one in **Part 2** linear? Explain your answer."
   ]
  },
  {
   "cell_type": "markdown",
   "metadata": {
    "deletable": false,
    "nbgrader": {
     "cell_type": "markdown",
     "checksum": "8821f5382c580de24c483bd1a0cd4b31",
     "grade": true,
     "grade_id": "cell-119e16472d287f4e",
     "locked": false,
     "points": 5,
     "schema_version": 3,
     "solution": true,
     "task": false
    }
   },
   "source": [
    "**(SOLUTION):**\n",
    "\n",
    "Our Seperator from Part 1 is $\\textbf{is Linear}$, and our Seperator from Part 2 is $\\textbf{Non-Linear}$. When the Seperator is used in the context of our Original Euclidian Input Space, then we get that when $x_1 = 0$ or $x_2 = 0$ or $x_1 = 0$ & $x_2 = 0$, then $x_1 \\cdot x_2 = 0$, which then makes a hyper-plane that is $\\textbf{Non-Linear}$ that seperates the points where $y = - 1$ from those where $y = + 1$. All of this goes to show we can use Kernel Tricks to classify the data where it otherwise would not be linearly seperable. $\\checkmark$"
   ]
  },
  {
   "cell_type": "markdown",
   "metadata": {
    "deletable": false,
    "editable": false,
    "nbgrader": {
     "cell_type": "markdown",
     "checksum": "95b20466fd3ca86119c013f75bc4656f",
     "grade": false,
     "grade_id": "cell-b8218f37ba88f7c9",
     "locked": true,
     "schema_version": 3,
     "solution": false,
     "task": false
    }
   },
   "source": [
    "### Part 4 [10 points]\n",
    "The key point of the so-called “kernel trick” in SVMs is to learn a classifier that effectively separates the training data in a higher dimensional space without having to explicitly compute the representation $\\phi(\\mathbf{x})$ of every point $\\mathbf{x}$ in the original input space. Instead, all the work is done through the kernel function $K(\\mathbf{x}_i, \\mathbf{x}_i)$, for example, we can use $K(\\mathbf{x}_i, \\mathbf{x}_i) = \\phi(\\mathbf{x}_i)\\phi(\\mathbf{x}_j)$.\n",
    "\n",
    "Show how to compute the squared Euclidean distance in the projected space between any two points $\\mathbf{x}_i$, $\\mathbf{x}_j$ in the original space without explicitly computing the $\\phi$ mapping, instead using the kernel function $K$. In other words, derive $d(\\phi(\\mathbf{x}_i), \\phi(\\mathbf{x}_j))$ into a form using only the kernel function.\n",
    "\n",
    "Please remember to simplify your solution."
   ]
  },
  {
   "cell_type": "markdown",
   "metadata": {
    "deletable": false,
    "nbgrader": {
     "cell_type": "markdown",
     "checksum": "3beedd96d39e9c464377ae2885f78ba0",
     "grade": true,
     "grade_id": "cell-c6b6512e7d992202",
     "locked": false,
     "points": 10,
     "schema_version": 3,
     "solution": true,
     "task": false
    }
   },
   "source": [
    "**(SOLUTION):**\n",
    "\n",
    "We can write out the derivative as such.\n",
    "\n",
    "$d(\\phi(x_i), \\phi(x_j)) = (\\phi(x_i) - \\phi(x_j))^2$\n",
    "\n",
    "Using the Chain-Rule, we get...\n",
    "\n",
    "$d(\\phi(x_i), \\phi(x_j)) = (\\phi(x_i))^2 + (\\phi(x_j)^2 - 2 (\\phi(x_i) (\\phi(x_j))$\n",
    "\n",
    "We can write out the square terms seperately and subtract the Kernel Function at the end.\n",
    "\n",
    "$d(\\phi(x_i), \\phi(x_j)) = ((\\phi(x_i)(\\phi(x_i)) + ((\\phi(x_j)(\\phi(x_j)) - 2K(x_i, x_j)$\n",
    "\n",
    "Now we can write this all out in terms of $K$. We use $K$ on the $x_i$ and $x_j$'s, and keep in that subtraction we needed in the above step.\n",
    "\n",
    "$d(\\phi(x_i), \\phi(x_j)) = K(x_i, x_i) + K(x_j, x_j) - 2K(x_i, x_j)$\n",
    "\n",
    "From this last step, we can see that $d(\\phi(x_i), \\phi(x_j))$ will be derived using the Kernel Function ($K$), and we don't need to exactly calculate the mapping for each $x$ with $\\phi$. $\\checkmark$"
   ]
  },
  {
   "cell_type": "markdown",
   "metadata": {
    "deletable": false,
    "editable": false,
    "nbgrader": {
     "cell_type": "markdown",
     "checksum": "eda0db6d3653c96ec72059179ddb52ec",
     "grade": false,
     "grade_id": "cell-2a7361023bfbbe84",
     "locked": true,
     "schema_version": 3,
     "solution": false,
     "task": false
    }
   },
   "source": [
    "[30 points] Problem 3 - SVM with `sklearn`\n",
    "---\n",
    "\n",
    "In this problem, you will get familiar with important practical functions in scikit-learn such as pipeline, grid search, and cross validation. You will experiment with these using support vector machines.\n",
    "\n",
    "Note that grid search can take some time on your laptop, so make sure that your code is correct with a small subset of the training data and search a reasonable number of options.\n",
    "\n",
    "* Use the Sklearn implementation of support vector machines to train a classifier to distinguish Positive and negative sentiments\n",
    "* Experiment with linear, polynomial, and RBF kernels. First, perform a GridSearch over each kernel function and a small set of parameters defined over a wide range to help narrow down the search space.\n",
    "* Then choose the best performing kernel from your coarse scale search and define a narrower set of parameters for random search to further optimize the hyperparameters. Comment on the experiments you ran and optimal hyperparameters you found.\n",
    "Hint: http://scikit-learn.org/stable/modules/grid_search.html\n",
    "* Evaluate classification performance for each model for optimal parameters by testing on a hold-out set.\n",
    "\n",
    "Following is a dataset containing reviews and sentiments associated with it.\n",
    "\n",
    "We will create a SVM Classifier to predict positive or negative sentiments."
   ]
  },
  {
   "cell_type": "code",
   "execution_count": 8,
   "metadata": {},
   "outputs": [
    {
     "name": "stdout",
     "output_type": "stream",
     "text": [
      "[Sizes] train: 4000, test: 1000\n",
      "[Avg S] train: 0.49875, test: 0.505\n"
     ]
    }
   ],
   "source": [
    "import pandas as pd\n",
    "from sklearn.model_selection import train_test_split, StratifiedKFold\n",
    "reviews  = pd.read_csv('./data/reviews.csv')\n",
    "train, test = train_test_split(reviews, test_size=0.2, random_state=5622)\n",
    "X_train = train['reviews']\n",
    "X_test = test['reviews']\n",
    "y_train = train['sentiment']\n",
    "y_test = test['sentiment']\n",
    "\n",
    "# Print some data info\n",
    "print(f'[Sizes] train: {len(X_train)}, test: {len(X_test)}')\n",
    "print(f'[Avg S] train: {sum(y_train)/len(X_train)}, test: {sum(y_test)/len(X_test)}')"
   ]
  },
  {
   "cell_type": "code",
   "execution_count": 9,
   "metadata": {},
   "outputs": [
    {
     "name": "stderr",
     "output_type": "stream",
     "text": [
      "[nltk_data] Downloading package stopwords to\n",
      "[nltk_data]     C:\\Users\\munta\\AppData\\Roaming\\nltk_data...\n",
      "[nltk_data]   Package stopwords is already up-to-date!\n"
     ]
    }
   ],
   "source": [
    "import nltk\n",
    "from nltk.corpus import stopwords\n",
    "from nltk.tokenize import TweetTokenizer\n",
    "from sklearn.feature_extraction.text import CountVectorizer\n",
    "from sklearn.svm import SVC\n",
    "from sklearn.pipeline import make_pipeline, Pipeline\n",
    "from sklearn.model_selection import GridSearchCV, RandomizedSearchCV\n",
    "from sklearn.metrics import accuracy_score, f1_score\n",
    "from sklearn.metrics import confusion_matrix, roc_auc_score, recall_score, precision_score\n",
    "\n",
    "# download nltk data\n",
    "nltk.download('stopwords')\n",
    "en_stopwords = set(stopwords.words(\"english\")) "
   ]
  },
  {
   "cell_type": "markdown",
   "metadata": {
    "deletable": false,
    "editable": false,
    "nbgrader": {
     "cell_type": "markdown",
     "checksum": "3824735b35e2893522e59b8f68ebf486",
     "grade": false,
     "grade_id": "cell-c5af7b0df4f72c74",
     "locked": true,
     "schema_version": 3,
     "solution": false,
     "task": false
    }
   },
   "source": [
    "### Part 1 [5 points]\n",
    "\n",
    "Complete the `get_vectorizer` and `get_kfolds` functions below.\n",
    "\n",
    "- Use [`CountVectorizer`](https://scikit-learn.org/stable/modules/generated/sklearn.feature_extraction.text.CountVectorizer.html) to vectorize reviews as dictionary of term frequencies.\n",
    "- Define the crossvalidation split using [`StratifiedKFold`](https://scikit-learn.org/stable/modules/generated/sklearn.model_selection.StratifiedKFold.html?highlight=stratifiedkfold#sklearn.model_selection.StratifiedKFold)."
   ]
  },
  {
   "cell_type": "code",
   "execution_count": 13,
   "metadata": {
    "deletable": false,
    "nbgrader": {
     "cell_type": "code",
     "checksum": "196749f1263ab6c54cc354afa9b5c4c3",
     "grade": false,
     "grade_id": "cell-ab58d371c35713b4",
     "locked": false,
     "schema_version": 3,
     "solution": true,
     "task": false
    }
   },
   "outputs": [],
   "source": [
    "def tokenize(text): \n",
    "    \"\"\"\n",
    "    Separate text into tokens\n",
    "    \"\"\"\n",
    "    tknzr = TweetTokenizer()\n",
    "    return tknzr.tokenize(text)\n",
    "\n",
    "def get_vectorizer():\n",
    "    \"\"\" \n",
    "    \n",
    "    Create and return a CountVectorizer\n",
    "    \n",
    "    Hints:\n",
    "        Read docs on CountVectorizer to set arguments (https://scikit-learn.org/stable/modules/generated/sklearn.feature_extraction.text.CountVectorizer.html) \n",
    "        Pass the above tokenize function as the tokenizer.\n",
    "        Use en_stopwords variable above as stopwords\n",
    "        \n",
    "        Play with different parameters.\n",
    "        min_df argument can help with generalizability\n",
    "    \"\"\"\n",
    "    \n",
    "    # YOUR CODE HERE\n",
    "    #raise NotImplementedError()\n",
    "    #We want to put our tokenizer, and make use of the en_stopwords into vecotrizer\n",
    "    vectorizer = CountVectorizer(tokenizer = tokenize, stop_words = en_stopwords)\n",
    "    return vectorizer\n",
    "\n",
    "def get_kfolds():\n",
    "    \"\"\" \n",
    "    Split dataset into 5 splits using StratifiedKFold \n",
    "    \n",
    "    Hint:\n",
    "    Remember to shuffle\n",
    "    \"\"\"\n",
    "    # YOUR CODE HERE\n",
    "    #raise NotImplementedError()\n",
    "    #We want shuffle, 5 splits, and random state as none\n",
    "    kfolds = StratifiedKFold(n_splits = 5, random_state = None, shuffle = True)\n",
    "    return kfolds\n",
    "\n",
    "\n",
    "vectorizer = get_vectorizer()\n",
    "kfolds = get_kfolds()"
   ]
  },
  {
   "cell_type": "code",
   "execution_count": 14,
   "metadata": {
    "deletable": false,
    "editable": false,
    "nbgrader": {
     "cell_type": "code",
     "checksum": "3fabfb15f1d4ee78f5d2f9aa72193a59",
     "grade": true,
     "grade_id": "cell-7b9737faea74ccef",
     "locked": true,
     "points": 5,
     "schema_version": 3,
     "solution": false,
     "task": false
    }
   },
   "outputs": [],
   "source": [
    "# for grading; please ignore"
   ]
  },
  {
   "cell_type": "markdown",
   "metadata": {
    "deletable": false,
    "editable": false,
    "nbgrader": {
     "cell_type": "markdown",
     "checksum": "75b3eb30df1712dcef3a3334c4f4c8b8",
     "grade": false,
     "grade_id": "cell-ddb76d3c6bae8e15",
     "locked": true,
     "schema_version": 3,
     "solution": false,
     "task": false
    }
   },
   "source": [
    "### Part 2 [10 points]\n",
    "* Create a pipeline with our `CountVectorizer` object in **Part 1** and an SVM Classifier.\n",
    "* Create and fit a `GridSearchCV` object with the following parameter values:\n",
    "  * Linear kernel, $C = 0.01, 1.0, 10.0$\n",
    "  * Polynomial kernel, $\\text{degree} = 2, 3$, $\\gamma = 0.1, 0.5, 1$\n",
    "  * RBF kernel, $\\gamma = 0.1, 0.5, 1$\n",
    "* Report accuracy on the best estimator from our `GridSearchCV` object."
   ]
  },
  {
   "cell_type": "code",
   "execution_count": 15,
   "metadata": {
    "deletable": false,
    "nbgrader": {
     "cell_type": "code",
     "checksum": "f8d29528eda0679df9787ebc7a3d812e",
     "grade": false,
     "grade_id": "cell-a3dd5b25a9ce8feb",
     "locked": false,
     "schema_version": 3,
     "solution": true,
     "task": false
    }
   },
   "outputs": [],
   "source": [
    "def get_pipeline(**kwargs):\n",
    "    \"\"\"\n",
    "        Define pipeline using make_pipeline (see sklearn docs) with vectorizer and SVM Classifier. \n",
    "        \n",
    "        The SVM Classifer should take in all kwargs passed (passing kwargs can be achieved with fn(**kwargs))\n",
    "        You should use balanced class weights for SVM.\n",
    "    \"\"\"\n",
    "    \n",
    "    # YOUR CODE HERE\n",
    "    #raise NotImplementedError()\n",
    "    #Put the argument get vectorizer into pipeline, put in lass weight balanced and pass kwargs\n",
    "    pipeline_svm = make_pipeline(get_vectorizer(), SVC(**kwargs, class_weight = 'balanced'))\n",
    "    return pipeline_svm\n",
    "\n",
    "def get_course_params():\n",
    "    \"\"\"\n",
    "        Create the grid search parameters defined above for course grid search. \n",
    "        Returns a list of dictionaries to be passed as argument to GridSearchCV below\n",
    "    \"\"\"\n",
    "    \n",
    "    # YOUR CODE HERE\n",
    "    #raise NotImplementedError()\n",
    "    #param_grid = [{'kernel': ['linear'], 'C': [0.01, 1.0 ,10]},{'kernel': ['polynomial'], 'degree': [2,3], 'gamma' : [0.1, 0.5, 1], \n",
    "    #'C': [0.01, 1.0 ,10]}, {'kernel': ['rbf'], 'gamma': [0.001, 0.0001], 'C': [0.01, 1.0 ,10]}]\n",
    "    #Setting up my parameter grid with the correct paramaters needed and correct values\n",
    "    param_grid = [{'svc__kernel': ['rbf'], 'svc__gamma': [0.1, 0.5, 1.0]},\n",
    "                    {'svc__kernel': ['linear'], 'svc__C':[0.01, 1.0, 10.0]},\n",
    "                    {'svc__kernel': ['poly'], 'svc__degree': [2, 3], 'svc__gamma': [0.1, 0.5, 1.0]}]\n",
    "    return param_grid\n",
    "\n",
    "def get_grid_svm():\n",
    "    \"\"\"\n",
    "        Create GridSearchCV with pipeline and the grid search parameters given above using \"accuracy\" for scoring.\n",
    "    \"\"\" \n",
    "     \n",
    "    param_grid = get_course_params()\n",
    "    pipeline_svm = get_pipeline()\n",
    "    \n",
    "    # YOUR CODE HERE\n",
    "    #raise NotImplementedError()\n",
    "    #Call Grid Search and give it pipeline svm, param grid, and make sure scoring is set correctly.\n",
    "    grid_svm = GridSearchCV(pipeline_svm, param_grid, scoring='accuracy')\n",
    "    return grid_svm\n",
    "    \n",
    "    \n",
    "\n",
    "grid_svm = get_grid_svm()\n",
    "# For debugging purposes, it makes sense to use a smaller set of training set to speed up the grid search progress\n",
    "# refit is not necessary since by default refit is true in GridSearchCV, \n",
    "# but we did this to show that you need to use the best parameter to fit the whole training set\n",
    "_ = grid_svm.fit(X_train, y_train)"
   ]
  },
  {
   "cell_type": "code",
   "execution_count": 16,
   "metadata": {
    "deletable": false,
    "editable": false,
    "nbgrader": {
     "cell_type": "code",
     "checksum": "68a1aabe495c06e761fe8f6ce92d667f",
     "grade": true,
     "grade_id": "cell-fb57090849f1d094",
     "locked": true,
     "points": 5,
     "schema_version": 3,
     "solution": false,
     "task": false
    }
   },
   "outputs": [],
   "source": [
    "# For grading; please ignore."
   ]
  },
  {
   "cell_type": "code",
   "execution_count": 17,
   "metadata": {
    "deletable": false,
    "nbgrader": {
     "cell_type": "code",
     "checksum": "8819e90ae6a2708015ffaa2865cfd394",
     "grade": false,
     "grade_id": "cell-47833f7ec14a9d22",
     "locked": false,
     "schema_version": 3,
     "solution": true,
     "task": false
    }
   },
   "outputs": [
    {
     "name": "stdout",
     "output_type": "stream",
     "text": [
      "best params: {'svc__C': 0.01, 'svc__kernel': 'linear'} | best cv score: 0.8745\n"
     ]
    }
   ],
   "source": [
    "best_params = None\n",
    "best_score = None\n",
    "\n",
    "# Store best parameters and CV score from grid search for reporting into the variables above\n",
    "# YOUR CODE HERE\n",
    "#raise NotImplementedError()\n",
    "best_params = grid_svm.best_params_\n",
    "best_score = grid_svm.best_score_\n",
    "\n",
    "# Report best parameters and CV score from grid search\n",
    "print(f'best params: {best_params} | best cv score: {best_score}')"
   ]
  },
  {
   "cell_type": "code",
   "execution_count": 18,
   "metadata": {
    "deletable": false,
    "editable": false,
    "nbgrader": {
     "cell_type": "code",
     "checksum": "bf1df17e0bfe9499ed65aeda57e96c8c",
     "grade": true,
     "grade_id": "cell-1268040b2d1a98b4",
     "locked": true,
     "points": 5,
     "schema_version": 3,
     "solution": false,
     "task": false
    }
   },
   "outputs": [],
   "source": [
    "# For grading; please ignore."
   ]
  },
  {
   "cell_type": "markdown",
   "metadata": {
    "deletable": false,
    "editable": false,
    "nbgrader": {
     "cell_type": "markdown",
     "checksum": "ef3c4187f1be7404dd2fb775bb68dea1",
     "grade": false,
     "grade_id": "cell-a561071b8ec246bc",
     "locked": true,
     "schema_version": 3,
     "solution": false,
     "task": false
    }
   },
   "source": [
    "### Part 3 [10 points]\n",
    "\n",
    "Choose the best performing kernel and parameter values from your coarse scale grid search and use them to set up a narrower range of parameter values. We will use randomized grid search to sample a fixed number of these candidate parameter sets for cross validation. The number of sampled parameter sets `n_iter` provides a trade-off between computational cost and quality of the \"optimal\" parameters. Feel free to experiment with different values of this parameter, but please change it back to `n_iter = 5` before submitting your assignment."
   ]
  },
  {
   "cell_type": "code",
   "execution_count": 19,
   "metadata": {
    "deletable": false,
    "nbgrader": {
     "cell_type": "code",
     "checksum": "8a05d6ba748a96b7b451774b54a41134",
     "grade": true,
     "grade_id": "cell-e1116a343a3e645a",
     "locked": false,
     "points": 5,
     "schema_version": 3,
     "solution": true,
     "task": false
    }
   },
   "outputs": [
    {
     "name": "stderr",
     "output_type": "stream",
     "text": [
      "C:\\Users\\munta\\anaconda3\\lib\\site-packages\\sklearn\\model_selection\\_search.py:278: UserWarning: The total space of parameters 1 is smaller than n_iter=5. Running 1 iterations. For exhaustive searches, use GridSearchCV.\n",
      "  warnings.warn(\n",
      "[Parallel(n_jobs=-1)]: Using backend LokyBackend with 8 concurrent workers.\n"
     ]
    },
    {
     "name": "stdout",
     "output_type": "stream",
     "text": [
      "Fitting 5 folds for each of 1 candidates, totalling 5 fits\n"
     ]
    },
    {
     "name": "stderr",
     "output_type": "stream",
     "text": [
      "[Parallel(n_jobs=-1)]: Done   2 out of   5 | elapsed:   16.1s remaining:   24.2s\n",
      "[Parallel(n_jobs=-1)]: Done   5 out of   5 | elapsed:   16.4s finished\n"
     ]
    }
   ],
   "source": [
    "def get_params_fine_scale():\n",
    "    \"\"\"\n",
    "        Set param_grid to a dictionary containing parameter values for fine scale search.\n",
    "        Return value is passed as argument to RandomizedSearchCV below\n",
    "    \"\"\" \n",
    "    # YOUR CODE HERE\n",
    "    #raise NotImplementedError()\n",
    "    #Linear was the best kernel outcome I achieved, and lowering the value will make it better\n",
    "    #We know 1 has to be better than 10, and so 0.01 is a good point to do it at.\n",
    "    param_grid = [{'svc__kernel': ['linear'], 'svc__C': [0.01]}]\n",
    "    return param_grid\n",
    "\n",
    "def get_random_svm():\n",
    "    \"\"\"\n",
    "        Create randomized parameter search over fine scale grid;\n",
    "        Do NOT change the value of n_iter in the submitted version of your notebook.\n",
    "    \"\"\" \n",
    "    n_iter = 5\n",
    "    pipeline_svm = get_pipeline()\n",
    "    param_grid = get_params_fine_scale()\n",
    "\n",
    "    random_svm = RandomizedSearchCV(\n",
    "        pipeline_svm,\n",
    "        param_grid,\n",
    "        n_iter=n_iter,\n",
    "        cv = kfolds,\n",
    "        scoring=\"accuracy\",\n",
    "        verbose=1,   \n",
    "        n_jobs=-1\n",
    "    )\n",
    "    return random_svm\n",
    "\n",
    "random_svm = get_random_svm()\n",
    "# refit is not necessary since by default refit is true in RandomSearchCV, \n",
    "# but we did this to show that you need to use the best parameter to fit the whole training set\n",
    "_ = random_svm.fit(X_train, y_train)"
   ]
  },
  {
   "cell_type": "code",
   "execution_count": 20,
   "metadata": {
    "deletable": false,
    "nbgrader": {
     "cell_type": "code",
     "checksum": "125f0f9cacebf47639d09fd315e2c960",
     "grade": false,
     "grade_id": "cell-39b5a8b9e508cf0e",
     "locked": false,
     "schema_version": 3,
     "solution": true,
     "task": false
    }
   },
   "outputs": [
    {
     "name": "stdout",
     "output_type": "stream",
     "text": [
      "best params: {'svc__kernel': 'linear', 'svc__C': 0.01} | best cv score: 0.877\n"
     ]
    }
   ],
   "source": [
    "best_params = None\n",
    "best_score = None\n",
    "\n",
    "# Store best parameters and score from random search for reporting into the variables above \n",
    "# YOUR CODE HERE\n",
    "#raise NotImplementedError()\n",
    "#Using the random.svm functions to find the best score and parameters.\n",
    "best_score = random_svm.best_score_\n",
    "best_params = random_svm.best_params_\n",
    "\n",
    "# Report best parameters and score from random search\n",
    "print(f'best params: {best_params} | best cv score: {best_score}')"
   ]
  },
  {
   "cell_type": "code",
   "execution_count": 21,
   "metadata": {
    "deletable": false,
    "editable": false,
    "nbgrader": {
     "cell_type": "code",
     "checksum": "78ef3b52d32ae25d6d538048785d9e88",
     "grade": true,
     "grade_id": "cell-5fd96d17e21f469c",
     "locked": true,
     "points": 5,
     "schema_version": 3,
     "solution": false,
     "task": false
    }
   },
   "outputs": [],
   "source": [
    "# For grading; please ignore."
   ]
  },
  {
   "cell_type": "code",
   "execution_count": 22,
   "metadata": {},
   "outputs": [],
   "source": [
    "def report_results(model, X, y):\n",
    "    # Reports various model metrics.  \n",
    "    pred = model.predict(X)        \n",
    "    acc = accuracy_score(y, pred)\n",
    "    f1 = f1_score(y, pred)\n",
    "    prec = precision_score(y, pred)\n",
    "    rec = recall_score(y, pred)\n",
    "    result = {'f1': f1, 'acc': acc, 'precision': prec, 'recall': rec}\n",
    "    return result"
   ]
  },
  {
   "cell_type": "code",
   "execution_count": 23,
   "metadata": {},
   "outputs": [
    {
     "data": {
      "text/plain": [
       "{'f1': 0.8801571709233792,\n",
       " 'acc': 0.878,\n",
       " 'precision': 0.8732943469785575,\n",
       " 'recall': 0.8871287128712871}"
      ]
     },
     "execution_count": 23,
     "metadata": {},
     "output_type": "execute_result"
    }
   ],
   "source": [
    "# get test metrics.\n",
    "report_results(random_svm.best_estimator_, X_test, y_test)"
   ]
  },
  {
   "cell_type": "markdown",
   "metadata": {
    "deletable": false,
    "editable": false,
    "nbgrader": {
     "cell_type": "markdown",
     "checksum": "c7739604efa929d396b9cf11c0d8114a",
     "grade": false,
     "grade_id": "cell-a47ce46465ea41d1",
     "locked": true,
     "schema_version": 3,
     "solution": false,
     "task": false
    }
   },
   "source": [
    "### Part 4 [5 points]\n",
    "\n",
    "Explain the overall procedure, and report the final result including which hyperparameter values were chosen. Make sure to explain your reasoning in choosing a refined parameter search space in **Part 3**."
   ]
  },
  {
   "cell_type": "markdown",
   "metadata": {
    "deletable": false,
    "nbgrader": {
     "cell_type": "markdown",
     "checksum": "651d32596f089e5e6a6cc978c6f79cd6",
     "grade": true,
     "grade_id": "cell-6fecb92ed6ad5abe",
     "locked": false,
     "points": 5,
     "schema_version": 3,
     "solution": true
    }
   },
   "source": [
    "**(SOLUTION):**\n",
    "\n",
    "First we had to read the information in from the csv file and store it into our variables needed for training and testing ($X_{train}, y_{train})$, etc. Then after that we used our Vecotrizer function to create a dictionary with the words that we stored into our variable $X_{train}$ as the keys to that dictionary and how many times they showed up (frequency) as the Dictionary value. After doing that, we used Stratified-K-Fold to split up our data into 5 splits and make sure that we have equal amounts of the samples from each Class in the 5 splits. After doing this, we used the Grid Search to try and find the best parameter across different Kernel's. \n",
    "\n",
    "My results in doing this Grid Search yielded the best parameter as being $\\textbf{Linear Kernel}$ with a $C$ value of $0.01$, and a $CV$ score of $0.8745$. \n",
    "\n",
    "After this, we chose a refined paramater using a Randomized Search technique on the best parameter that we got which was the Linear Kernel and did it for large $C$ values. It ended up increasing our $CV$ score up to $0.877$!\n",
    "\n",
    "We ended up getting a final accuracy of about $87.8$% during the testing process shown above in the code which is not bad. $\\checkmark$"
   ]
  },
  {
   "cell_type": "markdown",
   "metadata": {},
   "source": [
    "### Extra Credit [10 points] Advanced Hyperparameter Optimization\n",
    "While Grid Search and Random Search are tried and true methods for hyperparameter optimization, they are often very computationally expensive on larger models. Here you will explore a more advanced approach such as Bayesian Optimization or Tree-structured Parzen estimators (TPE). These algorithms are more complex, but there are packages that abstract away the complications. \n",
    "\n",
    "The general idea of these methods is to focus on the \"good\" areas of the hyperparameter space, and quickly rule out the bad areas. \n",
    "\n",
    "This extra credit is fairly open-ended, and meant to allow you to explore other hyperaparameter optimization methods outside the scikit-learn environment. Exploring this now will be **very helpful for your final project**. \n",
    "\n",
    "Here are some package recommendations:\n",
    "- [wandb](https://docs.wandb.com/): An alternative to TensorBoard. You can do hyperparameter optimization with sweeps. \n",
    "- [ray.tune](https://docs.ray.io/en/latest/tune/): Great package for large hyperparameter sweeps with great parallelization. The Hyperopt search algorithm is especially useful.\n",
    "\n",
    "Any package is okay, but **please make sure to leave an install command for us in the cell below so that we can install it automatically**.\n",
    "\n",
    "```python\n",
    "!pip install ray[tune]\n",
    "```\n",
    "\n",
    "The main criteria are that you use one of the following search algorithms (https://docs.ray.io/en/latest/tune/api_docs/suggestion.html):\n",
    "- Bayesian Optimization\n",
    "- Tree-structured Parzen estimators (TPE)\n",
    "- Adaptive TPE\n",
    "- Population Based Training (PBT)\n",
    "\n",
    "Additionally, you should optimize over the **course parameters** defined in part 2. However, instead of using a fixed categorical parameter space, you should choose ranges as follows.\n",
    "\n",
    "| Kenel| Parameter | space type | min | max |\n",
    "| --------- | ---------- | --- | --- | ---- |\n",
    "| Linear kernel | $C$ | log uniform | exp(-3) | exp(3)| \n",
    "| Polynomial kernel | degree| int uniform | 1 | 5| \n",
    "| Polynomial kernel | $\\gamma$ | uniform | 0.01 | 1 | \n",
    " RBF kernel | $\\gamma$ |  uniform | 0.01 | 1 | \n",
    "\n",
    "Fine-Tuning will be done automatically, which is the beauty of these methods, but make sure to run enough trials that you consistently score better than your previous solutions.\n",
    "\n",
    "We've laid out a template for using ray.tune and hyperopt, but feel free to change to a different package if you prefer.\n",
    "\n",
    "Note that when using a search algorithm like hyperopt, you should always wrap your algorithm in a `ConcurrencyLimiter` where the number of concurrent trials is a small fraction of the total number of trials."
   ]
  },
  {
   "cell_type": "code",
   "execution_count": null,
   "metadata": {
    "deletable": false,
    "nbgrader": {
     "cell_type": "code",
     "checksum": "1c2e2150b28fac9df924598ca3f956c5",
     "grade": true,
     "grade_id": "cell-a57fe1ccfaafef23",
     "locked": false,
     "points": 10,
     "schema_version": 3,
     "solution": true,
     "task": false
    }
   },
   "outputs": [],
   "source": [
    "# install package here\n",
    "# !pip install ray[tune] -q\n",
    "# !pip install hyperopt\n",
    "\n",
    "# import any packages here\n",
    "from sklearn.model_selection import cross_val_score\n",
    "\n",
    "from ray import tune\n",
    "from ray.tune.suggest import ConcurrencyLimiter\n",
    "from ray.tune.suggest.hyperopt import HyperOptSearch\n",
    "from hyperopt import hp\n",
    "\n",
    "\n",
    "def objective(config):\n",
    "    \"\"\" \n",
    "        This is an objective function for ray.tune.\n",
    "    \"\"\"\n",
    "    \n",
    "    config=config['outer']\n",
    "    \n",
    "    # Now, train the SVM\n",
    "    model = get_pipeline(**config)\n",
    "    kfolds = get_kfolds()\n",
    "    score = cross_val_score(model, X_train, y_train, cv=kfolds, scoring='accuracy')\n",
    "    tune.report(accuracy=score.mean())\n",
    "\n",
    "# TODO: Define the parameter space and your search algorithm \n",
    "# YOUR CODE HERE\n",
    "raise NotImplementedError()\n",
    "\n",
    "\n",
    "# Run ray.tune (make sure to play around with the number of trials. It's small here to get you going)\n",
    "analysis = tune.run(\n",
    "    objective, \n",
    "    search_alg=algo, \n",
    "    num_samples=32, \n",
    "    verbose=1\n",
    ")"
   ]
  },
  {
   "cell_type": "code",
   "execution_count": null,
   "metadata": {
    "deletable": false,
    "nbgrader": {
     "cell_type": "code",
     "checksum": "c64821dd5bd7e5fc2ce9fa4cf5c46be2",
     "grade": true,
     "grade_id": "cell-4d08aa9f1438168e",
     "locked": false,
     "points": 0,
     "schema_version": 3,
     "solution": true,
     "task": false
    }
   },
   "outputs": [],
   "source": [
    "# TODO: Report best parameters as before\n",
    "best_params = None\n",
    "best_score = None\n",
    " \n",
    "# YOUR CODE HERE\n",
    "raise NotImplementedError()\n",
    "\n",
    "# Report best parameters from hyperparameter optimization\n",
    "print(f'best params: {best_params} | best score: {best_score}')"
   ]
  },
  {
   "cell_type": "markdown",
   "metadata": {},
   "source": [
    "### Optional survey.\n",
    "***\n",
    "\n",
    "We are always interested in your feedback. At the end of each homework, there is a simple anonymous feedback [survey](https://docs.google.com/forms/d/e/1FAIpQLSe6yaRaEmShRe9DqYE66UA4PJtQTgkS6vloXyOKb7WuFFSYrQ/viewform?usp=pp_url) to solicit your feedback for how to improve the course."
   ]
  },
  {
   "cell_type": "code",
   "execution_count": null,
   "metadata": {},
   "outputs": [],
   "source": []
  }
 ],
 "metadata": {
  "kernelspec": {
   "display_name": "Python 3",
   "language": "python",
   "name": "python3"
  },
  "language_info": {
   "codemirror_mode": {
    "name": "ipython",
    "version": 3
   },
   "file_extension": ".py",
   "mimetype": "text/x-python",
   "name": "python",
   "nbconvert_exporter": "python",
   "pygments_lexer": "ipython3",
   "version": "3.8.3"
  },
  "toc": {
   "base_numbering": 1,
   "nav_menu": {},
   "number_sections": false,
   "sideBar": true,
   "skip_h1_title": true,
   "title_cell": "Table of Contents",
   "title_sidebar": "Contents",
   "toc_cell": false,
   "toc_position": {},
   "toc_section_display": true,
   "toc_window_display": true
  }
 },
 "nbformat": 4,
 "nbformat_minor": 4
}
