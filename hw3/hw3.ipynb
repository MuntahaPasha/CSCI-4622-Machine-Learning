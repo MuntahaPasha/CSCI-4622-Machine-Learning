{
 "cells": [
  {
   "cell_type": "markdown",
   "metadata": {
    "deletable": false,
    "editable": false,
    "nbgrader": {
     "cell_type": "markdown",
     "checksum": "1555b0f7089adc531e263ee7e759eaaf",
     "grade": false,
     "grade_id": "cell-82ae56686993b52b",
     "locked": true,
     "schema_version": 3,
     "solution": false,
     "task": false
    }
   },
   "source": [
    "# Homework 3: Neural Networks\n",
    "\n",
    "\n",
    "This assignment is due on Moodle by **11:59pm on Friday October 16**. \n",
    "Your solutions to theoretical questions should be done in Markdown/MathJax directly below the associated question.\n",
    "Your solutions to computational questions should include any specified Python code and results \n",
    "as well as written commentary on your conclusions.\n",
    "Remember that you are encouraged to discuss the problems with your instructors and classmates, \n",
    "but **you must write all code and solutions on your own**. For a refresher on the course **Collaboration Policy** click [here](https://github.com/BoulderDS/CSCI5622-Machine-Learning/blob/master/info/syllabus.md#collaboration-policy).\n",
    "\n",
    "\n",
    "**NOTES**: \n",
    "\n",
    "- Do **NOT** load or use any Python packages that are not available in Anaconda (Version: 2019.07) with Python 3.7. \n",
    "- Some problems with code may be autograded.  If we provide a function API **do not** change it.  If we do not provide a function API then you're free to structure your code however you like. \n",
    "- Submit only this Jupyter notebook to Moodle.  Do not compress it using tar, rar, zip, etc. \n",
    "- In this homework, we will use [PyTorch](https://pytorch.org/) and [PyTorch Lightning](https://pytorch-lightning.readthedocs.io/en/latest/introduction_guide.html) to implement a classifier. First upgrade your `pip` package manager to the latest version (Version >19.0). Then install the current stable release for [PyTorch](https://pytorch.org/get-started/locally/) (version: 1.6.0) as the backend for PyTorch Lightning. Then install [PyTorch Lighntning](https://pytorch-lightning.readthedocs.io/en/latest/introduction_guide.html) (version: 0.9.0).\n",
    "\n",
    "```\n",
    "pip install --upgrade pip\n",
    "\n",
    "pip install torch\n",
    "\n",
    "pip install pytorch-lightning\n",
    "\n",
    "```\n",
    "\n",
    "It is **highly recommended** you install the CPU-only version of PyTorch if your'e unfamiliar with the process of installing CUDA libraries for these packages. If you choose to install a GPU version, ensure you're code runs without GPU support.\n",
    "\n",
    "**Acknowledgment** : Chris Ketelsen"
   ]
  },
  {
   "cell_type": "markdown",
   "metadata": {
    "deletable": false,
    "editable": false,
    "nbgrader": {
     "cell_type": "markdown",
     "checksum": "f62b9cdc5976a4fe6367164755ad2ebf",
     "grade": false,
     "grade_id": "cell-c45699879b420760",
     "locked": true,
     "schema_version": 3,
     "solution": false,
     "task": false
    }
   },
   "source": [
    "**Please put your name and cuidentity username.**"
   ]
  },
  {
   "cell_type": "markdown",
   "metadata": {},
   "source": [
    "**Name**: Muntaha Pasha"
   ]
  },
  {
   "cell_type": "markdown",
   "metadata": {},
   "source": [
    "**Identity Key**: mupa0444"
   ]
  },
  {
   "cell_type": "code",
   "execution_count": 1,
   "metadata": {},
   "outputs": [
    {
     "name": "stderr",
     "output_type": "stream",
     "text": [
      "C:\\Users\\munta\\anaconda3\\envs\\py37\\lib\\site-packages\\pytorch_lightning\\utilities\\distributed.py:37: UserWarning: Unsupported `ReduceOp` for distributed computing.\n",
      "  warnings.warn(*args, **kwargs)\n"
     ]
    },
    {
     "data": {
      "text/plain": [
       "1234"
      ]
     },
     "execution_count": 1,
     "metadata": {},
     "output_type": "execute_result"
    }
   ],
   "source": [
    "import math\n",
    "import pickle\n",
    "import gzip\n",
    "import numpy as np\n",
    "import pandas\n",
    "import matplotlib.pylab as plt\n",
    "import random\n",
    "%matplotlib inline\n",
    "\n",
    "# Test PyTorch installation\n",
    "import torch \n",
    "import pytorch_lightning as pl\n",
    "pl.seed_everything(1234)"
   ]
  },
  {
   "cell_type": "markdown",
   "metadata": {
    "deletable": false,
    "editable": false,
    "nbgrader": {
     "cell_type": "markdown",
     "checksum": "6f61414c58e3b47da43407f606f8c4fa",
     "grade": false,
     "grade_id": "cell-d79b29ab197119c1",
     "locked": true,
     "schema_version": 3,
     "solution": false,
     "task": false
    }
   },
   "source": [
    "[20 points] Problem 1 - Single-Layer and Multilayer Perceptron Learning\n",
    "---\n",
    "\n",
    "### Part 1 [10 points] \n",
    "Consider learning the following concepts with either a single-layer or multilayer perceptron where all hidden and output neurons utilize the *indicator* activation functions. For each of the following concepts, state whether the concept can be learned by a single-layer perceptron. Briefly justify your response by providing weights, biases, and the *indicator* activation functions if applicable:\n",
    "\n",
    "- $\\; \\texttt{NOT } x_1$\n",
    "\n",
    "- $\\; x_1 \\texttt{ NAND } x_2$\n",
    "\n",
    "- $\\; x_1 \\texttt{ XNOR } x_2$ (output 1 when $x_1 = x_2$ and 0 otherwise)"
   ]
  },
  {
   "cell_type": "markdown",
   "metadata": {
    "deletable": false,
    "nbgrader": {
     "cell_type": "markdown",
     "checksum": "84fa84d70a98b9808ff01ecdd3ee6cfe",
     "grade": true,
     "grade_id": "cell-5504bb80827fe61b",
     "locked": false,
     "points": 10,
     "schema_version": 3,
     "solution": true
    }
   },
   "source": [
    "**(SOLUTION):**\n",
    "\n",
    "- $\\; \\texttt{NOT } x_1$\n",
    "\n",
    "This $\\textbf{can}$ be learned from a Single-Layer Perceptron if we set our weight $w_1$ to the value of $-1$, and we set our bias to the value of $1$. Then, when $x_1$ is equivalent to $1$, our output will be $0$. And when $x_1$ is $0$, the output value will be $1$. So yes, Single-Layer Perceptron can learn this. $\\checkmark$\n",
    "\n",
    "An $\\textbf{Indicator Function}$ to use here is, given input $x$, and output $y$...\n",
    "\n",
    "If $(w \\cdot x) + b \\leq 0$, then $y = 0$. \n",
    "\n",
    "Else, if  $(w \\cdot x) + b \\gt 0$,  then $y = 1$ \n",
    "\n",
    "- $\\; x_1 \\texttt{ NAND } x_2$\n",
    "\n",
    "This $\\textbf{can}$ be learned from a Single-Layer Perceptron if we set our weights $w_1$ and $w_2$ to the value of $-1$, and we set our bias to the value of $1$. If one of the inputs is $1$, or both of them are $1$, then the output we get will be $0$. Similarly, if both inputs are set to the value of $0$, then the output will be $1$. So yes, Single-Layer Perceptron can learn this. $\\checkmark$\n",
    "\n",
    "An $\\textbf{Indicator Function}$ to use here is, given inputs $x_1, x_2$, and output $y$... \n",
    "\n",
    "If $(w_1 \\cdot x_1) + (w_2 \\cdot x_2) + b \\leq 0$, then $y = 0$ \n",
    "\n",
    "Else, if  $(w_1 \\cdot x_1) + (w_2 \\cdot x_2) + b \\gt 0, y = 1$ \n",
    "\n",
    "- $\\; x_1 \\texttt{ XNOR } x_2$ (output 1 when $x_1 = x_2$ and 0 otherwise)\n",
    "\n",
    "This $\\textbf{can't}$ be learned from a Single-Layer Perceptron, because you can see clearly that the cases we have aren't linearly seperable. Looking at the visual representation of our tuple $(x_1, x_2)$, we get these tuples for class $0$: $(0, 1), (1, 0)$. For class $1$: $(1, 1), (0, 0)$. So these aren't linearly seperable and thus Single-Layer Perceptron won't work on them. This requires us to use 2 layers. $\\checkmark$"
   ]
  },
  {
   "cell_type": "markdown",
   "metadata": {
    "deletable": false,
    "editable": false,
    "nbgrader": {
     "cell_type": "markdown",
     "checksum": "0fd9c3fb6ac9ef00ed423489764ccfdc",
     "grade": false,
     "grade_id": "cell-34216deb363900f5",
     "locked": true,
     "schema_version": 3,
     "solution": false,
     "task": false
    }
   },
   "source": [
    "### Part 2 [10 points] \n",
    "\n",
    "Determine an architecture and specific values of the weights and biases in a single-layer or multilayer perceptron with *indicator* activation functions that can learn $x_1 \\texttt{ XNOR } x_2$. Make a truth table of $x_1$, $x_2$, and $x_1 \\texttt{ XNOR } x_2$, describe your perceptron's architecture, and state your weight matrices and bias vectors in Markdown below. Then demonstrate that your solution is correct by implementing forward propagation for your network in Python and showing that it produces the correct boolean output values for each of the four possible combinations of $x_1$ and $x_2$."
   ]
  },
  {
   "cell_type": "markdown",
   "metadata": {},
   "source": [
    "**SOURCES USED:**\n",
    "\n",
    "1 - (Constructing an XNOR) https://whatis.techtarget.com/definition/logic-gate-AND-OR-XOR-NOT-NAND-NOR-and-XNOR\n",
    "\n",
    "2 - (Understanding XNOR Truth Table) https://mathworld.wolfram.com/XNOR.html"
   ]
  },
  {
   "cell_type": "markdown",
   "metadata": {
    "deletable": false,
    "nbgrader": {
     "cell_type": "markdown",
     "checksum": "3dd94f21437a23eceec230c4f66dd863",
     "grade": true,
     "grade_id": "cell-fd1e475a5ef92def",
     "locked": false,
     "points": 5,
     "schema_version": 3,
     "solution": true
    }
   },
   "source": [
    "**(SOLUTION):**\n",
    "\n",
    "- Architecture of XNOR\n",
    "\n",
    "$\\textbf{XNOR is NOT linearly seperable, so we need to do 2 layers for this.}$\n",
    "\n",
    "XNOR is formed from the OR operator on an AND and NOR function. We know the weights, bias, and indicator functions for AND, and NOR.\n",
    "\n",
    "For $\\textbf{AND}$, we have the following weights, $w_1 = 1, w_2 = 1$, and $b_1 = -1.5$ is our bias. The $\\textbf{Indicator Function}$ we can use is...\n",
    "\n",
    "If $(w_1 \\cdot x_1) + (w_2 \\cdot x_2) + b_1 \\leq 0$, then $y = 0$.\n",
    "\n",
    "Else, if $(w_1 \\cdot x_1) + (w_2 \\cdot x_2) + b_1 \\gt 0$, then $y = 1$.\n",
    "\n",
    "For $\\textbf{NOR}$, we have the following weights, $w_3 = -1, w_4 = -1$, and $b_4 = 0.5$ is our bias. The $\\textbf{Indicator Function}$ we can use is...\n",
    "\n",
    "If $(w_3 \\cdot x_1) + (w_4 \\cdot x_2) + b_2 \\leq 0$, then $y = 0$.\n",
    "\n",
    "Else, if $(w_3 \\cdot x_1) + (w_4 \\cdot x_2) + b_2 \\gt 0$, then $y = 1$\n",
    "\n",
    "Now, we can take the outputs we get for $\\textbf{NOR}$, and $\\textbf{AND}$, and we can give them as the inputs to our $\\textbf{OR}$ operator. \n",
    "\n",
    "For $\\textbf{OR}$, we have the following weights, $w_5 = 1, w_6 = 1$, and $b_3 = -0.5$ is our bias. The $\\textbf{Indicator Function}$ we can use is...\n",
    "\n",
    "If $(w_5 \\cdot x_1) + (w_6 \\cdot x_2) + b_3 \\leq 0$, then $y = 0$.\n",
    "\n",
    "Else, if $(w_5 \\cdot x_1) + (w_6 \\cdot x_2) + b_3 \\gt 0$, then $y = 1$.\n",
    "\n",
    "- Making Truth Tables\n",
    "\n",
    "First, let's look at the Two Layer Perceptron we need to achieve an $\\textbf{XNOR}$ operator successfully.\n",
    "\n",
    "<table>\n",
    "  <thead>\n",
    "    <tr>\n",
    "      <th>$x_1$</th>\n",
    "      <th>$x_2$</th>\n",
    "        <th>$x_1$ AND $x_2$</th>\n",
    "        <th>$x_1$ NOR $x_2$</th>\n",
    "        <th>$x_1$ OR $x_2$</th>\n",
    "    </tr>\n",
    "  </thead>\n",
    "  <tbody>\n",
    "    <tr>\n",
    "      <td>$0$</td>\n",
    "      <td>$0$</td>\n",
    "      <td>$\\hspace{7mm}0$</td>  \n",
    "      <td>$\\hspace{7mm}1$</td>\n",
    "      <td>$\\hspace{6mm}1$</td>\n",
    "    </tr>\n",
    "    <tr>\n",
    "      <td>$0$</td>\n",
    "      <td>$1$</td>\n",
    "      <td>$\\hspace{7mm}0$</td>  \n",
    "      <td>$\\hspace{7mm}0$</td>\n",
    "      <td>$\\hspace{6mm}0$</td>\n",
    "    </tr>\n",
    "    <tr>\n",
    "      <td>$1$</td>\n",
    "      <td>$0$</td>\n",
    "      <td>$\\hspace{7mm}0$</td>  \n",
    "      <td>$\\hspace{7mm}0$</td>\n",
    "      <td>$\\hspace{6mm}0$</td>\n",
    "    </tr>\n",
    "    <tr>\n",
    "      <td>$1$</td>\n",
    "      <td>$1$</td>\n",
    "      <td>$\\hspace{7mm}1$</td>  \n",
    "      <td>$\\hspace{7mm}0$</td>\n",
    "      <td>$\\hspace{6mm}1$</td>\n",
    "    </tr>\n",
    "  </tbody>\n",
    "</table>\n",
    "\n",
    "Now, looking at our Truth Table, we first perform the $\\textbf{AND}$ operator on $x_1, x_2$. Then, as we discussed, we perform a $\\textbf{NOR}$ operator on $x_1, x_2$. See at the end we are left with the values $[1, 0, 0, 1]$, respectfully after peforming the $\\textbf{OR}$ operator.\n",
    "\n",
    "To compare our result, let's look at a Truth Table for a $\\textbf{XNOR}$.\n",
    "\n",
    "<table>\n",
    "  <thead>\n",
    "    <tr>\n",
    "      <th>$x_1$</th>\n",
    "      <th>$x_2$</th>\n",
    "      <th>$x_1$ XNOR $x_2$</th>\n",
    "    </tr>\n",
    "  </thead>\n",
    "  <tbody>\n",
    "    <tr>\n",
    "      <td>$0$</td>\n",
    "      <td>$0$</td>\n",
    "      <td>$\\hspace{7mm}1$</td>  \n",
    "    </tr>\n",
    "    <tr>\n",
    "      <td>$0$</td>\n",
    "      <td>$1$</td>\n",
    "      <td>$\\hspace{7mm}0$</td>  \n",
    "    </tr>\n",
    "    <tr>\n",
    "      <td>$1$</td>\n",
    "      <td>$0$</td>\n",
    "      <td>$\\hspace{7mm}0$</td>  \n",
    "    </tr>\n",
    "    <tr>\n",
    "      <td>$1$</td>\n",
    "      <td>$1$</td>\n",
    "      <td>$\\hspace{7mm}1$</td>  \n",
    "    </tr>\n",
    "</table>\n",
    "\n",
    "Sure enough, this checks out. An $\\textbf{XNOR}$ returns us the values $[1, 0, 0, 1]$ which is the SAME result we got from doing an $\\textbf{OR}$ on and $\\textbf{AND}$ and $\\textbf{NOR}$ from earlier! $\\checkmark$\n",
    "\n",
    "- The Matrices for Weights ($W_1, W_2$), and Vectors for our Bias Values ($b_1, b_2$)\n",
    "\n",
    "$W_1 = \\begin{bmatrix} 1 & -1 \\\\ 1 & -1 \\end{bmatrix}$, $W_2 = \\begin{bmatrix} 1 \\\\ 1 \\end{bmatrix}$\n",
    "\n",
    "$b_1 = \\begin{bmatrix} -1.5 \\\\ 0.5 \\end{bmatrix}$, $b_2 = \\begin{bmatrix} -0.5 \\end{bmatrix}$"
   ]
  },
  {
   "cell_type": "code",
   "execution_count": 2,
   "metadata": {
    "deletable": false,
    "nbgrader": {
     "cell_type": "code",
     "checksum": "a95bc02f140db70f57390569aeb61fa2",
     "grade": true,
     "grade_id": "cell-330996afb5a81650",
     "locked": false,
     "points": 5,
     "schema_version": 3,
     "solution": true
    }
   },
   "outputs": [
    {
     "name": "stdout",
     "output_type": "stream",
     "text": [
      "Input Values [0, 0] Output Value [1]\n",
      "Input Values [0, 1] Output Value [0]\n",
      "Input Values [1, 0] Output Value [0]\n",
      "Input Values [1, 1] Output Value [1]\n"
     ]
    }
   ],
   "source": [
    "# YOUR CODE HERE\n",
    "#raise NotImplementedError()\n",
    "\n",
    "#--------------------SET UP--------------------#\n",
    "\n",
    "#Split Weight Matrices into 2 seperate cases for W1 and W2.\n",
    "weight_matrices = [[[1, 1], [-1,-1]], [[1,1]]]\n",
    "#Bias Vectors also split into 2 seperate cases for b1 and b2.\n",
    "bias_vectors = [[-1.5, 0.5], [-0.5]]\n",
    "#Initialize our test cases, all sample inputs of x1 and x2.\n",
    "input_vals = [[0,0], [0,1], [1,0], [1,1]]\n",
    "\n",
    "#--------------FUNCTION DEFINITIONS-------------#\n",
    "\n",
    "def activation_func(weight_matrices, bias_vectors, input_vals):\n",
    "    #Take the activation value and initialize it to the length of the Bias Vector.\n",
    "    lenBias = len(bias_vectors)\n",
    "    activation_val = lenBias * [1]\n",
    "    #For each value in weight matrix...\n",
    "    for i in range(len(weight_matrices)):\n",
    "        #Do the dot product of our weight and our input value (This is that w * x step.)\n",
    "        dotVal = np.dot(input_vals, weight_matrices[i])\n",
    "        #Indicator Function check.\n",
    "        if(dotVal + bias_vectors[i] <= 0):\n",
    "            activation_val[i] = 0\n",
    "        else:\n",
    "            activation_val[i] = 1\n",
    "    return activation_val\n",
    "\n",
    "def compute_xnor(weight_matrices, bias_vectors, input_vals):\n",
    "    #Compute our yhat value.\n",
    "    yVal = []\n",
    "    #For each of our x's\n",
    "    for xs in input_vals:\n",
    "        res = xs\n",
    "        for i in range(len(bias_vectors)):\n",
    "            #Use the activation function\n",
    "            res = activation_func(weight_matrices[i], bias_vectors[i], res)\n",
    "        yVal.append(res)  \n",
    "    return yVal\n",
    "\n",
    "#----------------TESTING FUNCTION---------------#\n",
    "\n",
    "def print_results(weight_matrices, bias_vectors, input_vals):\n",
    "    xnorComputation = compute_xnor(weight_matrices, bias_vectors, input_vals)\n",
    "    inputLen = len(input_vals)\n",
    "    for j in range(inputLen):\n",
    "        #Print out the Input Value and Output Value side by side.\n",
    "        print(\"Input Values\", input_vals[j], \"Output Value\", xnorComputation[j])\n",
    "\n",
    "print_results(weight_matrices, bias_vectors, input_vals)"
   ]
  },
  {
   "cell_type": "markdown",
   "metadata": {},
   "source": [
    "Sure enough, I got the right outputs that are expected from an $\\textbf{XNOR}$ operation. I got the corresponding correct values for the Truth Table, $[1, 0, 0, 1]$. $\\checkmark$"
   ]
  },
  {
   "cell_type": "markdown",
   "metadata": {
    "deletable": false,
    "editable": false,
    "nbgrader": {
     "cell_type": "markdown",
     "checksum": "d9331334251af83bcd546a096b90eac7",
     "grade": false,
     "grade_id": "cell-410d0399fa830fab",
     "locked": true,
     "schema_version": 3,
     "solution": false,
     "task": false
    }
   },
   "source": [
    "[25 points] Problem 2 - Back propagation\n",
    "---\n",
    "\n",
    "In this problem you will gain some intuition about why training deep neural networks can be very time consuming.  Consider training a chain-like neural network: \n",
    "\n",
    "![chain-like nn](figs/chain_net.png)\n",
    "\n",
    "Note that this network has three weights $W^1, W^2, W^3$ and three biases $b^1, b^2,$ and $b^3$ (for this problem you can think of each parameter as a single value or as a $1 \\times 1$ matrix). Suppose that each hidden and output neuron is equipped with a sigmoid activation function and the loss function is given by \n",
    "\n",
    "$$\n",
    "\\ell(y, a^4) = \\frac{1}{2}(y - a^4)^2  \n",
    "$$\n",
    "\n",
    "where $a^4$ is the value of the activation at the output neuron and $y \\in \\{0,1\\}$ is the true label associated with the training example. "
   ]
  },
  {
   "cell_type": "markdown",
   "metadata": {
    "deletable": false,
    "editable": false,
    "nbgrader": {
     "cell_type": "markdown",
     "checksum": "c8c9f47b89404edf8e682707be900291",
     "grade": false,
     "grade_id": "cell-4337ff6b53b1760a",
     "locked": true,
     "schema_version": 3,
     "solution": false,
     "task": false
    }
   },
   "source": [
    "### Part 1 [5 points]\n",
    "Suppose each of the weights is initialized to $W^k = 1.0$ and each bias is initialized to $b^k = -0.5$.  Use forward propagation to find the activities and activations associated with each hidden and output neuron for the training example $(x, y) = (0.5,0)$. Show your work. "
   ]
  },
  {
   "cell_type": "markdown",
   "metadata": {},
   "source": [
    "**SOURCES USED:**\n",
    "\n",
    "1 - (Types of Activation Functions) https://missinglink.ai/guides/neural-network-concepts/7-types-neural-network-activation-functions-right/"
   ]
  },
  {
   "cell_type": "markdown",
   "metadata": {
    "deletable": false,
    "nbgrader": {
     "cell_type": "markdown",
     "checksum": "5ed8ae08caeac509ef436f5d18c8223c",
     "grade": true,
     "grade_id": "cell-6512c42fc5e9ce1b",
     "locked": false,
     "points": 5,
     "schema_version": 3,
     "solution": true
    }
   },
   "source": [
    "**(SOLUTION):**\n",
    "\n",
    "We use $\\sigma$ as our Sigmoid Activation Function, and we know that out $a$ values are the Activations we need. We are given that $W^1, W^2, W^3$ are all intialized to $1$, and we know that our biases $b^1, b^2, b^3$ are all initialized to $-0.5$.\n",
    "\n",
    "Now, we know our $\\textbf{Input Layer}$ will be $a^1 = x$. So, $a^1 = 0.5$\n",
    "\n",
    "Let's look at the $\\textbf{Hidden Layer}$ now.\n",
    "\n",
    "Starting with $z^2$, and $a^2$...\n",
    "\n",
    "$z^2 = (W^1 \\cdot x) + b^1 = (1 \\cdot 0.5) - 0.5 = 0$\n",
    "\n",
    "$a^2 = \\sigma(z^2) = \\sigma(0) = 0.5$\n",
    "\n",
    "Now, onto $z^3$ and $a^3$...\n",
    "\n",
    "$z^3 = (W^2 \\cdot a^2) + b^2 = (1 \\cdot 0.5) - 0.5 = 0$\n",
    "\n",
    "$a^3 = \\sigma(z^3) = \\sigma(0) = 0.5$\n",
    "\n",
    "Finally, we get to the $\\textbf{Output Layer}$.\n",
    "\n",
    "$z^4 = (W^3 \\cdot a^3) + b^3 = (1 \\cdot 0.5) - 0.5 = 0$\n",
    "\n",
    "$a^4 = \\sigma(z^4) = \\sigma(0) = 0.5$\n",
    "\n",
    "So, in conclusion...\n",
    "\n",
    "$$\\hat{y} = a^4 = 0.5 \\checkmark$$"
   ]
  },
  {
   "cell_type": "markdown",
   "metadata": {
    "deletable": false,
    "editable": false,
    "nbgrader": {
     "cell_type": "markdown",
     "checksum": "a30f5d6c6d44bf28c59d9456bd916e2d",
     "grade": false,
     "grade_id": "cell-77928f9f19f6876f",
     "locked": true,
     "schema_version": 3,
     "solution": false,
     "task": false
    }
   },
   "source": [
    "### Part 2 [5 points]:\n",
    "Use Back-Propagation to compute the weight and bias derivatives $\\partial \\ell / \\partial W^k$ and $\\partial \\ell / \\partial b^k$ for $k=1, 2, 3$.  Show all work. "
   ]
  },
  {
   "cell_type": "markdown",
   "metadata": {
    "deletable": false,
    "nbgrader": {
     "cell_type": "markdown",
     "checksum": "d95b2a0dc16f45336d915205d119763a",
     "grade": true,
     "grade_id": "cell-6a3b895fa888e925",
     "locked": false,
     "points": 5,
     "schema_version": 3,
     "solution": true
    }
   },
   "source": [
    "**(SOLUTION):**\n",
    "\n",
    "Let's start with our $\\textbf{Output Layer}$, $L = 3$.\n",
    "\n",
    "$\\delta^{3} = (a^4 - y) \\cdot \\sigma'(z^3)$\n",
    "\n",
    "$= (a^4 - y) \\cdot (\\sigma(z^3) \\cdot (1 - \\sigma(z^3))$\n",
    "\n",
    "$= (0.5 - 0) \\cdot (\\sigma(0) \\cdot (1 - \\sigma(0))$\n",
    "\n",
    "$= 0.5 \\cdot (0.5 \\cdot 0.5) = 0.125$\n",
    "\n",
    "$\\frac{\\partial \\ell}{\\partial W^3} = \\delta^{3} \\cdot (a^3)^T$\n",
    "\n",
    "$= 0.125 \\cdot (0.5)^T = 0.0625$\n",
    "\n",
    "$\\frac{\\partial \\ell}{\\partial b^3} = \\delta^{3} = 0.125$\n",
    "\n",
    "Now, let's look at the $\\textbf{Hidden Layer}$, $L = 2$.\n",
    "\n",
    "$\\delta^{2} = (W^3)^{T} \\cdot \\delta^3 \\cdot \\sigma'(z^2)$\n",
    "\n",
    "$= 1 \\cdot 0.125 \\cdot (\\sigma(0) \\cdot (1 - \\sigma(0))$\n",
    "\n",
    "$= 0.125 \\cdot (0.5 \\cdot 0.5) = 0.03125$\n",
    "\n",
    "$\\frac{\\partial \\ell}{\\partial W^2} = \\delta^2 \\cdot a^2$\n",
    "\n",
    "$= 0.03125 \\cdot 0.5 = 0.015625$\n",
    "\n",
    "$\\frac{\\partial \\ell}{\\partial b^2} = \\delta^2 = 0.03125$\n",
    "\n",
    "Finally, let's look at our $L = 1$.\n",
    "\n",
    "$\\delta^1 = (W^2)^{T} \\cdot \\delta^2 \\cdot \\sigma'(z^1)$\n",
    "\n",
    "$= 1 \\cdot 0.03125 \\cdot (\\sigma(0) \\cdot (1 - \\sigma(0))$\n",
    "\n",
    "$= 0.03125 \\cdot (0.5 \\cdot 0.5) = 0.0078125$\n",
    "\n",
    "$\\frac{\\partial \\ell}{\\partial W^1} = \\delta^1 \\cdot (a^1)$\n",
    "\n",
    "$=  0.0078125 \\cdot 0.5 = 0.003906$\n",
    "\n",
    "$\\frac{\\partial \\ell}{\\partial b^1} = \\delta^1 = 0.0078125 \\checkmark$"
   ]
  },
  {
   "cell_type": "markdown",
   "metadata": {
    "deletable": false,
    "editable": false,
    "nbgrader": {
     "cell_type": "markdown",
     "checksum": "768509621e57448e39d97e333e719201",
     "grade": false,
     "grade_id": "cell-161b07ac7c31e3c3",
     "locked": true,
     "schema_version": 3,
     "solution": false,
     "task": false
    }
   },
   "source": [
    "### Part 3 [5 points]\n",
    "Implement the following activation functions in NumPy:\n",
    "* ReLU\n",
    "* Sigmoid\n",
    "* softmax\n",
    "Please **do not use any other external libraries** for this such as sklearn."
   ]
  },
  {
   "cell_type": "markdown",
   "metadata": {},
   "source": [
    "**SOURCES USED:**\n",
    "\n",
    "1 - (Understanding ReLU, Sigmoid, SoftMax) https://medium.com/@cmukesh8688/activation-functions-sigmoid-tanh-relu-leaky-relu-softmax-50d3778dcea5"
   ]
  },
  {
   "cell_type": "code",
   "execution_count": 3,
   "metadata": {
    "deletable": false,
    "nbgrader": {
     "cell_type": "code",
     "checksum": "c3095d722bd4a8f2fdf5aaca330d63aa",
     "grade": false,
     "grade_id": "cell-3b7e3adaffe2c2ee",
     "locked": false,
     "schema_version": 3,
     "solution": true
    }
   },
   "outputs": [],
   "source": [
    "def relu(x):\n",
    "    # YOUR CODE HERE\n",
    "    #raise NotImplementedError()\n",
    "    if(x > 0.0):\n",
    "        return x\n",
    "    else:\n",
    "        return 0.0\n",
    "\n",
    "def sigmoid(x):\n",
    "    # YOUR CODE HERE\n",
    "    #raise NotImplementedError()\n",
    "    sigmVal = (1.0 / (1.0 + np.exp(-x)))\n",
    "    return sigmVal\n",
    "\n",
    "def softmax(x):\n",
    "    # YOUR CODE HERE\n",
    "    #raise NotImplementedError()\n",
    "    expVal = np.exp(x)\n",
    "    summation = np.sum(np.exp(x))\n",
    "    res = expVal / summation\n",
    "    return res"
   ]
  },
  {
   "cell_type": "code",
   "execution_count": 4,
   "metadata": {
    "deletable": false,
    "editable": false,
    "nbgrader": {
     "cell_type": "code",
     "checksum": "a8ff3566873a584f28b89bd21c0689e6",
     "grade": true,
     "grade_id": "cell-0bded3752d3226b9",
     "locked": true,
     "points": 5,
     "schema_version": 3,
     "solution": false
    }
   },
   "outputs": [
    {
     "name": "stderr",
     "output_type": "stream",
     "text": [
      "TestRelu (tests.tests.TestActiv) ... ok\n",
      "TestSigmoid (tests.tests.TestActiv) ... ok\n",
      "TestSoftmax (tests.tests.TestActiv) ... ok\n",
      "\n",
      "----------------------------------------------------------------------\n",
      "Ran 3 tests in 0.009s\n",
      "\n",
      "OK\n"
     ]
    }
   ],
   "source": [
    "# random tests for checking your impementation.\n",
    "from tests import tests\n",
    "tests.run_test_suite('prob 2.3', (relu, sigmoid, softmax))"
   ]
  },
  {
   "cell_type": "markdown",
   "metadata": {
    "deletable": false,
    "editable": false,
    "nbgrader": {
     "cell_type": "markdown",
     "checksum": "a185c9a75c41d12ed1c797a0592301a9",
     "grade": false,
     "grade_id": "cell-f97c1b3bf8c79803",
     "locked": true,
     "schema_version": 3,
     "solution": false,
     "task": false
    }
   },
   "source": [
    "### Part 4 [5 points] \n",
    "Implement the following Loss functions in NumPy:\n",
    "* mean squared error\n",
    "* mean absolute error\n",
    "* hinge\n",
    "\n",
    "Please **do not use any other external libraries** for this such as sklearn."
   ]
  },
  {
   "cell_type": "markdown",
   "metadata": {},
   "source": [
    "**SOURCES USED:**\n",
    "\n",
    "1 - (Understanding MSE) https://www.geeksforgeeks.org/python-mean-squared-error/\n",
    "\n",
    "2 - (Understanding MAE) https://medium.com/@ewuramaminka/mean-absolute-error-mae-sample-calculation-6eed6743838a\n",
    "\n",
    "3 - (Loss Functions like Hinge) https://medium.com/analytics-vidhya/understanding-loss-functions-hinge-loss-a0ff112b40a1"
   ]
  },
  {
   "cell_type": "code",
   "execution_count": 5,
   "metadata": {
    "deletable": false,
    "nbgrader": {
     "cell_type": "code",
     "checksum": "82e56ad803e5c2c632c83373c33c163e",
     "grade": false,
     "grade_id": "cell-84456d343bfeca31",
     "locked": false,
     "schema_version": 3,
     "solution": true
    }
   },
   "outputs": [],
   "source": [
    "def mean_squared_error(yhat, y):\n",
    "    # YOUR CODE HERE\n",
    "    #raise NotImplementedError()\n",
    "    sub = np.subtract(y, yhat)\n",
    "    square = np.square(sub).mean()\n",
    "    return square\n",
    "    \n",
    "def mean_absolute_error(yhat, y):\n",
    "    # YOUR CODE HERE\n",
    "    #raise NotImplementedError()\n",
    "    sub = np.subtract(y, yhat)\n",
    "    absVal = abs(sub).mean()\n",
    "    return absVal\n",
    "\n",
    "def hinge(yhat, y):\n",
    "    # YOUR CODE HERE\n",
    "    #raise NotImplementedError()\n",
    "    e = 0.0\n",
    "    yShape = y.shape[0]\n",
    "    for i in range(0, yShape):\n",
    "        mult = y[i] * yhat[i]\n",
    "        maxVal = max(0, (1 - mult))\n",
    "        e = e + maxVal\n",
    "    e = e / yShape\n",
    "    return e"
   ]
  },
  {
   "cell_type": "code",
   "execution_count": 6,
   "metadata": {
    "deletable": false,
    "editable": false,
    "nbgrader": {
     "cell_type": "code",
     "checksum": "19c1adbc6aedcb50386631e966db71a3",
     "grade": true,
     "grade_id": "cell-550e920d814cb6d3",
     "locked": true,
     "points": 5,
     "schema_version": 3,
     "solution": false
    }
   },
   "outputs": [
    {
     "name": "stderr",
     "output_type": "stream",
     "text": [
      "TestMSE (tests.tests.TestLoss) ... ok\n",
      "TestMAE (tests.tests.TestLoss) ... ok\n",
      "TestHinge (tests.tests.TestLoss) ... ok\n",
      "\n",
      "----------------------------------------------------------------------\n",
      "Ran 3 tests in 0.006s\n",
      "\n",
      "OK\n"
     ]
    }
   ],
   "source": [
    "# random tests for checking your impementation.\n",
    "from tests import tests\n",
    "tests.run_test_suite('prob 2.4', (mean_squared_error, mean_absolute_error, hinge))"
   ]
  },
  {
   "cell_type": "markdown",
   "metadata": {
    "deletable": false,
    "editable": false,
    "nbgrader": {
     "cell_type": "markdown",
     "checksum": "406a8e23787fe614a2489ada61b0cdbb",
     "grade": false,
     "grade_id": "cell-e4c6962049a18e97",
     "locked": true,
     "schema_version": 3,
     "solution": false,
     "task": false
    }
   },
   "source": [
    "### Part 5 [5 points]\n",
    "Explain the vanishing gradient problem. When would you observe this? Give an example."
   ]
  },
  {
   "cell_type": "markdown",
   "metadata": {},
   "source": [
    "**SOURCES USED:**\n",
    "\n",
    "1 - (Understanding Vanishing Gradient) https://en.wikipedia.org/wiki/Vanishing_gradient_problem\n",
    "\n",
    "2 - (Where these Problems Occur/Why) https://www.mygreatlearning.com/blog/the-vanishing-gradient-problem/"
   ]
  },
  {
   "cell_type": "markdown",
   "metadata": {
    "deletable": false,
    "nbgrader": {
     "cell_type": "markdown",
     "checksum": "550c7233d3dc395aa4965b23ce1126a4",
     "grade": true,
     "grade_id": "cell-59ccf91056b5d8bb",
     "locked": false,
     "points": 5,
     "schema_version": 3,
     "solution": true
    }
   },
   "source": [
    "**(SOLUTION):**\n",
    "\n",
    "- Explaining the Vanishing Gradient Problem\n",
    "\n",
    "The Vanishing Gradient Problem is a problem that happens when you train a Neural Network using Back Propogation and Gradients. What happens is that models that use Gradients for instance Gradient Descent, or Stocahstic Gradient Descent, all of your Weights and Biases at any Layer are updated via the Derivative of a Loss Function w/ respect to all of your Biases and Weights at that layer and with Eta, your learning rate parameter. Now if this Derivative, (i.e Gradient), is a really small value then the updates you recieve for your Bias and Weights will be really small too. Now if those updates are extremely small, then it defeats the purpose because your model is only learning a VERY small amount. This is not exactly Optimal, we want our Model to be able to learn a lot, so with a small learning rate we aren't doing great in that aspect. To take a closer look at this issue, we can learn that it happens because the Gradient Updates for both Bias (denoted as $\\frac{\\partial C}{\\partial b^l}$) and Weights (denoted as $\\frac{\\partial C}{\\partial W^l}$) come from taking products of the derivatives which show up further on in our Network (This means that in the Layers where $L > 1$). What happens is that if our values are $< 1$, then the product we get from them will also be very small. the sooner a Layer shows up in our Network the more our Gradient Values for $W$ and $b$ will depend on them, and this dependenacy is what can cause them to become lesser and lesser significant. Our updates won't matter much anymore, and our Learning Rate is already a small value so the Update can further become smaller. $\\checkmark$ \n",
    "\n",
    "- When can we Observe this?\n",
    "\n",
    "We can observe this problem when our Network is built really deep, even perhaps if we used a Sigmoid as our Loss Function, or can also be observed when our Weights lie between $0$ and $1$ (Gaussian Values). $\\checkmark$"
   ]
  },
  {
   "cell_type": "markdown",
   "metadata": {
    "deletable": false,
    "editable": false,
    "nbgrader": {
     "cell_type": "markdown",
     "checksum": "80c63b94db61c0e3c652b020a8cc1ff8",
     "grade": false,
     "grade_id": "cell-85519893ca971e10",
     "locked": true,
     "schema_version": 3,
     "solution": false,
     "task": false
    }
   },
   "source": [
    "[23 Points] Problem 3 - Build a feedforward neural network in NumPy\n",
    "---\n",
    "\n",
    "In this problem you will implement a class representing a general feed-forward neural network that utilizes the sigmoid activation functions. Your tasks will be to implement forward propagation, prediction, back propagation, and a general train routine to learn the weights in your network via stochastic gradient descent.\n",
    "\n",
    "The skeleton for the network class is below. Note that this class is almost identical to the one you worked with in the \"hands-on neural network\" in-class notebook, so you should look at there to remind yourself of the details. Scroll down to find more information about your tasks as well as unit tests. As with the previous problem, nothing in this problem should use any external libraries apart from numpy. "
   ]
  },
  {
   "cell_type": "markdown",
   "metadata": {},
   "source": [
    "**SOURCES USED:**\n",
    "\n",
    "1 - (Understanding self.keep_prob) https://stackoverflow.com/questions/35545798/keep-prob-in-tensorflow-mnist-tutorial\n",
    "\n",
    "2 - (Dropouts/self.keep_prob) https://www.programcreek.com/python/example/93662/tensorflow.python.ops.rnn_cell.DropoutWrapper\n",
    "\n",
    "3 - (Back Propogation) https://stats.stackexchange.com/questions/219236/dropout-forward-prop-vs-back-prop-in-machine-learning-neural-network\n",
    "\n",
    "4 - (More about Back Propogation) https://towardsdatascience.com/simplified-math-behind-dropout-in-deep-learning-6d50f3f47275\n",
    "\n",
    "5 - (Zip in Python) https://www.geeksforgeeks.org/zip-in-python/\n",
    "\n",
    "6 - (Randomization in Dropout) https://visualstudiomagazine.com/articles/2018/02/01/neural-network-dropout.aspx"
   ]
  },
  {
   "cell_type": "code",
   "execution_count": 7,
   "metadata": {
    "deletable": false,
    "nbgrader": {
     "cell_type": "code",
     "checksum": "d5435e7587f8c97f354a1242ab8e1cbc",
     "grade": false,
     "grade_id": "cell-b8abc0ac570aac74",
     "locked": false,
     "schema_version": 3,
     "solution": true
    }
   },
   "outputs": [],
   "source": [
    "import argparse\n",
    "import numpy as np\n",
    "import pickle\n",
    "import gzip\n",
    "import matplotlib.pyplot as plt\n",
    "\n",
    "\n",
    "class Network:\n",
    "    def __init__(self, sizes, keep_prob=-1):\n",
    "        self.L = len(sizes)\n",
    "        self.sizes = sizes\n",
    "        self.biases = [np.random.randn(n, 1) for n in self.sizes[1:]]\n",
    "        self.weights = [np.random.randn(n, m) for (\n",
    "            m, n) in zip(self.sizes[:-1], self.sizes[1:])]\n",
    "        self.keep_prob = keep_prob\n",
    "        self.acc_train_array = []\n",
    "        self.acc_test_array = []\n",
    "\n",
    "    def g(self, z):\n",
    "        \"\"\"\n",
    "        activation function\n",
    "        \"\"\"\n",
    "        return sigmoid(z)\n",
    "\n",
    "    def g_prime(self, z):\n",
    "        \"\"\"\n",
    "        derivative of activation function\n",
    "        \"\"\"\n",
    "        return sigmoid_prime(z)\n",
    "\n",
    "    def forward_prop(self, a):\n",
    "        \"\"\"\n",
    "        memory aware forward propagation for testing\n",
    "        only.  back_prop implements it's own forward_prop\n",
    "        \"\"\"\n",
    "        # YOUR CODE HERE\n",
    "        #raise NotImplementedError()\n",
    "        for i in range(self.L - 1):\n",
    "            #Get the weights and biases at index i\n",
    "            weights = self.weights[i]\n",
    "            biases = self.biases[i]\n",
    "            #Use dot product with weights and a and add the bias\n",
    "            zVal = np.dot(weights, a) + biases\n",
    "            #Use activation function\n",
    "            a = self.g(zVal)\n",
    "        return a\n",
    "\n",
    "    def grad_cost(self, a, y):\n",
    "        \"\"\"\n",
    "        gradient of cost function\n",
    "        Assumes C(a,y) = (a-y)^2/2\n",
    "        \"\"\"\n",
    "        return (a - y)\n",
    "    \n",
    "    def log_train_progress(self, train, test, epoch):\n",
    "        \"\"\" Logs training progres. \n",
    "        \"\"\"\n",
    "        acc_train = self.evaluate(train)\n",
    "        self.acc_train_array.append(acc_train)\n",
    "        if test is not None:\n",
    "            acc_test = self.evaluate(test)\n",
    "            self.acc_test_array.append(acc_test)\n",
    "            print(\"Epoch {:4d}: Train {:10.5f}, Test {:10.5f}\".format(\n",
    "                epoch+1, acc_train, acc_test))\n",
    "        else:\n",
    "            print(\"Epoch {:4d}: Train {:10.5f}\".format(\n",
    "                epoch+1, acc_train))\n",
    "            \n",
    "\n",
    "    def SGD_train(self, train, epochs, eta, lam=0.0, verbose=True, test=None):\n",
    "        \"\"\"\n",
    "        SGD for training parameters\n",
    "        epochs is the number of epocs to run\n",
    "        eta is the learning rate\n",
    "        lam is the regularization parameter\n",
    "        If verbose is set will print progressive accuracy updates\n",
    "        If test set is provided, routine will print accuracy on test set as learning evolves\n",
    "        \"\"\"\n",
    "        n_train = len(train)\n",
    "        for epoch in range(epochs):\n",
    "            perm = np.random.permutation(n_train)\n",
    "            for kk in range(n_train):\n",
    "                self.SGD_step(*train[perm[kk]], eta, lam)\n",
    "            if verbose and epoch == 0 or (epoch + 1) % 20 == 0:\n",
    "                self.log_train_progress(train, test, epoch)\n",
    "    \n",
    "    def SGD_step(self, x, y, eta, lam):\n",
    "        \"\"\"\n",
    "        TODO: get gradients with x, y and do SGD on weights and biases\n",
    "\n",
    "        Args:\n",
    "            x: single sample features.\n",
    "            y: single sample target.\n",
    "            eta: learning rate.\n",
    "            lam: Regularization parameter.\n",
    "                \n",
    "        \"\"\"\n",
    "        # TODO: get gradients with xk, yk and do SGD on weights and biases\n",
    "        # YOUR CODE HERE\n",
    "        #raise NotImplementedError()\n",
    "        #Adding this for EC Dropout Problem\n",
    "        if(self.keep_prob != -1):\n",
    "            #Use back prop dropout if probability not -1\n",
    "            d_weights, d_bias = self.back_prop_dropout(x, y)\n",
    "        #Use normal dropout Function\n",
    "        else:\n",
    "            d_weights, d_bias = self.back_prop(x, y)\n",
    "        rangeVal = (self.L - 1)\n",
    "        for i in range(rangeVal):\n",
    "            #Update bias and weight\n",
    "            self.biases[i] = self.biases[i] - eta * d_bias[i]\n",
    "            lampart = (1 - lam*eta)\n",
    "            self.weights[i] = self.weights[i] * lampart - eta * d_weights[i]\n",
    "\n",
    "    def back_prop(self, x, y):\n",
    "        \"\"\"\n",
    "        Back propagation for derivatives of C wrt parameters\n",
    "        \"\"\"\n",
    "        db_list = [np.zeros(b.shape) for b in self.biases]\n",
    "        dW_list = [np.zeros(W.shape) for W in self.weights]\n",
    "        \n",
    "        a = x\n",
    "        a_list = [a]\n",
    "        z_list = [np.zeros(a.shape)]  # Pad with a placeholder so that indices match\n",
    "\n",
    "        for W, b in zip(self.weights, self.biases):\n",
    "            z = np.dot(W, a) + b\n",
    "            z_list.append(z)\n",
    "            a = self.g(z)\n",
    "            a_list.append(a)\n",
    "\n",
    "        # Back propagate deltas to compute derivatives\n",
    "        # The following list gives hints on how to do it\n",
    "        # calculating delta (Error) for the output layer\n",
    "        # for the appropriate layers compute db_list[ell], dW_list[ell], delta\n",
    "\n",
    "        # YOUR CODE HERE\n",
    "        #raise NotImplementedError()\n",
    "        #Initializing everything I need here\n",
    "        selfL = self.L - 1\n",
    "        aVal = a_list[selfL]\n",
    "        zVal = z_list[selfL]\n",
    "        p1 = (aVal - y)\n",
    "        #Taking the sigmoid activation\n",
    "        prime_func = self.g_prime(zVal)\n",
    "        #Update Delta\n",
    "        delta_value = p1 * prime_func\n",
    "        range1 = (self.L - 2)\n",
    "        #Want to change the range here make sure\n",
    "        for i in range(range1, -1, -1):\n",
    "            #Update Weight/Bias list with Delta and a\n",
    "            dW_list[i] = np.outer(delta_value, a_list[i])\n",
    "            db_list[i] = delta_value\n",
    "            #Take transpose\n",
    "            transposeWeights = self.weights[i].transpose()\n",
    "            #Put z in activation sigmoid\n",
    "            zValUpdated = self.g_prime(z_list[i])\n",
    "            #Get delta\n",
    "            delta_value = np.dot(transposeWeights, delta_value) * zValUpdated\n",
    "        return (dW_list, db_list)\n",
    "    \n",
    "    def back_prop_dropout(self, x, y):\n",
    "        \"\"\"\n",
    "        Back propagation with dropout on the hidden layers other than the output layer.\n",
    "        \n",
    "        Dropout layer can be thought of as a special linear layer between layers.\n",
    "        \"\"\"\n",
    "        db_list = [np.zeros(b.shape) for b in self.biases]\n",
    "        dW_list = [np.zeros(W.shape) for W in self.weights]\n",
    "        \n",
    "        a = x\n",
    "        a_list = [a]\n",
    "        z_list = [np.zeros(a.shape)]  # Pad with a placeholder so that indices match\n",
    "        # TODO: implement dropout using self.keep_prob\n",
    "        # YOUR CODE HERE\n",
    "        #raise NotImplementedError()\n",
    "        deltaValue = []\n",
    "        zipped = zip(self.weights, self.biases)\n",
    "        #Will iterate through weights and bias at an index\n",
    "        for i, (weight, bias) in enumerate(zipped):\n",
    "            #Take dot product of weight and a\n",
    "            dotted = np.dot(weight, a)\n",
    "            #Initialize z\n",
    "            zValue = dotted + bias\n",
    "            #Append z to the list of z's\n",
    "            z_list.append(zValue)\n",
    "            #Update a w/ the activation on z\n",
    "            a = self.g(zValue)\n",
    "            #Just a range value\n",
    "            checker = len(self.weights) - 1\n",
    "            if(i != checker):\n",
    "                for i in range(len(a)):\n",
    "                    #The most common form of neural network dropout randomly selects half of a neural network's \n",
    "                    #hidden nodes, at each training iteration, and programmatically drops them.\n",
    "                    r = random.random()\n",
    "                    #Check against self.keep_prob\n",
    "                    if(r > self.keep_prob):\n",
    "                        a[i] = 0\n",
    "            #Append a based on this random choice \n",
    "            a_list.append(a)\n",
    "        rangeVal = (self.L - 1)\n",
    "        #Initialize a list of our delta values\n",
    "        deltaValue = [np.zeros((n, 1)) for n in self.sizes]\n",
    "        #Computer the cost\n",
    "        p1 = self.grad_cost(a_list[rangeVal], y)\n",
    "        #Compute sigmoid on z \n",
    "        pPrime = self.g_prime(z_list[rangeVal])\n",
    "        deltaValue[rangeVal] = p1 * pPrime\n",
    "        for i in range(rangeVal, 0, -1):\n",
    "            db_list[i - 1] = deltaValue[i]\n",
    "            #Take transpose\n",
    "            a_transpose = a_list[i - 1].T\n",
    "            dW_list[i - 1] = np.dot(deltaValue[i], a_transpose)\n",
    "            #Take transpose\n",
    "            w_transpose = self.weights[i - 1].T\n",
    "            #Sigmoid Activation\n",
    "            gPrimeVal = self.g_prime(z_list[i - 1])\n",
    "            #Update delta\n",
    "            deltaValue[i - 1] = np.dot(w_transpose, deltaValue[i]) * gPrimeVal\n",
    "        return (dW_list, db_list)\n",
    "\n",
    "    def evaluate(self, test):\n",
    "        \"\"\"\n",
    "        Evaluate current model on labeled test data\n",
    "        \"\"\"\n",
    "        ctr = 0\n",
    "        for x, y in test:\n",
    "            yhat = self.forward_prop(x)\n",
    "            ctr += yhat.argmax() == y.argmax()\n",
    "        return float(ctr) / float(len(test))\n",
    "\n",
    "\n",
    "def sigmoid(z, threshold=20):\n",
    "    z = np.clip(z, -threshold, threshold)\n",
    "    return 1.0 / (1.0 + np.exp(-z))\n",
    "\n",
    "\n",
    "def sigmoid_prime(z):\n",
    "    return sigmoid(z) * (1.0 - sigmoid(z))\n",
    "\n",
    "\n",
    "def mnist_digit_show(flatimage, outname=None):\n",
    "\n",
    "    import matplotlib.pyplot as plt\n",
    "\n",
    "    image = np.reshape(flatimage, (-1, 14))\n",
    "\n",
    "    plt.matshow(image, cmap=plt.cm.binary)\n",
    "    plt.xticks([])\n",
    "    plt.yticks([])\n",
    "    if outname:\n",
    "        plt.savefig(outname)\n",
    "    else:\n",
    "        plt.show()"
   ]
  },
  {
   "cell_type": "markdown",
   "metadata": {
    "deletable": false,
    "editable": false,
    "nbgrader": {
     "cell_type": "markdown",
     "checksum": "6ffe07da5b07c9f579a0ce82b68ec614",
     "grade": false,
     "grade_id": "cell-7eed131bbb859104",
     "locked": true,
     "schema_version": 3,
     "solution": false,
     "task": false
    }
   },
   "source": [
    "### Part 1 [15 points]\n",
    "Implement `SGD_step`, `back_prop`, and `forward_prop`. Use the following test cases to verify if the code is working as expected."
   ]
  },
  {
   "cell_type": "code",
   "execution_count": 8,
   "metadata": {
    "deletable": false,
    "editable": false,
    "nbgrader": {
     "cell_type": "code",
     "checksum": "1d6d5f4292a5c37a83b510f0084a5920",
     "grade": true,
     "grade_id": "cell-7632a78793a2588e",
     "locked": true,
     "points": 15,
     "schema_version": 3,
     "solution": false
    }
   },
   "outputs": [
    {
     "name": "stderr",
     "output_type": "stream",
     "text": [
      "TestBackPropWithoutRegularization (tests.tests.TestNetwork) ... ok\n",
      "TestBackPropWithRegularization (tests.tests.TestNetwork) ... ok\n",
      "\n",
      "----------------------------------------------------------------------\n",
      "Ran 2 tests in 0.433s\n",
      "\n",
      "OK\n"
     ]
    }
   ],
   "source": [
    "from tests import tests\n",
    "tests.run_test_suite('prob 3', Network)"
   ]
  },
  {
   "cell_type": "markdown",
   "metadata": {
    "deletable": false,
    "editable": false,
    "nbgrader": {
     "cell_type": "markdown",
     "checksum": "25edf8e016e56588ee1d7b22ce93a10b",
     "grade": false,
     "grade_id": "cell-3a21b0c7d363da0d",
     "locked": true,
     "schema_version": 3,
     "solution": false,
     "task": false
    }
   },
   "source": [
    "### Part 2 [8 points]\n",
    "\n",
    "Run the above Network on MNIST Dataset and report the following (feel free to experiment with different learning rates).\n",
    "\n",
    "* Change the hidden layer dimensions and experiment with these values: [5, 10, 20].\n",
    "* Plot accuracies of different hidden layer dimensions vs. epochs for both training and testing.\n",
    "* Explain the effect of hidden layer dimension on performance. \n",
    "\n",
    "**Note:** Accuracies are stored in `self.acc_train_array` and `self.acc_test_array` if `verbose` is `True`."
   ]
  },
  {
   "cell_type": "code",
   "execution_count": 9,
   "metadata": {},
   "outputs": [
    {
     "name": "stdout",
     "output_type": "stream",
     "text": [
      "Number of Input Features:  196\n",
      "Number of Output classes:  10\n",
      "\n",
      "Hidden Layer Dimensions:  5\n",
      "Epoch    1: Train    0.15726, Test    0.16567\n",
      "Epoch   20: Train    0.81753, Test    0.73349\n",
      "Epoch   40: Train    0.87635, Test    0.79392\n",
      "Epoch   60: Train    0.88756, Test    0.79832\n",
      "Epoch   80: Train    0.88956, Test    0.80152\n",
      "Epoch  100: Train    0.89116, Test    0.79952\n",
      "Epoch  120: Train    0.89836, Test    0.80072\n",
      "Epoch  140: Train    0.89476, Test    0.79472\n",
      "Epoch  160: Train    0.89156, Test    0.80112\n",
      "Epoch  180: Train    0.89636, Test    0.79752\n",
      "Epoch  200: Train    0.90036, Test    0.79952\n",
      "\n",
      "Hidden Layer Dimensions:  10\n",
      "Epoch    1: Train    0.26371, Test    0.26371\n",
      "Epoch   20: Train    0.90996, Test    0.83954\n",
      "Epoch   40: Train    0.93637, Test    0.85914\n",
      "Epoch   60: Train    0.94078, Test    0.86435\n",
      "Epoch   80: Train    0.94638, Test    0.86234\n",
      "Epoch  100: Train    0.94478, Test    0.86234\n",
      "Epoch  120: Train    0.94838, Test    0.86154\n",
      "Epoch  140: Train    0.94838, Test    0.86795\n",
      "Epoch  160: Train    0.95238, Test    0.86635\n",
      "Epoch  180: Train    0.94838, Test    0.86715\n",
      "Epoch  200: Train    0.94718, Test    0.86515\n",
      "\n",
      "Hidden Layer Dimensions:  20\n",
      "Epoch    1: Train    0.46339, Test    0.37615\n",
      "Epoch   20: Train    0.92037, Test    0.84834\n",
      "Epoch   40: Train    0.94118, Test    0.86675\n",
      "Epoch   60: Train    0.95078, Test    0.87475\n",
      "Epoch   80: Train    0.95598, Test    0.87115\n",
      "Epoch  100: Train    0.95518, Test    0.87515\n",
      "Epoch  120: Train    0.95998, Test    0.88275\n",
      "Epoch  140: Train    0.96158, Test    0.87835\n",
      "Epoch  160: Train    0.96038, Test    0.88355\n",
      "Epoch  180: Train    0.96238, Test    0.88035\n",
      "Epoch  200: Train    0.96359, Test    0.88275\n"
     ]
    }
   ],
   "source": [
    "location = './data/tinyMNIST.pkl.gz'\n",
    "f = gzip.open(location, 'rb')\n",
    "u = pickle._Unpickler(f)\n",
    "u.encoding = 'latin1'\n",
    "train, test = u.load()\n",
    "input_dimensions = len(train[0][0])\n",
    "output_dimensions = len(train[0][1])\n",
    "print('Number of Input Features: ', input_dimensions)\n",
    "print('Number of Output classes: ', output_dimensions)\n",
    "\n",
    "nns = []\n",
    "for hidden_layer_dimensions in [5, 10, 20]:\n",
    "    print('\\nHidden Layer Dimensions: ', hidden_layer_dimensions)\n",
    "    nn = Network([input_dimensions, hidden_layer_dimensions, output_dimensions])\n",
    "    nns.append(nn)\n",
    "    nn.SGD_train(train, epochs=200, eta=0.1, lam=0.0001, verbose=True, test=test)"
   ]
  },
  {
   "cell_type": "markdown",
   "metadata": {
    "deletable": false,
    "editable": false,
    "nbgrader": {
     "cell_type": "markdown",
     "checksum": "f93da7a1fb1a534fdba7fccbcacef6c2",
     "grade": false,
     "grade_id": "cell-3a4d12fce7f9f7c0",
     "locked": true,
     "schema_version": 3,
     "solution": false,
     "task": false
    }
   },
   "source": [
    "Plot training and testing accuracies below for each configuration. Use solid lines for testing accuracy, and dotted lines for train accuracy (`ls='dashed`). \n",
    "\n",
    "Be sure to label your lines and match colors accordingly."
   ]
  },
  {
   "cell_type": "code",
   "execution_count": 10,
   "metadata": {
    "deletable": false,
    "nbgrader": {
     "cell_type": "code",
     "checksum": "840bc3dd524f998267f04c6ec2eaa2cb",
     "grade": true,
     "grade_id": "cell-5e86a6c1f3a99b62",
     "locked": false,
     "points": 4,
     "schema_version": 3,
     "solution": true,
     "task": false
    }
   },
   "outputs": [
    {
     "data": {
      "image/png": "[encoded data removed]",
      "text/plain": [
       "<Figure size 1440x720 with 1 Axes>"
      ]
     },
     "metadata": {
      "needs_background": "light"
     },
     "output_type": "display_data"
    }
   ],
   "source": [
    "fig, ax = plt.subplots(nrows=1, ncols=1, figsize=(20,10))\n",
    "epochs_array = [i for i in range(1, 220, 20)]\n",
    "\n",
    "# YOUR CODE HERE\n",
    "#raise NotImplementedError()\n",
    "trainAcc = []\n",
    "for i in nns:\n",
    "    trainAcc.append(i.acc_train_array)\n",
    "\n",
    "testAcc = []\n",
    "for i in nns:\n",
    "    testAcc.append(i.acc_test_array)\n",
    "\n",
    "# YOUR CODE HERE\n",
    "#raise NotImplementedError()\n",
    "\n",
    "HLD = [5, 10, 20]\n",
    "lenArr = len(trainAcc)\n",
    "\n",
    "for i in range(lenArr):\n",
    "    plt.plot(epochs_array, trainAcc[i], label = \"TrainingHiddenLayerDimension\" + str(HLD[i]), ls='dashed')\n",
    "    plt.plot(epochs_array, testAcc[i], label = \"TestingHiddenLayerDimension\" + str(HLD[i]))\n",
    "\n",
    "ax.legend(loc=\"lower right\", fontsize=16)\n",
    "ax.set_xlabel(\"epochs\", fontsize=16)\n",
    "ax.set_ylabel(\"accuracy\", fontsize=16)\n",
    "plt.show()"
   ]
  },
  {
   "cell_type": "markdown",
   "metadata": {
    "deletable": false,
    "editable": false,
    "nbgrader": {
     "cell_type": "markdown",
     "checksum": "9cdbb2067c8b35fc50d7701498c5a636",
     "grade": false,
     "grade_id": "cell-ce9008bef635107d",
     "locked": true,
     "schema_version": 3,
     "solution": false,
     "task": false
    }
   },
   "source": [
    "Give your explanation below."
   ]
  },
  {
   "cell_type": "markdown",
   "metadata": {
    "deletable": false,
    "nbgrader": {
     "cell_type": "markdown",
     "checksum": "c4e73d7bb51d5e82e745832d85ed6aa2",
     "grade": true,
     "grade_id": "cell-fb5c5d0fd9a6d900",
     "locked": false,
     "points": 4,
     "schema_version": 3,
     "solution": true,
     "task": false
    }
   },
   "source": [
    "**(SOLUTION):**\n",
    "\n",
    "We can clearly see that as our HLD (Hidden Layer Dimension) goes up, the performance of our Model also goes up, because when we increase HLD, we increase how many paramaters we learn which goes towards increasing the performance. This increases Variance and decreases Bias, and in turn as I mentioned, the model thus performs better as I've plotted above. $\\checkmark$"
   ]
  },
  {
   "cell_type": "markdown",
   "metadata": {
    "deletable": false,
    "editable": false,
    "nbgrader": {
     "cell_type": "markdown",
     "checksum": "e87adf1174c1dd47be5f7caefdbe28d6",
     "grade": false,
     "grade_id": "cell-460dc5490c1516b3",
     "locked": true,
     "schema_version": 3,
     "solution": false,
     "task": false
    }
   },
   "source": [
    "**Extra Credit [10 points]:** Implement dropout by filling the `back_prop_dropout` function and update the `SGD_train` function to use it. Explain the impact of dropout on performance."
   ]
  },
  {
   "cell_type": "code",
   "execution_count": 11,
   "metadata": {},
   "outputs": [
    {
     "name": "stderr",
     "output_type": "stream",
     "text": [
      "TestBackPropDropoutWithoutRegularization (tests.tests.TestNetwork) ... "
     ]
    },
    {
     "name": "stdout",
     "output_type": "stream",
     "text": [
      "Epoch   20: Train    0.70000\n",
      "Epoch   40: Train    0.47000\n"
     ]
    },
    {
     "name": "stderr",
     "output_type": "stream",
     "text": [
      "FAIL\n",
      "\n",
      "======================================================================\n",
      "FAIL: TestBackPropDropoutWithoutRegularization (tests.tests.TestNetwork)\n",
      "----------------------------------------------------------------------\n",
      "Traceback (most recent call last):\n",
      "  File \"C:\\Users\\munta\\Desktop\\hw3\\tests\\tests.py\", line 111, in TestBackPropDropoutWithoutRegularization\n",
      "    self.assertAlmostEqual(nn_noreg.weights[0][0, 0], 2.98976038)\n",
      "AssertionError: 1.2674950788220782 != 2.98976038 within 7 places (1.7222653011779216 difference)\n",
      "\n",
      "----------------------------------------------------------------------\n",
      "Ran 1 test in 1.960s\n",
      "\n",
      "FAILED (failures=1)\n"
     ]
    },
    {
     "ename": "AssertionError",
     "evalue": "one or more tests for prob 4 failed",
     "output_type": "error",
     "traceback": [
      "\u001b[1;31m---------------------------------------------------------------------------\u001b[0m",
      "\u001b[1;31mAssertionError\u001b[0m                            Traceback (most recent call last)",
      "\u001b[1;32m<ipython-input-11-aa56125de230>\u001b[0m in \u001b[0;36m<module>\u001b[1;34m\u001b[0m\n\u001b[0;32m      1\u001b[0m \u001b[1;32mfrom\u001b[0m \u001b[0mtests\u001b[0m \u001b[1;32mimport\u001b[0m \u001b[0mtests\u001b[0m\u001b[1;33m\u001b[0m\u001b[1;33m\u001b[0m\u001b[0m\n\u001b[1;32m----> 2\u001b[1;33m \u001b[0mtests\u001b[0m\u001b[1;33m.\u001b[0m\u001b[0mrun_test_suite\u001b[0m\u001b[1;33m(\u001b[0m\u001b[1;34m'prob 4'\u001b[0m\u001b[1;33m,\u001b[0m \u001b[0mNetwork\u001b[0m\u001b[1;33m)\u001b[0m\u001b[1;33m\u001b[0m\u001b[1;33m\u001b[0m\u001b[0m\n\u001b[0m",
      "\u001b[1;32m~\\Desktop\\hw3\\tests\\tests.py\u001b[0m in \u001b[0;36mrun_test_suite\u001b[1;34m(name, ctor)\u001b[0m\n\u001b[0;32m    233\u001b[0m             \u001b[0mprob4\u001b[0m\u001b[1;33m.\u001b[0m\u001b[0maddTest\u001b[0m\u001b[1;33m(\u001b[0m\u001b[0mTestNetwork\u001b[0m\u001b[1;33m(\u001b[0m\u001b[0mtest\u001b[0m\u001b[1;33m,\u001b[0m \u001b[0mctor\u001b[0m\u001b[1;33m)\u001b[0m\u001b[1;33m)\u001b[0m\u001b[1;33m\u001b[0m\u001b[1;33m\u001b[0m\u001b[0m\n\u001b[0;32m    234\u001b[0m         assert unittest.TextTestRunner(verbosity=2).run(\n\u001b[1;32m--> 235\u001b[1;33m             prob4).wasSuccessful(), \"one or more tests for prob 4 failed\"\n\u001b[0m\u001b[0;32m    236\u001b[0m     \u001b[1;32melif\u001b[0m \u001b[0mname\u001b[0m \u001b[1;33m==\u001b[0m \u001b[1;34m\"prob 5\"\u001b[0m\u001b[1;33m:\u001b[0m\u001b[1;33m\u001b[0m\u001b[1;33m\u001b[0m\u001b[0m\n\u001b[0;32m    237\u001b[0m         \u001b[0mprob5\u001b[0m \u001b[1;33m=\u001b[0m \u001b[0munittest\u001b[0m\u001b[1;33m.\u001b[0m\u001b[0mTestSuite\u001b[0m\u001b[1;33m(\u001b[0m\u001b[1;33m)\u001b[0m\u001b[1;33m\u001b[0m\u001b[1;33m\u001b[0m\u001b[0m\n",
      "\u001b[1;31mAssertionError\u001b[0m: one or more tests for prob 4 failed"
     ]
    }
   ],
   "source": [
    "from tests import tests\n",
    "tests.run_test_suite('prob 4', Network)"
   ]
  },
  {
   "cell_type": "code",
   "execution_count": 12,
   "metadata": {},
   "outputs": [
    {
     "name": "stdout",
     "output_type": "stream",
     "text": [
      "Epoch    1: Train    0.19568, Test    0.18848\n",
      "Epoch   20: Train    0.71989, Test    0.67907\n",
      "Epoch   40: Train    0.81633, Test    0.76471\n",
      "Epoch   60: Train    0.82993, Test    0.78391\n",
      "Epoch   80: Train    0.83673, Test    0.78511\n",
      "Epoch  100: Train    0.84594, Test    0.79152\n",
      "Epoch  120: Train    0.84554, Test    0.79192\n",
      "Epoch  140: Train    0.84754, Test    0.78912\n",
      "Epoch  160: Train    0.85154, Test    0.79752\n",
      "Epoch  180: Train    0.85274, Test    0.79632\n",
      "Epoch  200: Train    0.85354, Test    0.79712\n",
      "Epoch  220: Train    0.85474, Test    0.80152\n",
      "Epoch  240: Train    0.85714, Test    0.80072\n",
      "Epoch  260: Train    0.85794, Test    0.80112\n",
      "Epoch  280: Train    0.85874, Test    0.80112\n",
      "Epoch  300: Train    0.85954, Test    0.79992\n",
      "Epoch  320: Train    0.86074, Test    0.80232\n",
      "Epoch  340: Train    0.86074, Test    0.80272\n",
      "Epoch  360: Train    0.86034, Test    0.80112\n",
      "Epoch  380: Train    0.86074, Test    0.80152\n",
      "Epoch  400: Train    0.86315, Test    0.80232\n"
     ]
    }
   ],
   "source": [
    "hidden_layer_dimensions = 60\n",
    "nn = Network([input_dimensions, hidden_layer_dimensions, output_dimensions], keep_prob=0.5)\n",
    "nn.SGD_train(train, epochs=400, eta=0.1, lam=0, verbose=True, test=test)"
   ]
  },
  {
   "cell_type": "markdown",
   "metadata": {
    "deletable": false,
    "nbgrader": {
     "cell_type": "markdown",
     "checksum": "d1f81c6e069ad24bed4034816ccc6c65",
     "grade": true,
     "grade_id": "cell-f7345360536d4c03",
     "locked": false,
     "points": 0,
     "schema_version": 3,
     "solution": true
    }
   },
   "source": [
    "**(SOLUTION):**\n",
    "\n",
    "Dropout actually decreases the training accuracy and the test accuracy as you can see above because the value that we have for dropout is actually a bit higher than it should be. If we had lower dropout values we would see our test accuracy go up and train accuracy go down. All of this is due to the way doing a dropout will regularize your Neural Network. I.e, the regularization on neural network makes some of the neurons we have into Null values and all the weights asociated with that particular neuron would beome zero. Due to this, we can infer that our variance will increase, and bias will decrease, and our model is going to do better in the testing phase than in the training. $\\checkmark$"
   ]
  },
  {
   "cell_type": "markdown",
   "metadata": {
    "deletable": false,
    "editable": false,
    "nbgrader": {
     "cell_type": "markdown",
     "checksum": "33951d1b8527ae01d775c9f185ee94dd",
     "grade": false,
     "grade_id": "cell-65d25b85ad55bfe6",
     "locked": true,
     "schema_version": 3,
     "solution": false,
     "task": false
    }
   },
   "source": [
    "## [9 points] Problem 4 - Tensors and Autograd.\n",
    "In this problem, we will demonstrate the benefits of PyTorch's Autograd mechanics by converting your implementation from Problem to utilize PyTorch Tensors. This problem is not meant to be difficult, rather it should be quite simple once you've done Problem 3.\n",
    "\n",
    "Note that there are *better* ways to go about this which we will cover next. Here. we are keeping things as close to numpy as possible on purpose to show what's going on behind the scenes. Take a moment to look through our modifications to get an understanding of the differences. In the comments, we'll make notes of native torch functions that perform the same operations. \n",
    "\n",
    "Here, SGD is implemented manually to show you what's going on behind the scenes, but  usually you'd use [`torch.optim.SGD`](https://pytorch.org/docs/stable/optim.html#torch.optim.SGD). For future reference, the `weight_decay` parameter implements L2 normilazion. \n",
    "\n",
    "--- \n",
    "\n",
    "Before we move forward, let's cover a couple of points on notation. \n",
    "\n",
    "Just as it's best practice to do `import numpy as np`, PyTorch has best practices for imports as well:\n",
    "\n",
    "```python\n",
    "import torch \n",
    "import torch.nn as nn\n",
    "import torch.nn.functional as F\n",
    "```\n",
    "You'll find that many of the functions you've been learning in NumPy have direct translations in PyTorch. The documentation can be found [here](https://pytorch.org/docs/stable/index.html) and is very user friendly, but we'll cover a few notable differences. \n",
    "\n",
    "- The numpy parameter `axis` becomes `dim` in PyTorch.\n",
    "- Tensors have [view](https://pytorch.org/docs/stable/tensor_view.html) operations, which avoid copying data unnecasarily. Use these instead of `reshape()`. \n",
    "- Using `torch.from_numpy()` also avoids copying data stored in `numpy` arrays.\n",
    "- Numpy interprets `np.dot()` of 2D matrices as matrix multiplication. Pytorch does not have this behaviour, see instead [`torch.matmul()`](https://pytorch.org/docs/stable/generated/torch.matmul.html?highlight=matmul#torch.matmul)\n",
    "- PyTorch uses trailing underscores such as `torch.add_()` to denote in-place operations. As an example, the following operations are equivilent:\n",
    "```python\n",
    "x = x + y\n",
    "x = torch.add(x, y)\n",
    "x.add_(y)\n",
    "```\n",
    "You're likely to see these operations when randomly initializing Tensors, or filling a tensor with zeros:\n",
    "```python\n",
    "torch.nn.init.uniform_(x)\n",
    "x.zero_()\n",
    "```\n",
    "\n",
    "---\n",
    "Now onto the problem, your tasks are as follows:\n",
    "\n",
    "1. Modify `forward_prop` to work on PyTorch Tensors.\n",
    "2. Modify `SGD_step` to work on PyTorch Tensors. This is easier than it sounds, since with PyTorch we don't have to worry about calculating gradients manually."
   ]
  },
  {
   "cell_type": "markdown",
   "metadata": {},
   "source": [
    "**SOURCES USED:**\n",
    "\n",
    "1 - (Torch MatMul) https://pytorch.org/docs/stable/generated/torch.matmul.html"
   ]
  },
  {
   "cell_type": "code",
   "execution_count": 13,
   "metadata": {
    "deletable": false,
    "nbgrader": {
     "cell_type": "code",
     "checksum": "b32375976b5f4ff83556910fc0365b59",
     "grade": false,
     "grade_id": "cell-f503b4357e8d35fc",
     "locked": false,
     "schema_version": 3,
     "solution": true,
     "task": false
    }
   },
   "outputs": [],
   "source": [
    "import torch\n",
    "\n",
    "\n",
    "class TorchNetwork(Network):\n",
    "    def __init__(self, sizes, keep_prob=-1):\n",
    "        super().__init__(sizes, keep_prob)\n",
    "        \n",
    "        # Convert your weights and biases to Tensors.\n",
    "        # The flag requires_grad=True tells PyTorch to track gradients for us. \n",
    "        self.biases = [torch.tensor(b, requires_grad=True) for b in self.biases]\n",
    "        self.weights = [torch.tensor(w, requires_grad=True) for w in self.weights]\n",
    "        \n",
    "\n",
    "    def g(self, z):\n",
    "        \"\"\" Activation function\n",
    "            Could also use torch.sigmoid(z)\n",
    "        \"\"\"\n",
    "        return sigmoid_torch(z) \n",
    "\n",
    "    def forward_prop(self, a):\n",
    "        \"\"\" Memory aware forward propagation. \n",
    "            Now this is for both training and testing.\n",
    "        \n",
    "        \"\"\"\n",
    "        # TODO: Convert your forward_prop function from part a to work on Tensors. \n",
    "        # YOUR CODE HERE\n",
    "        #raise NotImplementedError()\n",
    "        rangeVal = (self.L - 1)\n",
    "        for i in range(rangeVal):\n",
    "            #Use Pytorch's Matrix Multiplication feature.\n",
    "            zVal = torch.matmul(self.weights[i], a) + self.biases[i]\n",
    "            a = self.g(zVal)\n",
    "        return a\n",
    "\n",
    "    def cost(self, a, y):\n",
    "        \"\"\" Cost function, same as F.mse_loss()\n",
    "        \"\"\"\n",
    "        return ((a - y)**2).mean() \n",
    "            \n",
    "\n",
    "    def SGD_step(self, x, y, eta, lam):\n",
    "        \"\"\"\n",
    "            Performs a single step of SGD on weights and biases\n",
    "\n",
    "        Args:\n",
    "            x: single sample features.\n",
    "            y: single sample target.\n",
    "            eta: learning rate.\n",
    "            lam: Regularization parameter.\n",
    "                \n",
    "        \"\"\"\n",
    "        \n",
    "        # Zero out the old gradients if they exist. \n",
    "        # Would be optim.zero_grad() if we were using an optimizer.\n",
    "        for p in (*self.weights, *self.biases):\n",
    "            if p.grad is not None:\n",
    "                p.grad.detach_()\n",
    "                p.grad.zero_()\n",
    "            \n",
    "        # TODO: \n",
    "        # (1) call forward_prop to get a. \n",
    "        # (2) Calucate loss using the cost function.\n",
    "        # (3) Use loss.backward() to to perform backpropagation automatically.\n",
    "\n",
    "        # YOUR CODE HERE\n",
    "        #raise NotImplementedError()\n",
    "        #Call Forward Prop to get a\n",
    "        aVal = self.forward_prop(x)\n",
    "        #Calculate Loss using Cost Function\n",
    "        lossVal = self.cost(aVal, y)\n",
    "        #Using Loss.Backward\n",
    "        lossVal.backward()\n",
    "\n",
    "        # Perform sgd update \n",
    "        # Would be optimizer.step()\n",
    "        with torch.no_grad():\n",
    "            # l2 regularization on weights only.\n",
    "            for p in self.weights:\n",
    "                p.grad.add_(p, alpha=lam)\n",
    "            # sgd update. \n",
    "            for p in (*self.weights, *self.biases):\n",
    "                p.add_(p.grad, alpha=-eta)\n",
    "                \n",
    "\n",
    "def sigmoid_torch(z, threshold=20):\n",
    "    \"\"\" Same as sigmoid before, now with torch.clamp() instead of np.clip().\n",
    "        We could also just use torch.sigmoid().\n",
    "    \"\"\"\n",
    "    z = torch.clamp(z, -threshold, threshold)\n",
    "    return 1.0 / (1.0 + torch.exp(-z))\n"
   ]
  },
  {
   "cell_type": "markdown",
   "metadata": {
    "deletable": false,
    "editable": false,
    "nbgrader": {
     "cell_type": "markdown",
     "checksum": "1206b00e94aeffbf21002354917dd1c1",
     "grade": false,
     "grade_id": "cell-6227665a74ae9306",
     "locked": true,
     "schema_version": 3,
     "solution": false,
     "task": false
    }
   },
   "source": [
    "**Part 5 [10 points]:** Implement `SGD_step` and `forward_prop`. Use the following test cases to verify if the code is working as expected."
   ]
  },
  {
   "cell_type": "code",
   "execution_count": 14,
   "metadata": {
    "deletable": false,
    "editable": false,
    "nbgrader": {
     "cell_type": "code",
     "checksum": "8063cda31e787286f6869547bdb1ae30",
     "grade": true,
     "grade_id": "cell-9b1a944152b5097c",
     "locked": true,
     "points": 9,
     "schema_version": 3,
     "solution": false,
     "task": false
    }
   },
   "outputs": [
    {
     "name": "stderr",
     "output_type": "stream",
     "text": [
      "TestBackPropWithoutRegularization (tests.tests.TestNetwork) ... ok\n",
      "TestBackPropWithRegularization (tests.tests.TestNetwork) ... ok\n",
      "\n",
      "----------------------------------------------------------------------\n",
      "Ran 2 tests in 0.760s\n",
      "\n",
      "OK\n"
     ]
    }
   ],
   "source": [
    "from tests import tests\n",
    "tests.run_test_suite('prob 5', TorchNetwork)"
   ]
  },
  {
   "cell_type": "markdown",
   "metadata": {
    "deletable": false,
    "editable": false,
    "nbgrader": {
     "cell_type": "markdown",
     "checksum": "e53c4e1514a0bf02745f4af149c63e90",
     "grade": false,
     "grade_id": "cell-895751c3d6ccf24a",
     "locked": true,
     "schema_version": 3,
     "solution": false,
     "task": false
    }
   },
   "source": [
    "[23 Points] Problem 5 - Implement RNN Network to classify whether text is spam or ham \n",
    "---\n",
    "\n",
    "Dataset is obtained from UCI Machine Learning repository consisting of SMS tagged messages (labelled as either **ham** (legitimate) or **spam**) that have been collected for SMS Spam research.\n",
    "\n",
    "We will now use [PyTorch](https://pytorch.org/docs/stable/index.html) (Pytorch Lightning to be precise) to implement a classifier. Update the snippet below to build a model with an embedding layer, and an LSTM layer, and a dense layer. This question allows you to get familiar with popular deep learning toolkits and the solution only has a few lines. In practice, there is no need to reinvent the wheels.\n",
    "\n",
    "\n",
    "Learn more about RNN : https://colah.github.io/posts/2015-08-Understanding-LSTMs/\n",
    "\n",
    "**Note**: You need to install Tensorflow for this problem (CPU version if you do not have a nvidia GPU). You can find installation instructions [here](https://www.tensorflow.org/install)\n",
    "\n",
    "If you are using Anaconda, install the CPU version by doing \n",
    "``` the end of the sequence, called pre- or post-sequence padding, can be specified by the “padding” argument, as follows.\n",
    "Pre-Sequence Padding\n",
    "\n",
    "Pre-sequence padding is the default (padding=’pre’)\n",
    "conda install 'tensorflow=*=mkl*'\n",
    "```"
   ]
  },
  {
   "cell_type": "markdown",
   "metadata": {},
   "source": [
    "The following class converts textual data to sequences of numbers. Initially, we create a vocabulary of words such that each word is associated with a particular number. Then, for each new sentence, each word is replaced by its corresponding encoding.\n",
    "\n",
    "For example, if we had an encoding : \"I\" : 1, \"am\" : 5, \"alive\"  : 9\n",
    "Then the sentence \"I am alive\" would be represented as [1, 5, 9]\n",
    "\n",
    "Now, since sentences can be of varying lengths and inputs to neural networks are fixed in size, we the input size to our model to be lager than the largest sentence and pad smaller sentences with 0's."
   ]
  },
  {
   "cell_type": "code",
   "execution_count": 15,
   "metadata": {},
   "outputs": [],
   "source": [
    "import multiprocessing as mp\n",
    "import pickle\n",
    "import pandas as pd\n",
    "import pytorch_lightning as pl\n",
    "import torch\n",
    "import torch.nn as nn\n",
    "import torch.nn.functional as F\n",
    "\n",
    "from tensorflow.keras.preprocessing import sequence\n",
    "from tensorflow.keras.preprocessing.text import Tokenizer\n",
    "from torch.utils.data import DataLoader, TensorDataset\n",
    "\n",
    "import pytorch_lightning as pl\n",
    "from pytorch_lightning.loggers import CSVLogger\n",
    "\n",
    "class SpamHam(pl.LightningDataModule):\n",
    "    \"\"\" A datamodule for the RNN. You shouldn't have to modify this class.\"\"\"\n",
    "    def __init__(self, dict_size=5000, example_length=150, batch_size=128):\n",
    "        super().__init__()\n",
    "\n",
    "        self.dict_size = dict_size\n",
    "        self.batch_size = batch_size\n",
    "        self.example_length = example_length\n",
    "\n",
    "        # preprocess training data\n",
    "        self.tok = Tokenizer(num_words=dict_size)\n",
    "\n",
    "    def load_data(self, location):\n",
    "        return pickle.load(open(location, 'rb'))\n",
    "\n",
    "    def make_dataset(self, x, y, tok=None):\n",
    "        # tokenize\n",
    "        sequences = self.tok.texts_to_sequences(x)\n",
    "        x = sequence.pad_sequences(sequences, maxlen=self.example_length)\n",
    "\n",
    "        # make torch arrays.\n",
    "        x = torch.from_numpy(x).to(torch.int64)\n",
    "        y = torch.from_numpy(y).to(torch.float32)\n",
    "\n",
    "        return TensorDataset(x, y)\n",
    "\n",
    "    def setup(self, stage):\n",
    "        # load data\n",
    "        train_x, test_x, train_y, test_y = self.load_data('./data/spam_data.pkl')\n",
    "        \n",
    "        # fit tokenizer\n",
    "        self.tok.fit_on_texts(train_x)        \n",
    "        \n",
    "        # make datasets\n",
    "        self.train = self.make_dataset(train_x, train_y)\n",
    "        self.test = self.make_dataset(test_x, test_y)\n",
    "\n",
    "    def train_dataloader(self):\n",
    "        return DataLoader(self.train, batch_size=self.batch_size, shuffle=True,\n",
    "                          num_workers=mp.cpu_count() // 4)\n",
    "\n",
    "    def test_dataloader(self):\n",
    "        return DataLoader(self.test, batch_size=self.batch_size, shuffle=False,\n",
    "                          num_workers=mp.cpu_count() // 4)"
   ]
  },
  {
   "cell_type": "markdown",
   "metadata": {
    "deletable": false,
    "editable": false,
    "nbgrader": {
     "cell_type": "markdown",
     "checksum": "9f7434f90f85937d2eb5e82ee2f0be1b",
     "grade": false,
     "grade_id": "cell-317b71960ee93b6d",
     "locked": true,
     "schema_version": 3,
     "solution": false,
     "task": false
    }
   },
   "source": [
    "### Part 1 [15 points]\n",
    "PyTorch Lightning expects your model to follow a standard class template. Once certain functions are completed, pl.Trainer() allows you train the model without explicitly writing a training loop. In the following example, you need to define the model and how the input is propagated through the model (called the forward pass) and then create the training and test steps.\n",
    "\n",
    "Complete the functions `init`, `training_step`, and `test_step` and `forward`functions. "
   ]
  },
  {
   "cell_type": "markdown",
   "metadata": {},
   "source": [
    "**SOURCES USED:**\n",
    "\n",
    "1 - (PyTorch Embedding) https://stackoverflow.com/questions/50747947/embedding-in-pytorch\n",
    "\n",
    "2 - (LSTM PyTorch) https://pytorch.org/docs/stable/generated/torch.nn.LSTM.html\n",
    "\n",
    "3 - (Linear in PyTorch) https://hackernoon.com/visualizing-linear-regression-with-pytorch-9261f49edb09"
   ]
  },
  {
   "cell_type": "code",
   "execution_count": 16,
   "metadata": {
    "deletable": false,
    "nbgrader": {
     "cell_type": "code",
     "checksum": "45a80273febd50a92eef26ce5f7d1474",
     "grade": false,
     "grade_id": "cell-2673775575f12b54",
     "locked": false,
     "schema_version": 3,
     "solution": true,
     "task": false
    }
   },
   "outputs": [],
   "source": [
    "class RNN(pl.LightningModule):\n",
    "    \"\"\" RNN classifier \"\"\"\n",
    "\n",
    "    def __init__(self, embedding_length=32, dict_size=5000, example_length=150):\n",
    "        \"\"\"\n",
    "        initialize RNN model\n",
    "        :param embedding_length: size of word embedding\n",
    "        \"\"\"\n",
    "        super().__init__()\n",
    "\n",
    "        # To complete this function, you will need PyTorch's Embedding, LSTM and linear layers.\n",
    "        \n",
    "        # The embedding layer simply creates a dictionary between words in your vocabulary and their vector \n",
    "        # representations. Therefore, each word has a unique representation.\n",
    "        # For instance, say your input x is encoded as [1, 5, 9] and embedding_dim = 32 (see documentation for \n",
    "        # arguments to this layer), then after passing through the embedding layer the output will be \n",
    "        # of shape 3x32\n",
    "        \n",
    "        # Documentation for LSTM layer in :\n",
    "        #     https://pytorch.org/docs/stable/generated/torch.nn.LSTM.html#torch.nn.LSTM\n",
    "        \n",
    "        # Note there are multiple ways to define your model, \n",
    "        # we suggest adding individual layers here, but any method is fine.\n",
    "        \n",
    "        # As an example, you could define a linear layer with n inputs and m outputs like so:\n",
    "        # self.linear = nn.Linear(n, m)\n",
    "        \n",
    "        # Similarly, define the three layers needed for your model\n",
    "        \n",
    "        # TODO: build model by defining individual layers in the network\n",
    "            \n",
    "        # YOUR CODE HERE\n",
    "        #raise NotImplementedError()\n",
    "        self.embedding = nn.Embedding(dict_size, embedding_length)\n",
    "        #I played around with a few hidden_size variables. If I make it bigger, it actually would start to decrease accuracy if HLD too big.\n",
    "        #64 was a nice even number value that I tried out.\n",
    "        self.lstm = nn.LSTM(input_size = embedding_length, hidden_size = 64, num_layers = 1, batch_first = True)\n",
    "        self.linear = nn.Linear(64, 1)\n",
    "        #y_hat, the output of training func has a dimension of (128 x 150 x 1).\n",
    "        #y has a dimension of 128.\n",
    "        self.example_input_array = torch.zeros([1, 150], dtype=torch.int64)\n",
    "\n",
    "    def configure_optimizers(self):\n",
    "        return torch.optim.Adam(self.parameters())\n",
    "\n",
    "    def forward(self, x):\n",
    "        \"\"\"\n",
    "        \n",
    "        Pytorch allows you to stack layers on top of each other very easily.\n",
    "        \n",
    "        For example, if we have layers self.layer1 and self.layer2 acting on input x, we can do\n",
    "        out_1 = self.layer1(x)\n",
    "        out_2 = self.layer2(out_1)\n",
    "        This would constitute a forward pass for the above hypothetical network.\n",
    "        \n",
    "        Your job in this function is to propagate the input x through the network you defined in __init__()\n",
    "        \n",
    "        TODO:\n",
    "        1. Pass input though embedding layer\n",
    "        2. Propagate output of previous step through LSTM\n",
    "        3. Pass final output of LSTM through linear layer\n",
    "        4. Apply Sigmoid activation (torch.sigmoid()) to output of step 3 to obtain probabilities\n",
    "        \"\"\"\n",
    "        \n",
    "        # YOUR CODE HERE\n",
    "        #raise NotImplementedError()\n",
    "        e_tensor = self.embedding(x)\n",
    "        var = None\n",
    "        #Pass in the embedded value and None so we can get the output\n",
    "        outVal, (p1, p2) = self.lstm(e_tensor, var)\n",
    "        #print(outVal)\n",
    "        #print(outVal[:1])\n",
    "        #Splice up the outValue to get the value we need\n",
    "        outVal = outVal[:, -1, :]\n",
    "        o1 = self.linear(outVal)\n",
    "        \n",
    "        #Update out and use the torch sigmoid on o1\n",
    "        out = torch.sigmoid(o1)\n",
    "        return out\n",
    "\n",
    "    def accuracy(self, y_hat, y):\n",
    "        return (y == y_hat.round()).to(torch.float32).mean()\n",
    "\n",
    "    def training_step(self, batch, batch_idx):\n",
    "        \"\"\" Perfom a training step. \n",
    "        \n",
    "        This is just one step on one batch during training (no looping required) \n",
    "        \n",
    "        TODO:\n",
    "            - forward pass on data in batch\n",
    "            - compute training loss (use PyTorch's F.binary_cross_entropy since this is binary classification)\n",
    "            - Compute training accuracy (using the self.accuracy function)\n",
    "        \"\"\"\n",
    "        \n",
    "        # YOUR CODE HERE\n",
    "        #raise NotImplementedError()\n",
    "        #As was mentioned on piazza...\n",
    "        #(x, y) = batch splits batch up into x and y by x = batch[0:-2] y = batch[-1] (I think)\n",
    "        #The last index of batch contains the truth values for the other inputs.\n",
    "        (x, y) = batch\n",
    "        #Then you take x and put it through forward\n",
    "        forward = self.forward(x)\n",
    "        #As mentioned in the instructions, use cross entropy\n",
    "        loss = F.binary_cross_entropy(forward, y)\n",
    "        \n",
    "        #Finally, calculate accuracy on the forward pass and y\n",
    "        acc = self.accuracy(forward, y)\n",
    "        # We implemented logging for you. \n",
    "        result = pl.TrainResult(loss)\n",
    "        result.log('train_loss', loss)\n",
    "        result.log('train_accuracy', acc, prog_bar=True)\n",
    "        return result\n",
    "\n",
    "    def test_step(self, batch, batch_idx):\n",
    "        \"\"\" Perfom a test step \n",
    "            hint: your code should be the same as your train step\n",
    "        \n",
    "        TODO:\n",
    "            - forward pass on data in batch\n",
    "            - compute test loss \n",
    "            - Compute test accuracy  \n",
    "        \"\"\"\n",
    "        \n",
    "        # YOUR CODE HERE\n",
    "        #raise NotImplementedError()\n",
    "        #As was mentioned on piazza...\n",
    "        #(x, y) = batch splits batch up into x and y by x = batch[0:-2] y = batch[-1] (I think)\n",
    "        #The last index of batch contains the truth values for the other inputs.\n",
    "        (x, y) = batch\n",
    "        #Then you take x and put it through forward\n",
    "        forward = self.forward(x)\n",
    "        #As mentioned in the instructions, use cross entropy\n",
    "        loss = F.binary_cross_entropy(forward, y)\n",
    "        \n",
    "        #Finally, calculate accuracy on the forward pass and y\n",
    "        acc = self.accuracy(forward, y)\n",
    "        # We implemented logging for you. \n",
    "        result = pl.EvalResult(loss)\n",
    "        result.log('test_loss', loss, prog_bar=True)\n",
    "        result.log('test_acc', acc, prog_bar=True)\n",
    "        return result"
   ]
  },
  {
   "cell_type": "code",
   "execution_count": 17,
   "metadata": {},
   "outputs": [
    {
     "name": "stderr",
     "output_type": "stream",
     "text": [
      "GPU available: False, used: False\n",
      "TPU available: False, using: 0 TPU cores\n",
      "\n",
      "  | Name      | Type      | Params | In sizes            | Out sizes                               \n",
      "---------------------------------------------------------------------------------------------------------\n",
      "0 | embedding | Embedding | 160 K  | [1, 150]            | [1, 150, 32]                            \n",
      "1 | lstm      | LSTM      | 25 K   | [[1, 150, 32], '?'] | [[1, 150, 64], [[1, 1, 64], [1, 1, 64]]]\n",
      "2 | linear    | Linear    | 65     | [1, 64]             | [1, 1]                                  \n"
     ]
    },
    {
     "name": "stdout",
     "output_type": "stream",
     "text": [
      "Epoch 4: 100%|██████████| 37/37 [00:12<00:00,  3.03it/s, loss=0.112, v_num=23, train_accuracy=0.969]"
     ]
    },
    {
     "name": "stderr",
     "output_type": "stream",
     "text": [
      "Saving latest checkpoint..\n"
     ]
    },
    {
     "name": "stdout",
     "output_type": "stream",
     "text": [
      "Epoch 4: 100%|██████████| 37/37 [00:12<00:00,  3.02it/s, loss=0.112, v_num=23, train_accuracy=0.969]\n",
      "Testing: 100%|██████████| 7/7 [00:01<00:00,  4.35it/s]\n",
      "Accuracy for LSTM:  0.972229540348053\n"
     ]
    }
   ],
   "source": [
    "# Define your data \n",
    "spam_ham_dm = SpamHam()\n",
    "\n",
    "def run_rnn(**kwargs):\n",
    "    # helper function for running RNN.\n",
    "    logger = CSVLogger(\"logs\", name=\"rnn\")\n",
    "    trainer = pl.Trainer(\n",
    "        gpus=int(torch.cuda.is_available()),\n",
    "        logger=logger,\n",
    "        min_epochs=5,\n",
    "        max_epochs=5,\n",
    "        row_log_interval=1,\n",
    "        log_save_interval=1,\n",
    "        deterministic=True\n",
    "    )\n",
    "    \n",
    "    model = RNN(**kwargs)\n",
    "    trainer.fit(model, spam_ham_dm)\n",
    "    results = trainer.test(verbose=False)\n",
    "    return results, logger.experiment.metrics_file_path\n",
    "\n",
    "results, _ = run_rnn()\n",
    "print('Accuracy for LSTM: ', results[0]['test_acc'])"
   ]
  },
  {
   "cell_type": "markdown",
   "metadata": {
    "deletable": false,
    "nbgrader": {
     "cell_type": "markdown",
     "checksum": "2ccf7f440d3189f35e9610eacb0c3bec",
     "grade": true,
     "grade_id": "cell-41f4dc66c60e24b2",
     "locked": false,
     "points": 15,
     "schema_version": 3,
     "solution": true,
     "task": false
    }
   },
   "source": [
    "**(SOLUTION):**\n",
    "\n",
    "After completing the functions, I am able to run my LSTM and it gets an overall accuracy of about $0.97$ so that's not bad at all! $\\checkmark$"
   ]
  },
  {
   "cell_type": "markdown",
   "metadata": {
    "deletable": false,
    "editable": false,
    "nbgrader": {
     "cell_type": "markdown",
     "checksum": "f26e2f2c38d1ddd3c8d5cca106f4f31a",
     "grade": false,
     "grade_id": "cell-41cfba637db6a1a9",
     "locked": true,
     "schema_version": 3,
     "solution": false,
     "task": false
    }
   },
   "source": [
    "### Part 2 [8 points]\n",
    "* Change the embedding length and experiment with these values: [8, 16, 32, 48, 64].\n",
    "* Plot training accuracies of different embedding lengths vs. epochs.\n",
    "* Observe and explain the impact of embedding length in LSTM Model."
   ]
  },
  {
   "cell_type": "code",
   "execution_count": 18,
   "metadata": {},
   "outputs": [
    {
     "name": "stderr",
     "output_type": "stream",
     "text": [
      "GPU available: False, used: False\n",
      "TPU available: False, using: 0 TPU cores\n",
      "\n",
      "  | Name      | Type      | Params | In sizes           | Out sizes                               \n",
      "--------------------------------------------------------------------------------------------------------\n",
      "0 | embedding | Embedding | 40 K   | [1, 150]           | [1, 150, 8]                             \n",
      "1 | lstm      | LSTM      | 18 K   | [[1, 150, 8], '?'] | [[1, 150, 64], [[1, 1, 64], [1, 1, 64]]]\n",
      "2 | linear    | Linear    | 65     | [1, 64]            | [1, 1]                                  \n"
     ]
    },
    {
     "name": "stdout",
     "output_type": "stream",
     "text": [
      "Epoch 4: 100%|██████████| 37/37 [00:16<00:00,  2.29it/s, loss=0.245, v_num=24, train_accuracy=0.883]"
     ]
    },
    {
     "name": "stderr",
     "output_type": "stream",
     "text": [
      "Saving latest checkpoint..\n"
     ]
    },
    {
     "name": "stdout",
     "output_type": "stream",
     "text": [
      "Epoch 4: 100%|██████████| 37/37 [00:16<00:00,  2.28it/s, loss=0.245, v_num=24, train_accuracy=0.883]\n",
      "Testing: 100%|██████████| 7/7 [00:02<00:00,  3.47it/s]"
     ]
    },
    {
     "name": "stderr",
     "output_type": "stream",
     "text": [
      "GPU available: False, used: False\n",
      "TPU available: False, using: 0 TPU cores\n",
      "\n",
      "  | Name      | Type      | Params | In sizes            | Out sizes                               \n",
      "---------------------------------------------------------------------------------------------------------\n",
      "0 | embedding | Embedding | 80 K   | [1, 150]            | [1, 150, 16]                            \n",
      "1 | lstm      | LSTM      | 20 K   | [[1, 150, 16], '?'] | [[1, 150, 64], [[1, 1, 64], [1, 1, 64]]]\n",
      "2 | linear    | Linear    | 65     | [1, 64]             | [1, 1]                                  \n"
     ]
    },
    {
     "name": "stdout",
     "output_type": "stream",
     "text": [
      "\n",
      "Accuracy for LSTM:  0.9191833138465881\n",
      "Epoch 4: 100%|██████████| 37/37 [00:13<00:00,  2.69it/s, loss=0.119, v_num=25, train_accuracy=0.953]"
     ]
    },
    {
     "name": "stderr",
     "output_type": "stream",
     "text": [
      "Saving latest checkpoint..\n"
     ]
    },
    {
     "name": "stdout",
     "output_type": "stream",
     "text": [
      "Epoch 4: 100%|██████████| 37/37 [00:13<00:00,  2.69it/s, loss=0.119, v_num=25, train_accuracy=0.953]\n",
      "Testing: 100%|██████████| 7/7 [00:01<00:00,  3.92it/s]"
     ]
    },
    {
     "name": "stderr",
     "output_type": "stream",
     "text": [
      "GPU available: False, used: False\n",
      "TPU available: False, using: 0 TPU cores\n",
      "\n",
      "  | Name      | Type      | Params | In sizes            | Out sizes                               \n",
      "---------------------------------------------------------------------------------------------------------\n",
      "0 | embedding | Embedding | 160 K  | [1, 150]            | [1, 150, 32]                            \n",
      "1 | lstm      | LSTM      | 25 K   | [[1, 150, 32], '?'] | [[1, 150, 64], [[1, 1, 64], [1, 1, 64]]]\n",
      "2 | linear    | Linear    | 65     | [1, 64]             | [1, 1]                                  \n"
     ]
    },
    {
     "name": "stdout",
     "output_type": "stream",
     "text": [
      "\n",
      "Accuracy for LSTM:  0.9654017686843872\n",
      "Epoch 4: 100%|██████████| 37/37 [00:14<00:00,  2.59it/s, loss=0.120, v_num=26, train_accuracy=0.953]"
     ]
    },
    {
     "name": "stderr",
     "output_type": "stream",
     "text": [
      "Saving latest checkpoint..\n"
     ]
    },
    {
     "name": "stdout",
     "output_type": "stream",
     "text": [
      "Epoch 4: 100%|██████████| 37/37 [00:14<00:00,  2.59it/s, loss=0.120, v_num=26, train_accuracy=0.953]\n",
      "Testing: 100%|██████████| 7/7 [00:02<00:00,  2.98it/s]"
     ]
    },
    {
     "name": "stderr",
     "output_type": "stream",
     "text": [
      "GPU available: False, used: False\n",
      "TPU available: False, using: 0 TPU cores\n",
      "\n",
      "  | Name      | Type      | Params | In sizes            | Out sizes                               \n",
      "---------------------------------------------------------------------------------------------------------\n",
      "0 | embedding | Embedding | 240 K  | [1, 150]            | [1, 150, 48]                            \n",
      "1 | lstm      | LSTM      | 29 K   | [[1, 150, 48], '?'] | [[1, 150, 64], [[1, 1, 64], [1, 1, 64]]]\n",
      "2 | linear    | Linear    | 65     | [1, 64]             | [1, 1]                                  \n"
     ]
    },
    {
     "name": "stdout",
     "output_type": "stream",
     "text": [
      "\n",
      "Accuracy for LSTM:  0.9765625\n",
      "Epoch 4: 100%|██████████| 37/37 [00:14<00:00,  2.56it/s, loss=0.091, v_num=27, train_accuracy=0.961]"
     ]
    },
    {
     "name": "stderr",
     "output_type": "stream",
     "text": [
      "Saving latest checkpoint..\n"
     ]
    },
    {
     "name": "stdout",
     "output_type": "stream",
     "text": [
      "Epoch 4: 100%|██████████| 37/37 [00:14<00:00,  2.56it/s, loss=0.091, v_num=27, train_accuracy=0.961]\n",
      "Testing: 100%|██████████| 7/7 [00:02<00:00,  3.25it/s]"
     ]
    },
    {
     "name": "stderr",
     "output_type": "stream",
     "text": [
      "GPU available: False, used: False\n",
      "TPU available: False, using: 0 TPU cores\n",
      "\n",
      "  | Name      | Type      | Params | In sizes            | Out sizes                               \n",
      "---------------------------------------------------------------------------------------------------------\n",
      "0 | embedding | Embedding | 320 K  | [1, 150]            | [1, 150, 64]                            \n",
      "1 | lstm      | LSTM      | 33 K   | [[1, 150, 64], '?'] | [[1, 150, 64], [[1, 1, 64], [1, 1, 64]]]\n",
      "2 | linear    | Linear    | 65     | [1, 64]             | [1, 1]                                  \n"
     ]
    },
    {
     "name": "stdout",
     "output_type": "stream",
     "text": [
      "\n",
      "Accuracy for LSTM:  0.9789260029792786\n",
      "Epoch 4: 100%|██████████| 37/37 [00:14<00:00,  2.61it/s, loss=0.085, v_num=28, train_accuracy=0.984]"
     ]
    },
    {
     "name": "stderr",
     "output_type": "stream",
     "text": [
      "Saving latest checkpoint..\n"
     ]
    },
    {
     "name": "stdout",
     "output_type": "stream",
     "text": [
      "Epoch 4: 100%|██████████| 37/37 [00:14<00:00,  2.61it/s, loss=0.085, v_num=28, train_accuracy=0.984]\n",
      "Testing: 100%|██████████| 7/7 [00:01<00:00,  3.66it/s]\n",
      "Accuracy for LSTM:  0.984375\n"
     ]
    }
   ],
   "source": [
    "mfiles = []\n",
    "test_accuracy_array = []\n",
    "\n",
    "for embedding_len in [8, 16, 32, 48, 64]:    \n",
    "    results, metrics = run_rnn(embedding_length=embedding_len)\n",
    "    print('Accuracy for LSTM: ', results[0]['test_acc'])\n",
    "    mfiles.append(metrics)\n",
    "\n",
    "train_accuracy_matrix = np.array(\n",
    "    [pd.read_csv(f)[\"train_accuracy\"].values for f in mfiles])"
   ]
  },
  {
   "cell_type": "markdown",
   "metadata": {
    "deletable": false,
    "editable": false,
    "nbgrader": {
     "cell_type": "markdown",
     "checksum": "70841200f15334e929c905c548786aba",
     "grade": false,
     "grade_id": "cell-c89ec93459d7f684",
     "locked": true,
     "schema_version": 3,
     "solution": false,
     "task": false
    }
   },
   "source": [
    "Plot training results below."
   ]
  },
  {
   "cell_type": "code",
   "execution_count": 19,
   "metadata": {
    "deletable": false,
    "nbgrader": {
     "cell_type": "code",
     "checksum": "3452a101b4fa0405580e01fd3227a774",
     "grade": true,
     "grade_id": "cell-bbb3e96b84261447",
     "locked": false,
     "points": 4,
     "schema_version": 3,
     "solution": true,
     "task": false
    }
   },
   "outputs": [
    {
     "data": {
      "text/plain": [
       "<matplotlib.legend.Legend at 0x20f526d29c8>"
      ]
     },
     "execution_count": 19,
     "metadata": {},
     "output_type": "execute_result"
    },
    {
     "data": {
      "image/png": "[encoded data removed]",
      "text/plain": [
       "<Figure size 1080x720 with 1 Axes>"
      ]
     },
     "metadata": {
      "needs_background": "light"
     },
     "output_type": "display_data"
    }
   ],
   "source": [
    "#Shape must be 186.\n",
    "x = np.linspace(0, 5, 186)\n",
    "#Get our embedding array\n",
    "embedding_len = [8, 16, 32, 48, 64]\n",
    "#Plot the figure below\n",
    "fig, ax = plt.subplots(figsize = (15, 10))\n",
    "checker = 0\n",
    "#Now let's plot up our training data.\n",
    "for i in train_accuracy_matrix:\n",
    "    ax.plot(x, i, label = \"Training Acc w/ Embedding Length of {}\".format(embedding_len[checker]))\n",
    "    checker = checker + 1\n",
    "ax.set_xlabel(\"Epoch Values\")\n",
    "ax.set_ylabel(\"Training Accuracy\")\n",
    "ax.set_title(\"Training Accuracy w/ Respect to # of Epochs\")\n",
    "ax.legend()"
   ]
  },
  {
   "cell_type": "markdown",
   "metadata": {
    "deletable": false,
    "editable": false,
    "nbgrader": {
     "cell_type": "markdown",
     "checksum": "e65b1d3e3766e5df4b3f17332ca8fa0b",
     "grade": false,
     "grade_id": "cell-6edf99edb9a7bdcc",
     "locked": true,
     "schema_version": 3,
     "solution": false,
     "task": false
    }
   },
   "source": [
    "Give your observation and explanation below."
   ]
  },
  {
   "cell_type": "markdown",
   "metadata": {
    "deletable": false,
    "nbgrader": {
     "cell_type": "markdown",
     "checksum": "80155864567eb1ff7ebeafa96eaa8585",
     "grade": true,
     "grade_id": "cell-b621817b4445c626",
     "locked": false,
     "points": 4,
     "schema_version": 3,
     "solution": true,
     "task": false
    }
   },
   "source": [
    "**(SOLUTION):**\n",
    "\n",
    "We can see from the plot above that as you increase your Embedding Length, the performance of our model also increases, because our embedding layer helps to actually increase how much information is being learned by the model (It's a more dense or thorough representation). So given that we are learning more via the increasing embedding layers, our performance does increase as you can see by the graph. $\\checkmark$"
   ]
  },
  {
   "cell_type": "markdown",
   "metadata": {},
   "source": [
    "### Optional survey.\n",
    "***\n",
    "\n",
    "We are always interested in your feedback. At the end of each homework, there is a simple anonymous feedback [survey](https://forms.gle/6Kf72C26am1SAjtg6) to solicit your feedback for how to improve the course."
   ]
  },
  {
   "cell_type": "code",
   "execution_count": null,
   "metadata": {},
   "outputs": [],
   "source": []
  }
 ],
 "metadata": {
  "kernelspec": {
   "display_name": "Python 3",
   "language": "python",
   "name": "python3"
  },
  "language_info": {
   "codemirror_mode": {
    "name": "ipython",
    "version": 3
   },
   "file_extension": ".py",
   "mimetype": "text/x-python",
   "name": "python",
   "nbconvert_exporter": "python",
   "pygments_lexer": "ipython3",
   "version": "3.7.9"
  },
  "toc": {
   "base_numbering": 1,
   "nav_menu": {},
   "number_sections": false,
   "sideBar": true,
   "skip_h1_title": true,
   "title_cell": "Table of Contents",
   "title_sidebar": "Contents",
   "toc_cell": false,
   "toc_position": {
    "height": "calc(100% - 180px)",
    "left": "10px",
    "top": "150px",
    "width": "340px"
   },
   "toc_section_display": true,
   "toc_window_display": true
  }
 },
 "nbformat": 4,
 "nbformat_minor": 4
}
