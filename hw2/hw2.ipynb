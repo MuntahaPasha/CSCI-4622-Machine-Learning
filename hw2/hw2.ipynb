{
 "cells": [
  {
   "cell_type": "markdown",
   "metadata": {
    "deletable": false,
    "editable": false,
    "nbgrader": {
     "cell_type": "markdown",
     "checksum": "b20339a9b1c6ba650f9412fdd5996dec",
     "grade": false,
     "grade_id": "cell-5ae594183c2ba9fb",
     "locked": true,
     "schema_version": 3,
     "solution": false,
     "task": false
    }
   },
   "source": [
    "# Homework 2: Perceptron, Logistic Regression, Stocashtic Gradient Descent\n",
    "\n",
    "\n",
    "\n",
    "This assignment is due on Moodle by **11:59pm on Friday Sep 25**. \n",
    "Your solutions to theoretical questions should be done in Markdown/MathJax directly below the associated question.\n",
    "Your solutions to computational questions should include any specified Python code and results \n",
    "as well as written commentary on your conclusions.\n",
    "Remember that you are encouraged to discuss the problems with your instructors and classmates, \n",
    "but **you must write all code and solutions on your own**. For a refresher on the course **Collaboration Policy** click [here](https://github.com/BoulderDS/CSCI5622-Machine-Learning/blob/master/info/syllabus.md#collaboration-policy).\n",
    "\n",
    "**NOTES**: \n",
    "\n",
    "- Do **NOT** load or use any Python packages that are not available in Anaconda (Version: 2019.07) with Python 3.7. \n",
    "- Some problems with code may be autograded.  If we provide a function API **do not** change it.  If we do not provide a function API then you're free to structure your code however you like. \n",
    "- Submit only this Jupyter notebook to Moodle.  Do not compress it using tar, rar, zip, etc. \n",
    "- Extra credit questions will not make your homework total scores overflow i.e., not exceed 30% in the final grade. But you can use extra credit in one homework to cover another.\n",
    "\n",
    "**Acknowledgment** : Chris Ketelsen\n"
   ]
  },
  {
   "cell_type": "markdown",
   "metadata": {
    "deletable": false,
    "editable": false,
    "nbgrader": {
     "cell_type": "markdown",
     "checksum": "14b00eba73658f7416196d099c69de22",
     "grade": false,
     "grade_id": "cell-b59de3e2244455bf",
     "locked": true,
     "schema_version": 3,
     "solution": false,
     "task": false
    }
   },
   "source": [
    "**Please put your name and cuidentity username.**"
   ]
  },
  {
   "cell_type": "markdown",
   "metadata": {},
   "source": [
    "**Name**: Muntaha Pasha"
   ]
  },
  {
   "cell_type": "markdown",
   "metadata": {},
   "source": [
    "**Identity Key**: mupa0444"
   ]
  },
  {
   "cell_type": "code",
   "execution_count": 1,
   "metadata": {
    "deletable": false,
    "editable": false,
    "nbgrader": {
     "cell_type": "code",
     "checksum": "1b661d22b2de3af882b4fc5a40210afe",
     "grade": false,
     "grade_id": "cell-831d67dea055c2cb",
     "locked": true,
     "schema_version": 3,
     "solution": false,
     "task": false
    }
   },
   "outputs": [],
   "source": [
    "import math\n",
    "import pickle\n",
    "import gzip\n",
    "import numpy as np\n",
    "import pandas\n",
    "import matplotlib.pylab as plt\n",
    "%matplotlib inline"
   ]
  },
  {
   "cell_type": "markdown",
   "metadata": {
    "deletable": false,
    "editable": false,
    "nbgrader": {
     "cell_type": "markdown",
     "checksum": "61f620452e69363a04701e024ee182a4",
     "grade": false,
     "grade_id": "cell-74dc2d431f34714c",
     "locked": true,
     "schema_version": 3,
     "solution": false,
     "task": false
    }
   },
   "source": [
    "## [40 points] Problem 1 - Perceptron Training\n",
    "\n",
    "Consider a binary classification problem on the following dataset:\n",
    "\n",
    "| x1   | x2         | x3      | y| \n",
    "|:------:|:------------:| :-----------:|---:|\n",
    "|0|0|0|-1|\n",
    "|0|0|1|1|\n",
    "|0|1|0|1|\n",
    "|1|0|0|1|\n",
    "|0|1|1|-1|\n",
    "|1|1|0|-1|\n",
    "|1|0|1|-1|\n",
    "|1|1|1|1|\n",
    "\n",
    "We are going to experiment with the Perceptron algorithm in this problem."
   ]
  },
  {
   "cell_type": "markdown",
   "metadata": {
    "deletable": false,
    "editable": false,
    "nbgrader": {
     "cell_type": "markdown",
     "checksum": "a8f7f0efec0fc2af24455801926a3139",
     "grade": false,
     "grade_id": "cell-8063e7270b6eedc9",
     "locked": true,
     "schema_version": 3,
     "solution": false,
     "task": false
    }
   },
   "source": [
    "### Part 1 [5 points]\n",
    "Complete the `perceptron_train` function and report the results."
   ]
  },
  {
   "cell_type": "markdown",
   "metadata": {},
   "source": [
    "**SOURCES USED:**\n",
    "\n",
    "1 - (How a Perceptron Works in Python w/ Activation Value) https://machinelearningmastery.com/implement-perceptron-algorithm-scratch-python/\n",
    "\n",
    "2 - (Understanding a different Perceptron Implementation) https://towardsdatascience.com/perceptron-and-its-implementation-in-python-f87d6c7aa428"
   ]
  },
  {
   "cell_type": "code",
   "execution_count": 2,
   "metadata": {
    "deletable": false,
    "editable": false,
    "nbgrader": {
     "cell_type": "code",
     "checksum": "365046976b8740444573218b20517901",
     "grade": false,
     "grade_id": "cell-3e62020d026f50d7",
     "locked": true,
     "schema_version": 3,
     "solution": false,
     "task": false
    }
   },
   "outputs": [],
   "source": [
    "# Do not change - unless needed\n",
    "data = np.array([\n",
    "    [0, 0, 0, 1, 0, 1, 1, 1],\n",
    "    [0, 0, 1, 0, 1, 1, 0, 1],\n",
    "    [0, 1, 0, 0, 1, 0, 1, 1],\n",
    "    [-1, 1, 1, 1, -1, -1, -1, 1]\n",
    "])\n",
    "data = np.transpose(data)\n",
    "# Initialize the weights and bias (note that we use a non-standard initialization here).\n",
    "weights = np.array([0, 0.5, 0.5])\n",
    "bias = 1"
   ]
  },
  {
   "cell_type": "code",
   "execution_count": 3,
   "metadata": {
    "deletable": false,
    "nbgrader": {
     "cell_type": "code",
     "checksum": "ba398c225cc45fdae95576e41c1edc5f",
     "grade": false,
     "grade_id": "cell-583db73f125b72af",
     "locked": false,
     "schema_version": 3,
     "solution": true
    }
   },
   "outputs": [],
   "source": [
    "def perceptron_train(data, weights, bias):\n",
    "    \"\"\"\n",
    "    apply transformation and update weights and bias\n",
    "    :type X: array\n",
    "    :type y: int\n",
    "    :type weights: array\n",
    "    :type bias : int\n",
    "    :rtype: weights, bias, number of mistakes\n",
    "    \"\"\"\n",
    "    mistakes_count = 0\n",
    "    for row in data:\n",
    "        X = np.array(row[:3])\n",
    "        y = row[-1]\n",
    "        #Just seeing what variables X and y are storing.\n",
    "        #print(X,y)\n",
    "        #row = row + 1\n",
    "        # YOUR CODE HERE\n",
    "        #Holding value to start the perceptron\n",
    "        start = 0\n",
    "        weightLen = len(weights)\n",
    "        #Go through weights array\n",
    "        for i in range(weightLen):\n",
    "            #Multiple weight [i] by X[i]\n",
    "            WeightsArr = weights[i] * X[i]\n",
    "            #Update value\n",
    "            start = start + WeightsArr\n",
    "        #Update value again with bias\n",
    "        start = start + bias\n",
    "        #The Perceptron Activation\n",
    "        checkerVal = start*y\n",
    "        if(checkerVal <= 0):\n",
    "            #Update Mistakes\n",
    "            mistakes_count = mistakes_count + 1\n",
    "            WeightAdd = y * X\n",
    "            #Update weights\n",
    "            weights = weights + WeightAdd\n",
    "            #Update Bias\n",
    "            bias = bias + y\n",
    "        #raise NotImplementedError()\n",
    "    return weights, bias, mistakes_count"
   ]
  },
  {
   "cell_type": "markdown",
   "metadata": {
    "deletable": false,
    "editable": false,
    "nbgrader": {
     "cell_type": "markdown",
     "checksum": "76e07a38f846b798673bf2fe408c5901",
     "grade": false,
     "grade_id": "cell-1d2387cfaf34ed49",
     "locked": true,
     "schema_version": 3,
     "solution": false,
     "task": false
    }
   },
   "source": [
    "#### Part 1 A [2.5 points]\n",
    "Report the weights, bias, and number of mistakes after the first epoch."
   ]
  },
  {
   "cell_type": "code",
   "execution_count": 4,
   "metadata": {
    "deletable": false,
    "editable": false,
    "nbgrader": {
     "cell_type": "code",
     "checksum": "fa772438f15187642c3bf0303aef679f",
     "grade": false,
     "grade_id": "cell-254f1f918dd02cfe",
     "locked": true,
     "schema_version": 3,
     "solution": false,
     "task": false
    }
   },
   "outputs": [
    {
     "name": "stdout",
     "output_type": "stream",
     "text": [
      "weights: [ 1.  -0.5  0.5], bias: 0, mistakes: 5\n"
     ]
    }
   ],
   "source": [
    "### Do not change or remove this code\n",
    "weights, bias, number_of_mistakes = perceptron_train(data, weights, bias)\n",
    "print(f'weights: {weights}, bias: {bias}, mistakes: {number_of_mistakes}')"
   ]
  },
  {
   "cell_type": "code",
   "execution_count": 5,
   "metadata": {
    "deletable": false,
    "editable": false,
    "nbgrader": {
     "cell_type": "code",
     "checksum": "a4443206bb8030ffda6798560f3358ec",
     "grade": true,
     "grade_id": "cell-71a254a22738d8dd",
     "locked": true,
     "points": 2.5,
     "schema_version": 3,
     "solution": false
    }
   },
   "outputs": [],
   "source": [
    "# for grading - ignore"
   ]
  },
  {
   "cell_type": "markdown",
   "metadata": {
    "deletable": false,
    "editable": false,
    "nbgrader": {
     "cell_type": "markdown",
     "checksum": "91d04822f00006225e965d9df80837ca",
     "grade": false,
     "grade_id": "cell-ec32d4a96188a96d",
     "locked": true,
     "schema_version": 3,
     "solution": false,
     "task": false
    }
   },
   "source": [
    "#### Part 1 B [2.5 points]:\n",
    "Run the perceptron training for 50 more epochs with the updated weights and report the weights, bias and number of mistakes."
   ]
  },
  {
   "cell_type": "code",
   "execution_count": 6,
   "metadata": {
    "deletable": false,
    "nbgrader": {
     "cell_type": "code",
     "checksum": "ac6b3485d7a8339a44998a1b549c3dba",
     "grade": false,
     "grade_id": "cell-9162930c9497743a",
     "locked": false,
     "schema_version": 3,
     "solution": true
    }
   },
   "outputs": [
    {
     "name": "stdout",
     "output_type": "stream",
     "text": [
      "weights: [1.  0.5 0.5], bias: -1, mistakes: 4\n"
     ]
    }
   ],
   "source": [
    "epochs = 50\n",
    "for i in range(epochs):\n",
    "    # YOUR CODE HERE\n",
    "    # raise NotImplementedError()\n",
    "    weights, bias, number_of_mistakes = perceptron_train(data, weights, bias)\n",
    "print(f'weights: {weights}, bias: {bias}, mistakes: {number_of_mistakes}')"
   ]
  },
  {
   "cell_type": "code",
   "execution_count": 7,
   "metadata": {
    "deletable": false,
    "editable": false,
    "nbgrader": {
     "cell_type": "code",
     "checksum": "9fc7e537a12e005eaf453323c97b8d5b",
     "grade": true,
     "grade_id": "cell-959e42c284018b8d",
     "locked": true,
     "points": 2.5,
     "schema_version": 3,
     "solution": false
    }
   },
   "outputs": [],
   "source": [
    "# for grading - ignore"
   ]
  },
  {
   "cell_type": "markdown",
   "metadata": {
    "deletable": false,
    "editable": false,
    "nbgrader": {
     "cell_type": "markdown",
     "checksum": "e475025d108f79ae21fa50b640b4eb17",
     "grade": false,
     "grade_id": "cell-fdb42b2a6b9cefea",
     "locked": true,
     "schema_version": 3,
     "solution": false
    }
   },
   "source": [
    "### Part 2 [5 points] \n",
    "Is it possible that your Perceptron classifier would \n",
    "ever perfectly classify all training examples after more passes of the Perceptron Algorithm?\n",
    "Clearly explain your reasoning."
   ]
  },
  {
   "cell_type": "markdown",
   "metadata": {},
   "source": [
    "**SOURCES USED:**\n",
    "\n",
    "1 - (Perceptron Algorithm) https://www.cs.utah.edu/~zhe/pdf/lec-10-perceptron-upload.pdf"
   ]
  },
  {
   "cell_type": "markdown",
   "metadata": {
    "deletable": false,
    "nbgrader": {
     "cell_type": "markdown",
     "checksum": "aab341a9986cebe8f0e3a28dd5841d0e",
     "grade": true,
     "grade_id": "cell-9e4148ad96554da5",
     "locked": false,
     "points": 5,
     "schema_version": 3,
     "solution": true
    }
   },
   "source": [
    "**(SOLUTION):**\n",
    "\n",
    "The Perceptron Classifier wouldn't be able to perfectly classify the training examples even after more passes because the classes themselves are not linearly separable. We have $1$, and $-1$ as our classes and if we look at data, we end up seeing in the 3D space that points are opppositely classified on separate corners and thus making it impossible to really split our data linearly. $\\checkmark$"
   ]
  },
  {
   "cell_type": "markdown",
   "metadata": {
    "deletable": false,
    "editable": false,
    "nbgrader": {
     "cell_type": "markdown",
     "checksum": "688bd1e9d28214b6633962030202fe85",
     "grade": false,
     "grade_id": "cell-91fc1b93bd24f56d",
     "locked": true,
     "schema_version": 3,
     "solution": false
    }
   },
   "source": [
    "### Part 3 [5 points] \n",
    "Does the Perceptron classifier necessarily make the same number of mistakes after the first epoch if the data is presented in any other randomized order? \n",
    "    Explain your reasoning."
   ]
  },
  {
   "cell_type": "markdown",
   "metadata": {
    "deletable": false,
    "nbgrader": {
     "cell_type": "markdown",
     "checksum": "008162ff8ebf6900421370575c9e7014",
     "grade": true,
     "grade_id": "cell-47e30b7cd8370b85",
     "locked": false,
     "points": 5,
     "schema_version": 3,
     "solution": true
    }
   },
   "source": [
    "**(SOLUTION):**\n",
    "\n",
    "Not Necessarily. Say we do have a different order for our data, and we make a mistake. Well the mistakes we make will affect both our bias and weight, and in turn those affect how the data points after are assessed. So therefore, the order $\\textbf{does}$ matter in this case. $\\checkmark$"
   ]
  },
  {
   "cell_type": "markdown",
   "metadata": {
    "deletable": false,
    "editable": false,
    "nbgrader": {
     "cell_type": "markdown",
     "checksum": "24d12824d7ac5315d4203bf70d89feed",
     "grade": false,
     "grade_id": "cell-571944605a5a58ab",
     "locked": true,
     "schema_version": 3,
     "solution": false,
     "task": false
    }
   },
   "source": [
    "###  Part 4 [15 Points]:  Perceptron Classifier on random generated data\n",
    "\n",
    "Update the Perceptron Learning Algorithm to explore the convergence on linearly separable simulated data sets with particular properties. Take a look at the `Perceptron` class below."
   ]
  },
  {
   "cell_type": "markdown",
   "metadata": {},
   "source": [
    "1 - (Numpy Random Permutations) https://docs.scipy.org/doc/numpy-1.15.0/reference/generated/numpy.random.permutation.html"
   ]
  },
  {
   "cell_type": "code",
   "execution_count": 8,
   "metadata": {
    "deletable": false,
    "nbgrader": {
     "cell_type": "code",
     "checksum": "0ca135bbd064fc82b2a3d5b5c950c25f",
     "grade": false,
     "grade_id": "cell-7770ef2854032d8b",
     "locked": false,
     "schema_version": 3,
     "solution": true
    }
   },
   "outputs": [],
   "source": [
    "class Perceptron:\n",
    "    \"\"\"\n",
    "    Class to fit a perceptron classifier to simulated data\n",
    "    \"\"\"\n",
    "\n",
    "    def __init__(self, n=100, margin=0.1, X=None, y=None, random_state=1241):\n",
    "        \"\"\"\n",
    "        Initializes Perceptron class.  Generates training data and sets parameters. \n",
    "\n",
    "        :param n: the number of training examples\n",
    "        :param margin: the margin between decision boundary and data\n",
    "        :param random_state: seed for random number generator \n",
    "        :param X: Input training features.  Only used for unit testing. \n",
    "        :param y: Input training labels.  Only used for unit testing. \n",
    "        \"\"\"\n",
    "        # initalize random seed\n",
    "        np.random.seed(random_state)\n",
    "\n",
    "        # initialize parameters\n",
    "        self.n, self.M = n, margin\n",
    "\n",
    "        # generate random simulated data\n",
    "        self.X_train, self.y_train = self.gen_data()\n",
    "\n",
    "        # only used for unit tests\n",
    "        if X is not None and y is not None:\n",
    "            self.X_train, self.y_train, self.n = X, y, X.shape[0]\n",
    "\n",
    "        # initialize weights and bias\n",
    "        self.w = np.array([1.0, 0.0])\n",
    "        self.b = 0\n",
    "\n",
    "        # initialize total mistake counter\n",
    "        self.num_mistakes = 0\n",
    "\n",
    "    def train(self, max_epochs=100):\n",
    "        \"\"\"\n",
    "        Runs the Perceptron Algorithm until all training data is correctly classified. \n",
    "\n",
    "        :param max_epochs: Maximum number of epochs to perform before stopping.\n",
    "        \"\"\"\n",
    "\n",
    "        # YOUR CODE HERE\n",
    "        # raise NotImplementedError()\n",
    "        #Traverse through Epochs\n",
    "        for i in range(max_epochs):\n",
    "            #Initialize mistake variable\n",
    "            mistake = 0\n",
    "            X_train_len = len(self.X_train)\n",
    "            #We want a random permutation of data, we want to shuffle it before our training.\n",
    "            randomPerm = np.random.permutation(X_train_len)\n",
    "            #Add a permutation of random variables to an array of y's and X's\n",
    "            y_new = self.y_train[randomPerm]\n",
    "            X_new = self.X_train[randomPerm]\n",
    "            #print(y_new)\n",
    "            #print(X_new)\n",
    "            #Now for tuple in X_new...\n",
    "            for j, k in enumerate(X_new):\n",
    "                #print(self.w)\n",
    "                #print(j, k)\n",
    "                #Now take the dot product of two arrays.\n",
    "                dotVal = np.dot(k, self.w)\n",
    "                #Add the dot product and the bias to our activation value\n",
    "                v = dotVal + self.b\n",
    "                #Check for mistakes\n",
    "                if(v * y_new[j] <= 0):\n",
    "                    #Update bias\n",
    "                    self.b = self.b + y_new[j]\n",
    "                    #Update weight\n",
    "                    self.w = self.w + (y_new[j] * k)\n",
    "                    #Update mistake value\n",
    "                    mistake = mistake + 1\n",
    "            #Now update mistakes with the mistake value\n",
    "            self.num_mistakes = self.num_mistakes + mistake\n",
    "            #If we have made 0 mistakes, then return and keep going.\n",
    "            if(mistake == 0):\n",
    "                return\n",
    "\n",
    "    def plot_model(self, decision_boundary=False):\n",
    "        \"\"\"\n",
    "        Plots the simulated data.  Plots the learned decision boundary (#TODO) \n",
    "        \"\"\"\n",
    "        fig, ax = plt.subplots(nrows=1, ncols=1, figsize=(8, 8))\n",
    "        colors = [\"steelblue\" if yi == -\n",
    "                  1 else \"#a76c6e\" for yi in self.y_train]\n",
    "        ax.scatter(self.X_train[:, 0], self.X_train[:, 1], color=colors, s=75)\n",
    "        if decision_boundary:\n",
    "            # YOUR CODE HERE\n",
    "            # raise NotImplementedError()\n",
    "            r = np.arange(-1, 1, 0.1)\n",
    "            p1 = (-self.b / self.w[1])\n",
    "            p2 = (self.w[0] / self.w[1])\n",
    "            p = p2 * r\n",
    "            r2 = p1 - p\n",
    "            ax.plot(r, r2, \"black\")\n",
    "        ax.grid(alpha=0.25)\n",
    "        ax.set_xlabel(r\"$x_1$\", fontsize=16)\n",
    "        ax.set_ylabel(r\"$x_2$\", fontsize=16)\n",
    "\n",
    "    def gen_data(self):\n",
    "        \"\"\"\n",
    "        Generate random linearly separable data with given margin. \n",
    "        Note: You should not need to change this function \n",
    "        \"\"\"\n",
    "        flip = np.random.choice([-1, 1])\n",
    "        pos_x1 = np.random.uniform(-1 / np.sqrt(2), 1 / np.sqrt(2), int(self.n / 2))\n",
    "        pos_x2 = np.random.uniform(\n",
    "            self.M + flip * 0.1, 1 / np.sqrt(2), int(self.n / 2))\n",
    "        pos_x2[-1] = self.M + flip * 0.1\n",
    "        neg_x1 = np.random.uniform(-1 / np.sqrt(2), 1 / np.sqrt(2), int(self.n / 2))\n",
    "        neg_x2 = np.random.uniform(-1 / np.sqrt(2), -\n",
    "                                   self.M + flip * 0.1, int(self.n / 2))\n",
    "        neg_x2[-1] = -self.M + flip * 0.1\n",
    "        X = np.concatenate((np.column_stack((pos_x1, pos_x2)),\n",
    "                            np.column_stack((neg_x1, neg_x2))))\n",
    "        X = np.dot(X, np.array(\n",
    "            [[np.cos(np.pi / 6), np.sin(np.pi / 6)], [-np.sin(np.pi / 6), np.cos(np.pi / 6)]]))\n",
    "        y = np.array([+1] * int(self.n / 2) + [-1] * int(self.n / 2))\n",
    "        rand_order = np.random.choice(\n",
    "            range(self.n), replace=False, size=self.n)\n",
    "        return X[rand_order], y[rand_order]"
   ]
  },
  {
   "cell_type": "markdown",
   "metadata": {
    "deletable": false,
    "editable": false,
    "nbgrader": {
     "cell_type": "markdown",
     "checksum": "625ae70cb8c85d1b6a19cf7b4e976b64",
     "grade": false,
     "grade_id": "cell-a686c48925c47ad0",
     "locked": true,
     "schema_version": 3,
     "solution": false,
     "task": false
    }
   },
   "source": [
    "#### Part 4 A [5 points]\n",
    "The `Perceptron` class above has the capability of generating its own training data with certain properties. Execute the cell below to generate $n=100$ simulated training examples and plot them. Experiment with the `margin` parameter (good values to try are between $0.01$ and $0.4$). Explain what the `margin` parameter is doing."
   ]
  },
  {
   "cell_type": "code",
   "execution_count": 9,
   "metadata": {},
   "outputs": [
    {
     "data": {
      "image/png": "[encoded data removed]",
      "text/plain": [
       "<Figure size 576x576 with 1 Axes>"
      ]
     },
     "metadata": {
      "needs_background": "light"
     },
     "output_type": "display_data"
    },
    {
     "data": {
      "image/png": "[encoded data removed]",
      "text/plain": [
       "<Figure size 576x576 with 1 Axes>"
      ]
     },
     "metadata": {
      "needs_background": "light"
     },
     "output_type": "display_data"
    },
    {
     "data": {
      "image/png": "[encoded data removed]",
      "text/plain": [
       "<Figure size 576x576 with 1 Axes>"
      ]
     },
     "metadata": {
      "needs_background": "light"
     },
     "output_type": "display_data"
    }
   ],
   "source": [
    "margin = 0.01 # subject to experiment\n",
    "perc = Perceptron(n=100, margin=margin)\n",
    "perc.plot_model(decision_boundary=False)\n",
    "\n",
    "margin = 0.2 # subject to experiment\n",
    "perc = Perceptron(n=100, margin=margin)\n",
    "perc.plot_model(decision_boundary=False)\n",
    "\n",
    "margin = 0.4 # subject to experiment\n",
    "perc = Perceptron(n=100, margin=margin)\n",
    "perc.plot_model(decision_boundary=False)"
   ]
  },
  {
   "cell_type": "markdown",
   "metadata": {
    "deletable": false,
    "nbgrader": {
     "cell_type": "markdown",
     "checksum": "50441211d139b2a4f9da7cd7ab870d31",
     "grade": true,
     "grade_id": "cell-788872a24aff264a",
     "locked": false,
     "points": 5,
     "schema_version": 3,
     "solution": true
    }
   },
   "source": [
    "**(SOLUTION):**\n",
    "\n",
    "After executing some different Margin Values, the conclusion I've reached is that what Margin is doing is actually changing how linearly separable two classes are. For example, let's look at the case of $0.01$. All the data points are extremely close to one another and its hard to distinguish where they'd be linearly spearable, as opposed to if you jump to a Margin value of $0.04$, you can immediately see how easy it is to separate the points. The $\\textbf{smaller}$ the margin, the $\\textbf{smaller}$ the distance between two classes and they may not be linearly separable, (though you could try running more Epochs and see if Perceptron can get you anywhere). The $\\textbf{larger}$ the margin, the $\\textbf{bigger}$ the distance between two classes and the easier it is to linearly separate them. $\\checkmark$"
   ]
  },
  {
   "cell_type": "markdown",
   "metadata": {
    "deletable": false,
    "editable": false,
    "nbgrader": {
     "cell_type": "markdown",
     "checksum": "2f38520aa6b264caf661dd8bfc856c06",
     "grade": false,
     "grade_id": "cell-6dfc5cb5c8b88c55",
     "locked": true,
     "schema_version": 3,
     "solution": false,
     "task": false
    }
   },
   "source": [
    "#### Part 4 B [5 points] \n",
    "Modify the `train` method in the `Perceptron` class to perform the Perceptron Learning Algorithm and learn weights ${\\bf w}$ and bias $b$ that perfectly classify the linearly separable training data. Your implementation should:\n",
    "\n",
    "- Visit all training examples in a random shuffled order over each training epoch.\n",
    "- Terminate when you finish an epoch without making a single classification error or when you hit the maximum number of epochs.\n",
    "- Use the `self.num_mistakes` counter to count the total number of classification errors over the entire training process.\n",
    "\n",
    "\n",
    "Notes:\n",
    "\n",
    "You should not use Scikit-Learn's Perceptron object in your solution.\n",
    "It's a good idea to implement a stopping criterion based on the `max_epochs` parameter as the first step. Later we'll look at training sets that will terminate on their own, but implementing a stopping mechanism will save you some pain in the development process.\n",
    "Do not change the initial guess for the weights and bias. These values were chosen to match the example done in lecture for the unit tests."
   ]
  },
  {
   "cell_type": "code",
   "execution_count": 10,
   "metadata": {
    "deletable": false,
    "editable": false,
    "nbgrader": {
     "cell_type": "code",
     "checksum": "6333832632b3cc873c66bb10c9a42266",
     "grade": true,
     "grade_id": "cell-ad1677859c4ce262",
     "locked": true,
     "points": 5,
     "schema_version": 3,
     "solution": false
    }
   },
   "outputs": [
    {
     "name": "stderr",
     "output_type": "stream",
     "text": [
      "TestNegMistake (tests.tests.TestPerceptron) ... ok\n",
      "TestPosMistake (tests.tests.TestPerceptron) ... ok\n",
      "\n",
      "----------------------------------------------------------------------\n",
      "Ran 2 tests in 0.005s\n",
      "\n",
      "OK\n"
     ]
    }
   ],
   "source": [
    "from tests import tests\n",
    "tests.run_test_suite('prob 1.4B', Perceptron)"
   ]
  },
  {
   "cell_type": "markdown",
   "metadata": {
    "deletable": false,
    "editable": false,
    "nbgrader": {
     "cell_type": "markdown",
     "checksum": "64eee99b14cbacdb362032c5619a38bc",
     "grade": false,
     "grade_id": "cell-36d78a28960b4f81",
     "locked": true,
     "schema_version": 3,
     "solution": false,
     "task": false
    }
   },
   "source": [
    "#### Part 4 C [5 points]\n",
    "Modify the `plot_model` method so that it plots the learned decision boundary with the training data. Demonstrate that your method is working by training a perceptron with a margin of your choice and displaying the resulting plot. What is the equation of the learned decision boundary? (Use symbols not numbers.)\n"
   ]
  },
  {
   "cell_type": "markdown",
   "metadata": {
    "deletable": false,
    "nbgrader": {
     "cell_type": "markdown",
     "checksum": "bfd198608dd122cc1be160a9766b8d25",
     "grade": true,
     "grade_id": "cell-807e6237e11d03ed",
     "locked": false,
     "points": 5,
     "schema_version": 3,
     "solution": true
    }
   },
   "source": [
    "YOUR ANSWER HERE"
   ]
  },
  {
   "cell_type": "code",
   "execution_count": 11,
   "metadata": {},
   "outputs": [
    {
     "data": {
      "image/png": "[encoded data removed]",
      "text/plain": [
       "<Figure size 576x576 with 1 Axes>"
      ]
     },
     "metadata": {
      "needs_background": "light"
     },
     "output_type": "display_data"
    }
   ],
   "source": [
    "perc = Perceptron(n=100, margin=0.15)\n",
    "perc.train(max_epochs = 100)\n",
    "perc.plot_model(decision_boundary=True)"
   ]
  },
  {
   "cell_type": "markdown",
   "metadata": {
    "deletable": false,
    "editable": false,
    "nbgrader": {
     "cell_type": "markdown",
     "checksum": "cbb4df34429b774fc8988dfc65b30c6c",
     "grade": false,
     "grade_id": "cell-637d0b72a2dec574",
     "locked": true,
     "schema_version": 3,
     "solution": false,
     "task": false
    }
   },
   "source": [
    "### Part 5 [10 points]\n",
    "\n",
    "Verify the theorem which states that, if you train a perceptron on linearly separable training data with margin $M > 0$ and each training point satisfies $\\|{\\bf x}\\|_2 \\leq 1$ then the Perceptron algorithm will complete after making at most $1/M^2$ classification mistakes.\n",
    "\n",
    "Do the following to verify the above statement: \n",
    "- Train perceptrons with $n = 100$ and different margins ($M=0.3, 0.1, 0.01, 0.001,$ and $0.0001$).\n",
    "- Produce a log-log plot with $1/M$ on the horizontal axis and the total numbers of mistakes on the vertical axis. \n",
    "- On the same set of axes, plot the theoretical upper bound on the number of training mistakes.\n",
    "\n",
    "Usually we run multiple simulations and get an averaged total number of mistakes for each margin, but it is fine if you only do once."
   ]
  },
  {
   "cell_type": "markdown",
   "metadata": {},
   "source": [
    "**SOURCES USED:**\n",
    "\n",
    "1 - (Plotting in Python) https://matplotlib.org/tutorials/introductory/pyplot.html"
   ]
  },
  {
   "cell_type": "code",
   "execution_count": 12,
   "metadata": {
    "deletable": false,
    "nbgrader": {
     "cell_type": "code",
     "checksum": "a51d12ddace6cca4e1138f86b7ac6114",
     "grade": true,
     "grade_id": "cell-5eb12c673017afa0",
     "locked": false,
     "points": 10,
     "schema_version": 3,
     "solution": true
    }
   },
   "outputs": [
    {
     "data": {
      "text/plain": [
       "Text(0, 0.5, 'Avg # of Mistakes')"
      ]
     },
     "execution_count": 12,
     "metadata": {},
     "output_type": "execute_result"
    },
    {
     "data": {
      "image/png": "[encoded data removed]",
      "text/plain": [
       "<Figure size 432x288 with 1 Axes>"
      ]
     },
     "metadata": {
      "needs_background": "light"
     },
     "output_type": "display_data"
    }
   ],
   "source": [
    "# YOUR CODE HERE\n",
    "# raise NotImplementedError()\n",
    "Margins = [0.3, 0.1, 0.01, 0.001, 0.0001]\n",
    "#Initialize two lists\n",
    "Frac_Marg = [] #For 1/M\n",
    "Frac_Marg2 = [] #For M^2 Upper Bound\n",
    "Mistakes = [] #For Average Mistakes\n",
    "mistake = []\n",
    "#First append the inverses of Margins\n",
    "for i in Margins:\n",
    "    Frac_Marg.append(1/i)\n",
    "#Now append Upper Bound Values (M^2)\n",
    "for i in Frac_Marg:\n",
    "    Frac_Marg2.append(i**2)\n",
    "#Create a list for Avg Mistakes Made\n",
    "for i in range(len(Margins)):\n",
    "    Mistakes.append(0)\n",
    "#Now within margins..\n",
    "for j, k in enumerate(Margins):\n",
    "    #Create a Mistake Array\n",
    "    for i in range(len(Margins)):\n",
    "        mistake.append(0)\n",
    "    #Now through margins list...\n",
    "    for l in range(len(Margins)):\n",
    "        #Find and perform Perceptron\n",
    "        perceptr = Perceptron(n = 100, margin = k)\n",
    "        perceptr.train(max_epochs = 1000000)\n",
    "        mistake[l] = perceptr.num_mistakes\n",
    "    #Update avg Mistakes\n",
    "    Mistakes[j] = sum(mistake)/len(Margins)\n",
    "    \n",
    "plt.loglog(Frac_Marg, Frac_Marg2, color = 'green', label = 'Upper Bound for Mistakes')\n",
    "plt.loglog(Frac_Marg, Mistakes, color = 'red', label = 'Average Mistakes')\n",
    "plt.legend()\n",
    "plt.xlabel(\"1/Margin\")\n",
    "plt.ylabel(\"Avg # of Mistakes\")"
   ]
  },
  {
   "cell_type": "markdown",
   "metadata": {
    "deletable": false,
    "editable": false,
    "nbgrader": {
     "cell_type": "markdown",
     "checksum": "4dced7aa38b797ebe718fb360950e806",
     "grade": false,
     "grade_id": "cell-9ff966dc7e96e595",
     "locked": true,
     "schema_version": 3,
     "solution": false,
     "task": false
    }
   },
   "source": [
    "#### Extra Credit [5 points]\n",
    "\n",
    "* Explain the limitations of the vanilla perceptron implemented above.\n",
    "* Provide pseudo code/steps to implement Voting Perceptron or Average Perceptron (see the textbook) and discuss the pros and cons (Compare space complexity)"
   ]
  },
  {
   "cell_type": "markdown",
   "metadata": {},
   "source": [
    "**SOURCES USED:**\n",
    "\n",
    "1 - (A Course in Machine Learning, ML Textbook) http://ciml.info/"
   ]
  },
  {
   "cell_type": "markdown",
   "metadata": {
    "deletable": false,
    "nbgrader": {
     "cell_type": "markdown",
     "checksum": "f845d3da91814bdd23a2bf0699bf8fba",
     "grade": true,
     "grade_id": "cell-945d3bde845764bf",
     "locked": false,
     "points": 0,
     "schema_version": 3,
     "solution": true
    }
   },
   "source": [
    "**(SOLUTION):**\n",
    "\n",
    "* Explain the limitations of the vanilla perceptron implemented above\n",
    "\n",
    "While the Vanilla Perceptron Algorithm does tend to work well most of the times, it certainly does have its limitations. One such limitation as was mentioned in our Machine Learning Textbook.\n",
    "$\\textbf{A Course in Machine Learning}, \\text{Hal Daumé III}$, cites that the Vanilla Perceptron \"counts later points more than it counts earlier points\". Meaning, if our Perceptron was classifying over a thousand or so data points, and did a really good job at classifying a majority of those points, but then right at the end it decided to throw an error, then we've basically wasted a perfectly good weight vector (which then leads us into how to prolong the life of a weight vector via Voting). To conclude, the main issue is that the classifications we do later can sometimes heavily override all the progress we make in the beginning! $\\checkmark$.\n",
    "\n",
    "* Average Percepton Algorithm Pseudocode, Pros/Cons, Complexity\n",
    "\n",
    "To implement the Average Perceptron PseudoCode, we can follow along with the basic steps given to us in the textbook.\n",
    "\n",
    "$\\hspace{19mm} \\text{Input: A Training Set (D) with labels, containing tuples of (x, y) pairings.}$\n",
    "$\\hspace{19mm} \\text{Initialize: HyperParamater, (E), Number of Epochs}$\n",
    "$\\hspace{19mm} \\text{Initialize: Weights Vector (w) and Bias}$\n",
    "$\\hspace{19mm} \\text{Initialize: Cached Weights Vector (u) and Bias}$\n",
    "$\\hspace{19mm} \\text{Initialize: Example Counter(c) to 1.}$\n",
    "\n",
    "$\\hspace{19mm} \\text{for i = 1 ... E do:}$\n",
    "\n",
    "$\\hspace{25mm} \\text{for all tuples (x, y) in D do:}$\n",
    "\n",
    "$\\hspace{31mm} \\text{if y(w}\\cdot \\text{ x + b)} \\leq 0, \\text{then:}$\n",
    "\n",
    "$\\hspace{37mm} \\text{w = w + y x} \\text{     //Weights Update}$\n",
    "\n",
    "$\\hspace{37mm} \\text{b = b + y} \\text{     //Bias Update}$\n",
    "\n",
    "$\\hspace{37mm} \\text{u = u + y c x} \\text{     //Catched Weights Update}$\n",
    "\n",
    "$\\hspace{37mm} \\beta = \\beta \\text{ + y c} \\text{     //Cached Bias Updates}$\n",
    "\n",
    "$\\hspace{31mm} \\text{end if:}$\n",
    "\n",
    "$\\hspace{31mm} \\text{c = c + 1} \\text{     //Counter Incrementing w/ or w/o update}$\n",
    "\n",
    "$\\hspace{25mm} \\text{end for}$\n",
    "\n",
    "$\\hspace{19mm} \\text{end for}$\n",
    "\n",
    "$\\hspace{19mm} \\text{return w -} \\frac{1}{c} \\text{u, b -} \\frac{1}{c} \\beta$\n",
    "\n",
    "So at the end, we are returning an averaged weight and bias.\n",
    "\n",
    "The Pros of Averaged Perceptron are that we can maintain a currently running sum of an averaged weight vector along with an averaged bias. Our prediction for the Test-Time is as efficient as Vanilla Perceptron. It does generalize better to test the data, but the cons of Averaged Perceptron are that eventually though, it will start to overfit on the data so you would need to stop it before it does so. According to the figure in the Textbook, it shows how Averaged Perceptron generalizes better than perceptron on the training and test data, however we run the risk of overfitting. $\\checkmark$"
   ]
  },
  {
   "cell_type": "markdown",
   "metadata": {
    "deletable": false,
    "editable": false,
    "nbgrader": {
     "cell_type": "markdown",
     "checksum": "822b6ee48d02916efe2d2645b0cfbcac",
     "grade": false,
     "grade_id": "cell-96a1ce6a1ab8dabc",
     "locked": true,
     "schema_version": 3,
     "solution": false,
     "task": false
    }
   },
   "source": [
    "## [60 points] Problem 2 : Logistic Regression + SGD"
   ]
  },
  {
   "cell_type": "markdown",
   "metadata": {
    "deletable": false,
    "editable": false,
    "nbgrader": {
     "cell_type": "markdown",
     "checksum": "06b1aa13eba1a651cdf9c04ecebc1cf3",
     "grade": false,
     "grade_id": "cell-051a2362799a8530",
     "locked": true,
     "schema_version": 3,
     "solution": false,
     "task": false
    }
   },
   "source": [
    "In this Problem, you'll implement a Logistic Regression classifier to predict whether person on the Titanic will survive or not.\n",
    "\n",
    "\n",
    "Dataset has following attributes:\n",
    "\n",
    "|Variable|Definition|Key|\n",
    "|:----:|:----:|:---|\n",
    "|survival|\tSurvival|\t0 = No, 1 = Yes|\n",
    "|pclass|\tTicket class|\t1 = 1st, 2 = 2nd, 3 = 3rd|\n",
    "|Age |Age in years\t||\n",
    "|fare\t|Passenger fare|\t|\n",
    "|sibsp\t|# of siblings / spouses aboard the Titanic| |\n",
    "|parch\t|# of parents / children aboard the Titanic\t||\n",
    "|sex\t| Sex|\tone hot encoded male, female|\n",
    "|embarked | Port of Embarkation | one hot encoded C = Cherbourg, Q = Queenstown, S = Southampton|\n",
    "\n"
   ]
  },
  {
   "cell_type": "markdown",
   "metadata": {
    "deletable": false,
    "editable": false,
    "nbgrader": {
     "cell_type": "markdown",
     "checksum": "c996abcb9c467c6f95987594713922e5",
     "grade": false,
     "grade_id": "cell-81b4a35e847dde6f",
     "locked": true,
     "schema_version": 3,
     "solution": false,
     "task": false
    }
   },
   "source": [
    "Following is a class to load the titanic dataset."
   ]
  },
  {
   "cell_type": "code",
   "execution_count": 13,
   "metadata": {},
   "outputs": [],
   "source": [
    "# Make sure you have installed pandas and numpy before you run.\n",
    "import random\n",
    "import pandas as pd\n",
    "import numpy as np\n",
    "import matplotlib.pyplot as plt\n",
    "from math import exp, log\n",
    "from collections import defaultdict\n",
    "\n",
    "class Dataset:\n",
    "    \"\"\"\n",
    "    Class to load dataset containing titanic survival features\n",
    "    \"\"\"\n",
    "\n",
    "    def __init__(self, location, random_state=1241):\n",
    "        # You shouldn't have to modify this class, but you can if you'd like\n",
    "        # Load the dataset\n",
    "        np.random.seed(random_state)\n",
    "        f = gzip.open(location, 'rb')\n",
    "        self.train_x, self.train_y, self.test_x, self.test_y = pickle.load(f)\n",
    "        # appending biases\n",
    "        self.train_x = np.concatenate((np.ones((self.train_x.shape[0], 1)), self.train_x), axis=1)\n",
    "        self.test_x = np.concatenate((np.ones((self.test_x.shape[0], 1)), self.test_x), axis=1)\n",
    "        f.close()\n",
    "        \n",
    "    @staticmethod\n",
    "    def shuffle(X, y):\n",
    "        \"\"\" Shuffle training data \"\"\"\n",
    "        shuffled_indices = np.random.permutation(len(y))\n",
    "        return X[shuffled_indices], y[shuffled_indices]"
   ]
  },
  {
   "cell_type": "markdown",
   "metadata": {
    "deletable": false,
    "editable": false,
    "nbgrader": {
     "cell_type": "markdown",
     "checksum": "330edbe78f9b7e49b7a6db6ebef70a93",
     "grade": false,
     "grade_id": "cell-29b47ae8fec3862a",
     "locked": true,
     "schema_version": 3,
     "solution": false,
     "task": false
    }
   },
   "source": [
    "### Part 1 [5 points]: Implementing sigmoid\n",
    "\n",
    "#### Part 1 A [4 points] \n",
    "First, implement the `sigmoid` function to return the output by applying the sigmoid function $\\sigma(z)$ to the input parameter, where the sigmoid function $\\sigma(z)$ is defined as:\n",
    "$$\n",
    "\\sigma(z) = \\frac{1}{1+e^{-z}}\n",
    "$$"
   ]
  },
  {
   "cell_type": "markdown",
   "metadata": {},
   "source": [
    "**SOURCES USED:**\n",
    "\n",
    "1 - (Help w/ Sigmoid in Python) https://www.geeksforgeeks.org/implement-sigmoid-function-using-numpy/"
   ]
  },
  {
   "cell_type": "code",
   "execution_count": 14,
   "metadata": {
    "deletable": false,
    "nbgrader": {
     "cell_type": "code",
     "checksum": "513ed252f9bf919d7c5606e1eeaf9f7f",
     "grade": false,
     "grade_id": "cell-389deffcd0e8b595",
     "locked": false,
     "schema_version": 3,
     "solution": true
    }
   },
   "outputs": [],
   "source": [
    "def sigmoid(score, threshold=20.0):\n",
    "    \"\"\"\n",
    "    Sigmoid function with a threshold\n",
    "    :param score: A real valued number to convert into a number between 0 and 1\n",
    "    :param threshold : Prevent overflow of exp by capping activation at 20.\n",
    "    return sigmoid function result.\n",
    "    \"\"\"\n",
    "    # TODO: Finish this function to return the output of applying the sigmoid\n",
    "    # function to the input score (Please do not use external libraries)\n",
    "    \n",
    "    # YOUR CODE HERE\n",
    "    # raise NotImplementedError()\n",
    "    avScore = abs(score)\n",
    "    #Check if the score bigger than the threshold\n",
    "    if(avScore > threshold):\n",
    "        #Update the score\n",
    "        score = np.sign(score) * threshold\n",
    "    #Now solve for sigma(z)\n",
    "    denom = 1 + exp(-score)\n",
    "    #Store value\n",
    "    sigmoidRes = 1 / denom\n",
    "    return sigmoidRes"
   ]
  },
  {
   "cell_type": "code",
   "execution_count": 15,
   "metadata": {
    "code_folding": [],
    "deletable": false,
    "editable": false,
    "nbgrader": {
     "cell_type": "code",
     "checksum": "3df8d7c20327dcc989c9f634eb8ecafc",
     "grade": true,
     "grade_id": "cell-73fb14b862081aa9",
     "locked": true,
     "points": 4,
     "schema_version": 3,
     "solution": false
    }
   },
   "outputs": [],
   "source": [
    "# verify sigmoid implemention w/ scipy;\n",
    "# note: you should NOT use scipy for your implementation!\n",
    "from scipy.stats import logistic\n",
    "assert sigmoid(1) == logistic.cdf(1)\n",
    "assert sigmoid(5) == logistic.cdf(5)\n",
    "assert sigmoid(100, threshold=20) == logistic.cdf(20)\n",
    "assert sigmoid(-1) == logistic.cdf(-1)\n",
    "assert sigmoid(-5) == logistic.cdf(-5)\n",
    "assert sigmoid(-100, threshold=20) == logistic.cdf(-20)"
   ]
  },
  {
   "cell_type": "markdown",
   "metadata": {
    "deletable": false,
    "editable": false,
    "nbgrader": {
     "cell_type": "markdown",
     "checksum": "0363e75f9e78551cc8495fa701709c95",
     "grade": false,
     "grade_id": "cell-cf2ae3f924808a05",
     "locked": true,
     "schema_version": 3,
     "solution": false,
     "task": false
    }
   },
   "source": [
    "#### Part 1 B [1 point]\n",
    "\n",
    "Next, implement the derivative of the `sigmoid` function, `sigmoid_grad`, i.e. $\\frac{\\partial\\sigma(x)}{\\partial x}$.\n",
    "\n",
    "Hint: your implementation of `sigmoid_grad` should be able to use  your `sigmoid` function to compute the derivative!"
   ]
  },
  {
   "cell_type": "markdown",
   "metadata": {},
   "source": [
    "**SOURCES USED:**\n",
    "\n",
    "1 - (Understanding Sigmoid/Derivative of Sigmoid in Python) https://pylessons.com/Logistic-Regression-part1/"
   ]
  },
  {
   "cell_type": "code",
   "execution_count": 16,
   "metadata": {
    "deletable": false,
    "nbgrader": {
     "cell_type": "code",
     "checksum": "f463d5a41efa533b8878eae4c4e45ba0",
     "grade": false,
     "grade_id": "cell-71a4ae76610d957e",
     "locked": false,
     "schema_version": 3,
     "solution": true,
     "task": false
    }
   },
   "outputs": [],
   "source": [
    "def sigmoid_grad(y, threshold=20.0):\n",
    "    \"\"\"\n",
    "    Derivative/gradient of the sigmoid function.\n",
    "    :param y: A real valued input for which to compute the derivative.\n",
    "    :param threshold : Prevent overflow of exp by capping activation at 20.\n",
    "    return sigmoid derivative function result.\n",
    "    \"\"\"\n",
    "    # TODO: Finish this function to return the output of applying the sigmoid\n",
    "    # function to the input score (Please do not use external libraries)\n",
    "    \n",
    "    # YOUR CODE HERE\n",
    "    # raise NotImplementedError()\n",
    "    sigmoidFunc = sigmoid(y)\n",
    "    d_s = sigmoidFunc * (1 - sigmoidFunc)\n",
    "    return d_s"
   ]
  },
  {
   "cell_type": "code",
   "execution_count": 17,
   "metadata": {
    "deletable": false,
    "editable": false,
    "nbgrader": {
     "cell_type": "code",
     "checksum": "3f5dc02db6428084de5c0be23408bd3b",
     "grade": true,
     "grade_id": "cell-cac94bfa1729f2b9",
     "locked": true,
     "points": 1,
     "schema_version": 3,
     "solution": false,
     "task": false
    }
   },
   "outputs": [],
   "source": [
    "# verify sigmoid_grad using numerical differentiation, i.e: f(x+h)-f(x-h) / 2h\n",
    "epsilon = 1.0E-8\n",
    "assert np.isclose(sigmoid_grad(1.0), (sigmoid(1.0 + epsilon) - sigmoid(1.0 - epsilon)) / (2.0*epsilon))\n",
    "assert np.isclose(sigmoid_grad(0.1), (sigmoid(0.1 + epsilon) - sigmoid(0.1 - epsilon)) / (2.0*epsilon))"
   ]
  },
  {
   "cell_type": "markdown",
   "metadata": {
    "deletable": false,
    "editable": false,
    "nbgrader": {
     "cell_type": "markdown",
     "checksum": "40175d340cb5e4c3bc6d87c4ead497b8",
     "grade": false,
     "grade_id": "cell-8cff871369e65e2d",
     "locked": true,
     "schema_version": 3,
     "solution": false,
     "task": false
    }
   },
   "source": [
    "### Part 2 [35 points]\n",
    "\n",
    "#### Part 2 A [15 points]\n",
    "\n",
    "The negative log likelihood objective is defined as:\n",
    "$$\n",
    "\\textrm{NLL}(\\boldsymbol{\\beta}) = -\\displaystyle\\sum_{i=1}^n \\left[y_i \\log \\sigma(\\boldsymbol{\\beta}^T{\\bf x}^{(i)}) + (1-y_i)\\log(1 - \\sigma(\\boldsymbol{\\beta}^T{\\bf x}^{(i)}))\\right] \n",
    "$$\n",
    "\n",
    "First, write down the derivative of the negative log likelihood objective function, with respect to $\\boldsymbol{\\beta}$. Since we are working with SGD, derive it for  $n=1$."
   ]
  },
  {
   "cell_type": "markdown",
   "metadata": {
    "deletable": false,
    "nbgrader": {
     "cell_type": "markdown",
     "checksum": "13710555e242e51a990a84623f24e685",
     "grade": true,
     "grade_id": "cell-18bc846ce0e4d6b3",
     "locked": false,
     "points": 1,
     "schema_version": 3,
     "solution": true,
     "task": false
    }
   },
   "source": [
    "**SOURCES USED:**\n",
    "\n",
    "1 - (Gradient Descent Estimation) https://www.cse.iitk.ac.in/users/piyush/courses/pml_winter16/slides_lec5.pdf\n",
    "\n",
    "**(SOLUTION):**\n",
    "\n",
    "Since we are deriving for $n = 1$, we can change the formula above to incorporate that.\n",
    "$$\n",
    "\\textrm{NLL}(\\boldsymbol{\\beta}) = -\\displaystyle\\sum_{i=1}^1 \\left[y_1 \\log \\sigma(\\boldsymbol{\\beta}^T{\\bf x}^{(1)}) + (1-y_1)\\log(1 - \\sigma(\\boldsymbol{\\beta}^T{\\bf x}^{(1)}))\\right] \n",
    "$$\n",
    "\n",
    "We can reduce the summation, that will go away because a sum from $1$ to $1$ is just the term itself so the sum will be gone, and we will be left with something like\n",
    "\n",
    "$$y_i \\cdot log \\sigma(\\beta^Tx_1) + (1 - y_1) \\cdot log(1 - \\sigma(B^Tx^{(1)})$$\n",
    "\n",
    "Then you can further simplify the logarithm term because the derivative of $log(x)$ is $\\frac{1}{x}$ so...\n",
    "\n",
    "$$\\frac {d(NLL)}{d\\beta} = y_1 \\cdot \\frac{1}{\\sigma(\\beta^Tx^1)} + (1 - y_1) \\cdot \\frac{1}{1 - \\sigma(B^Tx^1)}$$\n",
    "\n",
    "Now we can multiply common denominators.\n",
    "\n",
    "$$\n",
    "\\frac {d(NLL)}{d\\beta} = \\left(\\sigma(\\boldsymbol{\\beta}^T{\\bf x}^{(1)})-y_1\\right){x^1}\n",
    "$$"
   ]
  },
  {
   "cell_type": "markdown",
   "metadata": {
    "deletable": false,
    "editable": false,
    "nbgrader": {
     "cell_type": "markdown",
     "checksum": "3333819f9a33c14f73c4dd51200e03ad",
     "grade": false,
     "grade_id": "cell-747488c656351f6e",
     "locked": true,
     "schema_version": 3,
     "solution": false,
     "task": false
    }
   },
   "source": [
    "Next, using the `sigmoid` function implemented earlier, finish the `sgd_update` function so that it performs stochastic gradient descent on the single training example and updates the weight vector correspondingly without regularization."
   ]
  },
  {
   "cell_type": "markdown",
   "metadata": {},
   "source": [
    "**SOURCES USED:**\n",
    "\n",
    "1 - (Numpy Dot Product) https://www.tutorialspoint.com/numpy/numpy_dot.htm"
   ]
  },
  {
   "cell_type": "code",
   "execution_count": 18,
   "metadata": {
    "deletable": false,
    "nbgrader": {
     "cell_type": "code",
     "checksum": "602cc6df18ae878b26a9981a1edd4466",
     "grade": false,
     "grade_id": "cell-26bd636741b8b10c",
     "locked": false,
     "schema_version": 3,
     "solution": true,
     "task": false
    }
   },
   "outputs": [],
   "source": [
    "import math\n",
    "class LogReg:\n",
    "    def __init__(self, num_features, eta):\n",
    "        \"\"\"\n",
    "        Create a logistic regression classifier\n",
    "        :param num_features: The number of features (including bias)\n",
    "        :param eta: learning rate\n",
    "        \"\"\"\n",
    "        self.w = np.zeros(num_features)\n",
    "        self.eta = eta\n",
    "\n",
    "    def progress(self, examples_x, examples_y):\n",
    "        \"\"\"\n",
    "        Given a set of examples, compute the probability and accuracy\n",
    "        :param examples: The dataset to score\n",
    "        :return: A tuple of (log probability, accuracy)\n",
    "        \"\"\"\n",
    "\n",
    "        logprob = 0.0\n",
    "        num_right = 0\n",
    "        for x_i, y in zip(examples_x, examples_y):\n",
    "            p = sigmoid(self.w.dot(x_i))\n",
    "            if y == 1:\n",
    "                logprob += math.log(p)\n",
    "            else:\n",
    "                logprob += math.log(1.0 - p)\n",
    "\n",
    "            # Get accuracy\n",
    "            if abs(y - p) <= 0.5:\n",
    "                num_right += 1\n",
    "\n",
    "        return logprob, float(num_right) / float(len(examples_y))\n",
    "\n",
    "    def sgd_update(self, x_i, y, lam = 0.0):\n",
    "        \"\"\"\n",
    "        Compute a stochastic gradient update to improve the log likelihood.\n",
    "        :param x_i: The features of the example to take the gradient with respect to\n",
    "        :param y: The target output of the example to take the gradient with respect to\n",
    "        :param lam : regularization term\n",
    "        :return: Return the new value of the regression coefficients\n",
    "        \"\"\"\n",
    "        # TODO: Finish this function to do a single stochastic gradient descent update\n",
    "        # YOUR CODE HERE\n",
    "        # raise NotImplementedError()\n",
    "        #Use dot product\n",
    "        param1 = self.w.dot(x_i)\n",
    "        #Take the sigmoid function on the dot product\n",
    "        pVal = sigmoid(param1)\n",
    "        #These are the inner workings of the equation that I separated out.\n",
    "        yminp = y - pVal\n",
    "        p0 = (-x_i[0] * yminp)\n",
    "        eq0 = self.eta * p0\n",
    "        p1 = (x_i[1:] * yminp)\n",
    "        eq1 = self.w[1:] * lam * 2 - p1\n",
    "        eq2 = self.eta * eq1\n",
    "        #Put together the parts for w[0]\n",
    "        self.w[0] = self.w[0] - eq0\n",
    "        #Put together the parts for w[1]\n",
    "        self.w[1:] = self.w[1:] - eq2    "
   ]
  },
  {
   "cell_type": "code",
   "execution_count": 19,
   "metadata": {
    "deletable": false,
    "editable": false,
    "nbgrader": {
     "cell_type": "code",
     "checksum": "5e65a1f5fe8453a2faa2ec2ae20d6542",
     "grade": true,
     "grade_id": "cell-028c202a2089443e",
     "locked": true,
     "points": 14,
     "schema_version": 3,
     "solution": false,
     "task": false
    }
   },
   "outputs": [
    {
     "name": "stderr",
     "output_type": "stream",
     "text": [
      "testPosUnregUpdate (tests.tests.TestLogReg)\n",
      "test update based on positive example ... ok\n",
      "testNegUnregUpdate (tests.tests.TestLogReg)\n",
      "test update based on negative example ... ok\n",
      "\n",
      "----------------------------------------------------------------------\n",
      "Ran 2 tests in 0.004s\n",
      "\n",
      "OK\n"
     ]
    }
   ],
   "source": [
    "from tests import tests\n",
    "tests.run_test_suite('prob 2A', LogReg)"
   ]
  },
  {
   "cell_type": "markdown",
   "metadata": {
    "deletable": false,
    "editable": false,
    "nbgrader": {
     "cell_type": "markdown",
     "checksum": "037e5291f28d928d19acfbf44cce91b6",
     "grade": false,
     "grade_id": "cell-736f116c1e26304b",
     "locked": true,
     "schema_version": 3,
     "solution": false,
     "task": false
    }
   },
   "source": [
    "#### Part 2 B [15 points]\n",
    "Complete the code below to loop over the training data and perform stochastic gradient descent for a pre-defined number of epochs. You do not need to use the parameters lam and decay for this part.\n",
    "\n",
    "Note: remember to shuffle your training data using `Dataset.shuffle` at the beginning of each epoch."
   ]
  },
  {
   "cell_type": "markdown",
   "metadata": {},
   "source": [
    "**SOURCES USED:**\n",
    "\n",
    "1 - (More on Dataset Shuffling in different ways) https://www.w3schools.com/python/ref_random_shuffle.asp\n",
    "\n",
    "2 - (Zip Function) https://www.w3schools.com/python/ref_func_zip.asp\n",
    "\n",
    "3 - (More on Zip) https://www.programiz.com/python-programming/methods/built-in/zip"
   ]
  },
  {
   "cell_type": "code",
   "execution_count": 20,
   "metadata": {
    "code_folding": [],
    "deletable": false,
    "nbgrader": {
     "cell_type": "code",
     "checksum": "d569188718f6a39a59adcb22299049fd",
     "grade": false,
     "grade_id": "cell-a90025845b0cca0f",
     "locked": false,
     "schema_version": 3,
     "solution": true,
     "task": false
    }
   },
   "outputs": [],
   "source": [
    "def train(epochs, eta, store_epoch, lam=0, decay=0):\n",
    "    \"\"\"\n",
    "    Train a LogReg object for a set number of epochs with a given eta.\n",
    "    \n",
    "    Return three lists\n",
    "    Two lists keep track of training and test accuracy after every store_epoch epochs\n",
    "    \n",
    "    The third list keeps track of learning rate after every store_epoch epochs. All values in this list \n",
    "    will be the same if decay = 0 (Only required for Part 2F)\n",
    "    \n",
    "    With store_epoch = 100, you would store accuracies after epochs = 100, 200....\n",
    "    \n",
    "    :param epochs: total number of training epochs\n",
    "    :param eta: learning rate\n",
    "    :param store_epoch: store training and test accuracies every print_epoch epochs\n",
    "    :param lam: weight given to regularization term. \n",
    "    :param decay: Used to update learning rate during training (Part 3). \n",
    "                  Equals 0 when learning rate is constant throughout training (Part 2). \n",
    "    \"\"\"\n",
    "    \n",
    "    dataset_handler = Dataset('./data/titanic.pklz')\n",
    "    lr = LogReg(dataset_handler.train_x.shape[1], eta)\n",
    "    assert dataset_handler.train_x.shape == (796,11)\n",
    "    assert dataset_handler.test_x.shape == (200,11)\n",
    "    \n",
    "    train_accuracy_array = []\n",
    "    test_accuracy_array = []\n",
    "    learning_rates = []\n",
    "    for epoch in range(epochs):\n",
    "        # TODO: Finish the code to loop over the training data and perform a stochastic\n",
    "        # gradient descent update on each training example.\n",
    "        # NOTE: It may be helpful to call upon the 'progress' method in the LogReg class\n",
    "        # to make sure the algorithm is truly learning properly on both training and test data\n",
    "    # YOUR CODE HERE\n",
    "    # raise NotImplementedError()\n",
    "        #First, let's get our X and Y Test Data from shuffle function on test x and test y\n",
    "        XTest, YTest=(dataset_handler.test_x, dataset_handler.test_y)\n",
    "        #Now, let's get our X and Y Training Data from shuffle function on training x and training y\n",
    "        XTrain, YTrain = dataset_handler.shuffle(dataset_handler.train_x, dataset_handler.train_y)\n",
    "        #We need to zip our training data and update using sgd_update with values from X and Y Training\n",
    "        for i, j in zip(XTrain, YTrain):\n",
    "            #Use sgd update to complete the task\n",
    "            lr.sgd_update(i, j)\n",
    "        #Now, we know progress function returns a log probability, and a accuracy, so we can use this functions now.\n",
    "        lp_test, testAcc =lr.progress(XTest, YTest)\n",
    "        #We do the same thing for our training data now, we run progress and get back two return values.\n",
    "        lp_train, trainAcc = lr.progress(XTrain, YTrain)\n",
    "        #The next step is to take our test accuracies, and append it to the test array above.\n",
    "        test_accuracy_array.append(testAcc)\n",
    "        #Similarly, we append the array of training accuracy to the array given above.\n",
    "        train_accuracy_array.append(trainAcc)\n",
    "    return train_accuracy_array, test_accuracy_array, learning_rates"
   ]
  },
  {
   "cell_type": "code",
   "execution_count": 21,
   "metadata": {
    "deletable": false,
    "editable": false,
    "nbgrader": {
     "cell_type": "code",
     "checksum": "e52d383321fd404605b20d66fb64b39e",
     "grade": true,
     "grade_id": "cell-c8ab6db3236a4ff2",
     "locked": true,
     "points": 15,
     "schema_version": 3,
     "solution": false,
     "task": false
    }
   },
   "outputs": [
    {
     "name": "stdout",
     "output_type": "stream",
     "text": [
      "train accuracy after 100 epochs: 0.5\n",
      "test accuracy after 100 epochs: 0.52\n",
      "train accuracy after 200 epochs: 0.5037688442211056\n",
      "test accuracy after 200 epochs: 0.485\n",
      "train accuracy after 300 epochs: 0.7010050251256281\n",
      "test accuracy after 300 epochs: 0.7\n",
      "train accuracy after 400 epochs: 0.5263819095477387\n",
      "test accuracy after 400 epochs: 0.565\n",
      "train accuracy after 500 epochs: 0.5037688442211056\n",
      "test accuracy after 500 epochs: 0.485\n",
      "train accuracy after 600 epochs: 0.5477386934673367\n",
      "test accuracy after 600 epochs: 0.565\n",
      "train accuracy after 700 epochs: 0.7386934673366834\n",
      "test accuracy after 700 epochs: 0.715\n",
      "train accuracy after 800 epochs: 0.5037688442211056\n",
      "test accuracy after 800 epochs: 0.485\n",
      "train accuracy after 900 epochs: 0.6809045226130653\n",
      "test accuracy after 900 epochs: 0.72\n",
      "train accuracy after 1000 epochs: 0.6884422110552764\n",
      "test accuracy after 1000 epochs: 0.71\n",
      "train accuracy after 1100 epochs: 0.5037688442211056\n",
      "test accuracy after 1100 epochs: 0.485\n",
      "train accuracy after 1200 epochs: 0.6846733668341709\n",
      "test accuracy after 1200 epochs: 0.665\n",
      "train accuracy after 1300 epochs: 0.707286432160804\n",
      "test accuracy after 1300 epochs: 0.675\n",
      "train accuracy after 1400 epochs: 0.6871859296482412\n",
      "test accuracy after 1400 epochs: 0.66\n",
      "train accuracy after 1500 epochs: 0.5037688442211056\n",
      "test accuracy after 1500 epochs: 0.485\n",
      "train accuracy after 1600 epochs: 0.7336683417085427\n",
      "test accuracy after 1600 epochs: 0.74\n",
      "train accuracy after 1700 epochs: 0.6469849246231156\n",
      "test accuracy after 1700 epochs: 0.685\n",
      "train accuracy after 1800 epochs: 0.7462311557788944\n",
      "test accuracy after 1800 epochs: 0.75\n",
      "train accuracy after 1900 epochs: 0.6243718592964824\n",
      "test accuracy after 1900 epochs: 0.66\n",
      "train accuracy after 2000 epochs: 0.7487437185929648\n",
      "test accuracy after 2000 epochs: 0.715\n",
      "train accuracy after 2100 epochs: 0.5087939698492462\n",
      "test accuracy after 2100 epochs: 0.54\n",
      "train accuracy after 2200 epochs: 0.5226130653266332\n",
      "test accuracy after 2200 epochs: 0.525\n",
      "train accuracy after 2300 epochs: 0.6708542713567839\n",
      "test accuracy after 2300 epochs: 0.65\n",
      "train accuracy after 2400 epochs: 0.6306532663316583\n",
      "test accuracy after 2400 epochs: 0.63\n",
      "train accuracy after 2500 epochs: 0.75\n",
      "test accuracy after 2500 epochs: 0.71\n",
      "train accuracy after 2600 epochs: 0.6042713567839196\n",
      "test accuracy after 2600 epochs: 0.58\n",
      "train accuracy after 2700 epochs: 0.7248743718592965\n",
      "test accuracy after 2700 epochs: 0.73\n",
      "train accuracy after 2800 epochs: 0.7487437185929648\n",
      "test accuracy after 2800 epochs: 0.76\n",
      "train accuracy after 2900 epochs: 0.7010050251256281\n",
      "test accuracy after 2900 epochs: 0.69\n",
      "train accuracy after 3000 epochs: 0.6419597989949749\n",
      "test accuracy after 3000 epochs: 0.675\n",
      "train accuracy after 3100 epochs: 0.7512562814070352\n",
      "test accuracy after 3100 epochs: 0.765\n",
      "train accuracy after 3200 epochs: 0.6457286432160804\n",
      "test accuracy after 3200 epochs: 0.625\n",
      "train accuracy after 3300 epochs: 0.7374371859296482\n",
      "test accuracy after 3300 epochs: 0.735\n",
      "train accuracy after 3400 epochs: 0.7550251256281407\n",
      "test accuracy after 3400 epochs: 0.715\n",
      "train accuracy after 3500 epochs: 0.742462311557789\n",
      "test accuracy after 3500 epochs: 0.745\n",
      "train accuracy after 3600 epochs: 0.7512562814070352\n",
      "test accuracy after 3600 epochs: 0.72\n",
      "train accuracy after 3700 epochs: 0.7587939698492462\n",
      "test accuracy after 3700 epochs: 0.73\n",
      "train accuracy after 3800 epochs: 0.75\n",
      "test accuracy after 3800 epochs: 0.75\n",
      "train accuracy after 3900 epochs: 0.7600502512562815\n",
      "test accuracy after 3900 epochs: 0.74\n",
      "train accuracy after 4000 epochs: 0.7512562814070352\n",
      "test accuracy after 4000 epochs: 0.755\n",
      "train accuracy after 4100 epochs: 0.7437185929648241\n",
      "test accuracy after 4100 epochs: 0.745\n",
      "train accuracy after 4200 epochs: 0.6457286432160804\n",
      "test accuracy after 4200 epochs: 0.65\n",
      "train accuracy after 4300 epochs: 0.7562814070351759\n",
      "test accuracy after 4300 epochs: 0.72\n",
      "train accuracy after 4400 epochs: 0.6708542713567839\n",
      "test accuracy after 4400 epochs: 0.72\n",
      "train accuracy after 4500 epochs: 0.757537688442211\n",
      "test accuracy after 4500 epochs: 0.715\n",
      "train accuracy after 4600 epochs: 0.7412060301507538\n",
      "test accuracy after 4600 epochs: 0.71\n",
      "train accuracy after 4700 epochs: 0.7110552763819096\n",
      "test accuracy after 4700 epochs: 0.73\n",
      "train accuracy after 4800 epochs: 0.7562814070351759\n",
      "test accuracy after 4800 epochs: 0.75\n",
      "train accuracy after 4900 epochs: 0.7248743718592965\n",
      "test accuracy after 4900 epochs: 0.715\n",
      "train accuracy after 5000 epochs: 0.7562814070351759\n",
      "test accuracy after 5000 epochs: 0.715\n",
      "train accuracy after 5100 epochs: 0.757537688442211\n",
      "test accuracy after 5100 epochs: 0.765\n",
      "train accuracy after 5200 epochs: 0.5062814070351759\n",
      "test accuracy after 5200 epochs: 0.49\n",
      "train accuracy after 5300 epochs: 0.7462311557788944\n",
      "test accuracy after 5300 epochs: 0.725\n",
      "train accuracy after 5400 epochs: 0.7449748743718593\n",
      "test accuracy after 5400 epochs: 0.73\n",
      "train accuracy after 5500 epochs: 0.6620603015075377\n",
      "test accuracy after 5500 epochs: 0.64\n",
      "train accuracy after 5600 epochs: 0.7399497487437185\n",
      "test accuracy after 5600 epochs: 0.72\n",
      "train accuracy after 5700 epochs: 0.7562814070351759\n",
      "test accuracy after 5700 epochs: 0.72\n",
      "train accuracy after 5800 epochs: 0.7437185929648241\n",
      "test accuracy after 5800 epochs: 0.715\n",
      "train accuracy after 5900 epochs: 0.5213567839195979\n",
      "test accuracy after 5900 epochs: 0.535\n",
      "train accuracy after 6000 epochs: 0.6859296482412061\n",
      "test accuracy after 6000 epochs: 0.675\n",
      "train accuracy after 6100 epochs: 0.7550251256281407\n",
      "test accuracy after 6100 epochs: 0.715\n",
      "train accuracy after 6200 epochs: 0.6381909547738693\n",
      "test accuracy after 6200 epochs: 0.64\n",
      "train accuracy after 6300 epochs: 0.7613065326633166\n",
      "test accuracy after 6300 epochs: 0.75\n",
      "train accuracy after 6400 epochs: 0.7525125628140703\n",
      "test accuracy after 6400 epochs: 0.735\n",
      "train accuracy after 6500 epochs: 0.757537688442211\n",
      "test accuracy after 6500 epochs: 0.725\n",
      "train accuracy after 6600 epochs: 0.7474874371859297\n",
      "test accuracy after 6600 epochs: 0.735\n",
      "train accuracy after 6700 epochs: 0.6947236180904522\n",
      "test accuracy after 6700 epochs: 0.695\n",
      "train accuracy after 6800 epochs: 0.6017587939698492\n",
      "test accuracy after 6800 epochs: 0.575\n",
      "train accuracy after 6900 epochs: 0.5113065326633166\n",
      "test accuracy after 6900 epochs: 0.515\n",
      "train accuracy after 7000 epochs: 0.5540201005025126\n",
      "test accuracy after 7000 epochs: 0.535\n",
      "train accuracy after 7100 epochs: 0.7537688442211056\n",
      "test accuracy after 7100 epochs: 0.775\n",
      "train accuracy after 7200 epochs: 0.7512562814070352\n",
      "test accuracy after 7200 epochs: 0.74\n",
      "train accuracy after 7300 epochs: 0.6884422110552764\n",
      "test accuracy after 7300 epochs: 0.725\n",
      "train accuracy after 7400 epochs: 0.5050251256281407\n",
      "test accuracy after 7400 epochs: 0.485\n",
      "train accuracy after 7500 epochs: 0.7650753768844221\n",
      "test accuracy after 7500 epochs: 0.745\n",
      "train accuracy after 7600 epochs: 0.7537688442211056\n",
      "test accuracy after 7600 epochs: 0.72\n",
      "train accuracy after 7700 epochs: 0.7437185929648241\n",
      "test accuracy after 7700 epochs: 0.755\n",
      "train accuracy after 7800 epochs: 0.7512562814070352\n",
      "test accuracy after 7800 epochs: 0.72\n",
      "train accuracy after 7900 epochs: 0.7638190954773869\n",
      "test accuracy after 7900 epochs: 0.735\n",
      "train accuracy after 8000 epochs: 0.7587939698492462\n",
      "test accuracy after 8000 epochs: 0.72\n",
      "train accuracy after 8100 epochs: 0.5138190954773869\n",
      "test accuracy after 8100 epochs: 0.53\n",
      "train accuracy after 8200 epochs: 0.7613065326633166\n",
      "test accuracy after 8200 epochs: 0.745\n",
      "train accuracy after 8300 epochs: 0.7474874371859297\n",
      "test accuracy after 8300 epochs: 0.725\n",
      "train accuracy after 8400 epochs: 0.6809045226130653\n",
      "test accuracy after 8400 epochs: 0.67\n",
      "train accuracy after 8500 epochs: 0.6972361809045227\n",
      "test accuracy after 8500 epochs: 0.695\n",
      "train accuracy after 8600 epochs: 0.5339195979899497\n",
      "test accuracy after 8600 epochs: 0.505\n",
      "train accuracy after 8700 epochs: 0.5778894472361809\n",
      "test accuracy after 8700 epochs: 0.575\n",
      "train accuracy after 8800 epochs: 0.7525125628140703\n",
      "test accuracy after 8800 epochs: 0.78\n",
      "train accuracy after 8900 epochs: 0.75\n",
      "test accuracy after 8900 epochs: 0.72\n",
      "train accuracy after 9000 epochs: 0.6582914572864321\n",
      "test accuracy after 9000 epochs: 0.655\n",
      "train accuracy after 9100 epochs: 0.5489949748743719\n",
      "test accuracy after 9100 epochs: 0.565\n",
      "train accuracy after 9200 epochs: 0.7600502512562815\n",
      "test accuracy after 9200 epochs: 0.72\n",
      "train accuracy after 9300 epochs: 0.6620603015075377\n",
      "test accuracy after 9300 epochs: 0.655\n",
      "train accuracy after 9400 epochs: 0.75\n",
      "test accuracy after 9400 epochs: 0.735\n",
      "train accuracy after 9500 epochs: 0.7412060301507538\n",
      "test accuracy after 9500 epochs: 0.705\n",
      "train accuracy after 9600 epochs: 0.7474874371859297\n",
      "test accuracy after 9600 epochs: 0.735\n",
      "train accuracy after 9700 epochs: 0.7525125628140703\n",
      "test accuracy after 9700 epochs: 0.765\n",
      "train accuracy after 9800 epochs: 0.5904522613065326\n",
      "test accuracy after 9800 epochs: 0.59\n",
      "train accuracy after 9900 epochs: 0.7562814070351759\n",
      "test accuracy after 9900 epochs: 0.725\n",
      "train accuracy after 10000 epochs: 0.6457286432160804\n",
      "test accuracy after 10000 epochs: 0.645\n",
      "train accuracy after 10100 epochs: 0.7525125628140703\n",
      "test accuracy after 10100 epochs: 0.715\n",
      "train accuracy after 10200 epochs: 0.742462311557789\n",
      "test accuracy after 10200 epochs: 0.745\n",
      "train accuracy after 10300 epochs: 0.678391959798995\n",
      "test accuracy after 10300 epochs: 0.635\n",
      "train accuracy after 10400 epochs: 0.6821608040201005\n",
      "test accuracy after 10400 epochs: 0.715\n",
      "train accuracy after 10500 epochs: 0.6105527638190955\n",
      "test accuracy after 10500 epochs: 0.61\n",
      "train accuracy after 10600 epochs: 0.6532663316582915\n",
      "test accuracy after 10600 epochs: 0.655\n",
      "train accuracy after 10700 epochs: 0.7650753768844221\n",
      "test accuracy after 10700 epochs: 0.73\n",
      "train accuracy after 10800 epochs: 0.7487437185929648\n",
      "test accuracy after 10800 epochs: 0.725\n",
      "train accuracy after 10900 epochs: 0.75\n",
      "test accuracy after 10900 epochs: 0.765\n",
      "train accuracy after 11000 epochs: 0.7474874371859297\n",
      "test accuracy after 11000 epochs: 0.72\n",
      "train accuracy after 11100 epochs: 0.7211055276381909\n",
      "test accuracy after 11100 epochs: 0.71\n",
      "train accuracy after 11200 epochs: 0.7550251256281407\n",
      "test accuracy after 11200 epochs: 0.75\n",
      "train accuracy after 11300 epochs: 0.7060301507537688\n",
      "test accuracy after 11300 epochs: 0.675\n",
      "train accuracy after 11400 epochs: 0.7449748743718593\n",
      "test accuracy after 11400 epochs: 0.76\n",
      "train accuracy after 11500 epochs: 0.75\n",
      "test accuracy after 11500 epochs: 0.745\n",
      "train accuracy after 11600 epochs: 0.7525125628140703\n",
      "test accuracy after 11600 epochs: 0.745\n",
      "train accuracy after 11700 epochs: 0.7600502512562815\n",
      "test accuracy after 11700 epochs: 0.75\n",
      "train accuracy after 11800 epochs: 0.7336683417085427\n",
      "test accuracy after 11800 epochs: 0.745\n",
      "train accuracy after 11900 epochs: 0.7449748743718593\n",
      "test accuracy after 11900 epochs: 0.76\n",
      "train accuracy after 12000 epochs: 0.7474874371859297\n",
      "test accuracy after 12000 epochs: 0.755\n",
      "train accuracy after 12100 epochs: 0.7587939698492462\n",
      "test accuracy after 12100 epochs: 0.74\n",
      "train accuracy after 12200 epochs: 0.7487437185929648\n",
      "test accuracy after 12200 epochs: 0.735\n",
      "train accuracy after 12300 epochs: 0.7600502512562815\n",
      "test accuracy after 12300 epochs: 0.74\n",
      "train accuracy after 12400 epochs: 0.7487437185929648\n",
      "test accuracy after 12400 epochs: 0.75\n",
      "train accuracy after 12500 epochs: 0.7449748743718593\n",
      "test accuracy after 12500 epochs: 0.74\n",
      "train accuracy after 12600 epochs: 0.757537688442211\n",
      "test accuracy after 12600 epochs: 0.72\n",
      "train accuracy after 12700 epochs: 0.6859296482412061\n",
      "test accuracy after 12700 epochs: 0.66\n",
      "train accuracy after 12800 epochs: 0.7550251256281407\n",
      "test accuracy after 12800 epochs: 0.735\n",
      "train accuracy after 12900 epochs: 0.7386934673366834\n",
      "test accuracy after 12900 epochs: 0.73\n",
      "train accuracy after 13000 epochs: 0.7236180904522613\n",
      "test accuracy after 13000 epochs: 0.73\n",
      "train accuracy after 13100 epochs: 0.7487437185929648\n",
      "test accuracy after 13100 epochs: 0.725\n",
      "train accuracy after 13200 epochs: 0.7437185929648241\n",
      "test accuracy after 13200 epochs: 0.765\n",
      "train accuracy after 13300 epochs: 0.7261306532663316\n",
      "test accuracy after 13300 epochs: 0.7\n",
      "train accuracy after 13400 epochs: 0.7550251256281407\n",
      "test accuracy after 13400 epochs: 0.725\n",
      "train accuracy after 13500 epochs: 0.7123115577889447\n",
      "test accuracy after 13500 epochs: 0.705\n",
      "train accuracy after 13600 epochs: 0.7587939698492462\n",
      "test accuracy after 13600 epochs: 0.72\n",
      "train accuracy after 13700 epochs: 0.7399497487437185\n",
      "test accuracy after 13700 epochs: 0.72\n",
      "train accuracy after 13800 epochs: 0.7663316582914573\n",
      "test accuracy after 13800 epochs: 0.725\n",
      "train accuracy after 13900 epochs: 0.7600502512562815\n",
      "test accuracy after 13900 epochs: 0.72\n",
      "train accuracy after 14000 epochs: 0.7688442211055276\n",
      "test accuracy after 14000 epochs: 0.715\n",
      "train accuracy after 14100 epochs: 0.7675879396984925\n",
      "test accuracy after 14100 epochs: 0.73\n",
      "train accuracy after 14200 epochs: 0.7487437185929648\n",
      "test accuracy after 14200 epochs: 0.75\n",
      "train accuracy after 14300 epochs: 0.7110552763819096\n",
      "test accuracy after 14300 epochs: 0.705\n",
      "train accuracy after 14400 epochs: 0.7650753768844221\n",
      "test accuracy after 14400 epochs: 0.755\n",
      "train accuracy after 14500 epochs: 0.75\n",
      "test accuracy after 14500 epochs: 0.735\n",
      "train accuracy after 14600 epochs: 0.75\n",
      "test accuracy after 14600 epochs: 0.76\n",
      "train accuracy after 14700 epochs: 0.7638190954773869\n",
      "test accuracy after 14700 epochs: 0.745\n",
      "train accuracy after 14800 epochs: 0.7097989949748744\n",
      "test accuracy after 14800 epochs: 0.74\n",
      "train accuracy after 14900 epochs: 0.5653266331658291\n",
      "test accuracy after 14900 epochs: 0.55\n",
      "train accuracy after 15000 epochs: 0.6369346733668342\n",
      "test accuracy after 15000 epochs: 0.63\n",
      "train accuracy after 15100 epochs: 0.7512562814070352\n",
      "test accuracy after 15100 epochs: 0.73\n",
      "train accuracy after 15200 epochs: 0.7512562814070352\n",
      "test accuracy after 15200 epochs: 0.755\n",
      "train accuracy after 15300 epochs: 0.7525125628140703\n",
      "test accuracy after 15300 epochs: 0.765\n",
      "train accuracy after 15400 epochs: 0.7600502512562815\n",
      "test accuracy after 15400 epochs: 0.75\n",
      "train accuracy after 15500 epochs: 0.7525125628140703\n",
      "test accuracy after 15500 epochs: 0.77\n",
      "train accuracy after 15600 epochs: 0.7675879396984925\n",
      "test accuracy after 15600 epochs: 0.725\n",
      "train accuracy after 15700 epochs: 0.7273869346733668\n",
      "test accuracy after 15700 epochs: 0.705\n",
      "train accuracy after 15800 epochs: 0.7638190954773869\n",
      "test accuracy after 15800 epochs: 0.74\n",
      "train accuracy after 15900 epochs: 0.7035175879396985\n",
      "test accuracy after 15900 epochs: 0.695\n",
      "train accuracy after 16000 epochs: 0.7537688442211056\n",
      "test accuracy after 16000 epochs: 0.75\n",
      "train accuracy after 16100 epochs: 0.6821608040201005\n",
      "test accuracy after 16100 epochs: 0.645\n",
      "train accuracy after 16200 epochs: 0.7324120603015075\n",
      "test accuracy after 16200 epochs: 0.725\n",
      "train accuracy after 16300 epochs: 0.7160804020100503\n",
      "test accuracy after 16300 epochs: 0.7\n",
      "train accuracy after 16400 epochs: 0.7236180904522613\n",
      "test accuracy after 16400 epochs: 0.705\n",
      "train accuracy after 16500 epochs: 0.6293969849246231\n",
      "test accuracy after 16500 epochs: 0.67\n",
      "train accuracy after 16600 epochs: 0.6959798994974874\n",
      "test accuracy after 16600 epochs: 0.7\n",
      "train accuracy after 16700 epochs: 0.7311557788944724\n",
      "test accuracy after 16700 epochs: 0.72\n",
      "train accuracy after 16800 epochs: 0.5163316582914573\n",
      "test accuracy after 16800 epochs: 0.51\n",
      "train accuracy after 16900 epochs: 0.7412060301507538\n",
      "test accuracy after 16900 epochs: 0.74\n",
      "train accuracy after 17000 epochs: 0.5288944723618091\n",
      "test accuracy after 17000 epochs: 0.535\n",
      "train accuracy after 17100 epochs: 0.7701005025125628\n",
      "test accuracy after 17100 epochs: 0.72\n",
      "train accuracy after 17200 epochs: 0.7512562814070352\n",
      "test accuracy after 17200 epochs: 0.725\n",
      "train accuracy after 17300 epochs: 0.7537688442211056\n",
      "test accuracy after 17300 epochs: 0.725\n",
      "train accuracy after 17400 epochs: 0.7625628140703518\n",
      "test accuracy after 17400 epochs: 0.745\n",
      "train accuracy after 17500 epochs: 0.5326633165829145\n",
      "test accuracy after 17500 epochs: 0.52\n",
      "train accuracy after 17600 epochs: 0.6344221105527639\n",
      "test accuracy after 17600 epochs: 0.655\n",
      "train accuracy after 17700 epochs: 0.7600502512562815\n",
      "test accuracy after 17700 epochs: 0.75\n",
      "train accuracy after 17800 epochs: 0.7650753768844221\n",
      "test accuracy after 17800 epochs: 0.74\n",
      "train accuracy after 17900 epochs: 0.6909547738693468\n",
      "test accuracy after 17900 epochs: 0.675\n",
      "train accuracy after 18000 epochs: 0.75\n",
      "test accuracy after 18000 epochs: 0.735\n",
      "train accuracy after 18100 epochs: 0.7386934673366834\n",
      "test accuracy after 18100 epochs: 0.705\n",
      "train accuracy after 18200 epochs: 0.7324120603015075\n",
      "test accuracy after 18200 epochs: 0.725\n",
      "train accuracy after 18300 epochs: 0.7613065326633166\n",
      "test accuracy after 18300 epochs: 0.72\n",
      "train accuracy after 18400 epochs: 0.7587939698492462\n",
      "test accuracy after 18400 epochs: 0.735\n",
      "train accuracy after 18500 epochs: 0.7223618090452262\n",
      "test accuracy after 18500 epochs: 0.705\n",
      "train accuracy after 18600 epochs: 0.7386934673366834\n",
      "test accuracy after 18600 epochs: 0.725\n",
      "train accuracy after 18700 epochs: 0.7412060301507538\n",
      "test accuracy after 18700 epochs: 0.735\n",
      "train accuracy after 18800 epochs: 0.7487437185929648\n",
      "test accuracy after 18800 epochs: 0.725\n",
      "train accuracy after 18900 epochs: 0.7298994974874372\n",
      "test accuracy after 18900 epochs: 0.71\n",
      "train accuracy after 19000 epochs: 0.6532663316582915\n",
      "test accuracy after 19000 epochs: 0.615\n",
      "train accuracy after 19100 epochs: 0.7525125628140703\n",
      "test accuracy after 19100 epochs: 0.75\n",
      "train accuracy after 19200 epochs: 0.7638190954773869\n",
      "test accuracy after 19200 epochs: 0.75\n",
      "train accuracy after 19300 epochs: 0.7625628140703518\n",
      "test accuracy after 19300 epochs: 0.74\n",
      "train accuracy after 19400 epochs: 0.7198492462311558\n",
      "test accuracy after 19400 epochs: 0.71\n",
      "train accuracy after 19500 epochs: 0.5113065326633166\n",
      "test accuracy after 19500 epochs: 0.49\n",
      "train accuracy after 19600 epochs: 0.5891959798994975\n",
      "test accuracy after 19600 epochs: 0.575\n",
      "train accuracy after 19700 epochs: 0.6369346733668342\n",
      "test accuracy after 19700 epochs: 0.655\n",
      "train accuracy after 19800 epochs: 0.7449748743718593\n",
      "test accuracy after 19800 epochs: 0.715\n",
      "train accuracy after 19900 epochs: 0.7525125628140703\n",
      "test accuracy after 19900 epochs: 0.74\n",
      "train accuracy after 20000 epochs: 0.7449748743718593\n",
      "test accuracy after 20000 epochs: 0.72\n",
      "train accuracy after 20100 epochs: 0.7525125628140703\n",
      "test accuracy after 20100 epochs: 0.74\n",
      "train accuracy after 20200 epochs: 0.7550251256281407\n",
      "test accuracy after 20200 epochs: 0.76\n",
      "train accuracy after 20300 epochs: 0.7537688442211056\n",
      "test accuracy after 20300 epochs: 0.725\n",
      "train accuracy after 20400 epochs: 0.7663316582914573\n",
      "test accuracy after 20400 epochs: 0.725\n",
      "train accuracy after 20500 epochs: 0.7562814070351759\n",
      "test accuracy after 20500 epochs: 0.73\n",
      "train accuracy after 20600 epochs: 0.7650753768844221\n",
      "test accuracy after 20600 epochs: 0.725\n",
      "train accuracy after 20700 epochs: 0.6922110552763819\n",
      "test accuracy after 20700 epochs: 0.665\n",
      "train accuracy after 20800 epochs: 0.7298994974874372\n",
      "test accuracy after 20800 epochs: 0.71\n",
      "train accuracy after 20900 epochs: 0.6796482412060302\n",
      "test accuracy after 20900 epochs: 0.65\n",
      "train accuracy after 21000 epochs: 0.7286432160804021\n",
      "test accuracy after 21000 epochs: 0.75\n",
      "train accuracy after 21100 epochs: 0.6884422110552764\n",
      "test accuracy after 21100 epochs: 0.65\n",
      "train accuracy after 21200 epochs: 0.6683417085427136\n",
      "test accuracy after 21200 epochs: 0.645\n",
      "train accuracy after 21300 epochs: 0.7512562814070352\n",
      "test accuracy after 21300 epochs: 0.73\n",
      "train accuracy after 21400 epochs: 0.7060301507537688\n",
      "test accuracy after 21400 epochs: 0.7\n",
      "train accuracy after 21500 epochs: 0.7663316582914573\n",
      "test accuracy after 21500 epochs: 0.725\n",
      "train accuracy after 21600 epochs: 0.7336683417085427\n",
      "test accuracy after 21600 epochs: 0.71\n",
      "train accuracy after 21700 epochs: 0.7512562814070352\n",
      "test accuracy after 21700 epochs: 0.73\n",
      "train accuracy after 21800 epochs: 0.7688442211055276\n",
      "test accuracy after 21800 epochs: 0.72\n",
      "train accuracy after 21900 epochs: 0.5125628140703518\n",
      "test accuracy after 21900 epochs: 0.49\n",
      "train accuracy after 22000 epochs: 0.7650753768844221\n",
      "test accuracy after 22000 epochs: 0.735\n",
      "train accuracy after 22100 epochs: 0.7675879396984925\n",
      "test accuracy after 22100 epochs: 0.74\n",
      "train accuracy after 22200 epochs: 0.7701005025125628\n",
      "test accuracy after 22200 epochs: 0.72\n",
      "train accuracy after 22300 epochs: 0.7587939698492462\n",
      "test accuracy after 22300 epochs: 0.755\n",
      "train accuracy after 22400 epochs: 0.7675879396984925\n",
      "test accuracy after 22400 epochs: 0.735\n",
      "train accuracy after 22500 epochs: 0.7248743718592965\n",
      "test accuracy after 22500 epochs: 0.715\n",
      "train accuracy after 22600 epochs: 0.5314070351758794\n",
      "test accuracy after 22600 epochs: 0.485\n",
      "train accuracy after 22700 epochs: 0.7286432160804021\n",
      "test accuracy after 22700 epochs: 0.71\n",
      "train accuracy after 22800 epochs: 0.7311557788944724\n",
      "test accuracy after 22800 epochs: 0.72\n",
      "train accuracy after 22900 epochs: 0.7638190954773869\n",
      "test accuracy after 22900 epochs: 0.74\n",
      "train accuracy after 23000 epochs: 0.6859296482412061\n",
      "test accuracy after 23000 epochs: 0.73\n",
      "train accuracy after 23100 epochs: 0.5628140703517588\n",
      "test accuracy after 23100 epochs: 0.53\n",
      "train accuracy after 23200 epochs: 0.757537688442211\n",
      "test accuracy after 23200 epochs: 0.765\n",
      "train accuracy after 23300 epochs: 0.7587939698492462\n",
      "test accuracy after 23300 epochs: 0.73\n",
      "train accuracy after 23400 epochs: 0.7537688442211056\n",
      "test accuracy after 23400 epochs: 0.755\n",
      "train accuracy after 23500 epochs: 0.6344221105527639\n",
      "test accuracy after 23500 epochs: 0.645\n",
      "train accuracy after 23600 epochs: 0.7173366834170855\n",
      "test accuracy after 23600 epochs: 0.695\n",
      "train accuracy after 23700 epochs: 0.757537688442211\n",
      "test accuracy after 23700 epochs: 0.755\n",
      "train accuracy after 23800 epochs: 0.7550251256281407\n",
      "test accuracy after 23800 epochs: 0.775\n",
      "train accuracy after 23900 epochs: 0.6633165829145728\n",
      "test accuracy after 23900 epochs: 0.665\n",
      "train accuracy after 24000 epochs: 0.75\n",
      "test accuracy after 24000 epochs: 0.73\n",
      "train accuracy after 24100 epochs: 0.5175879396984925\n",
      "test accuracy after 24100 epochs: 0.52\n",
      "train accuracy after 24200 epochs: 0.7638190954773869\n",
      "test accuracy after 24200 epochs: 0.74\n",
      "train accuracy after 24300 epochs: 0.707286432160804\n",
      "test accuracy after 24300 epochs: 0.695\n",
      "train accuracy after 24400 epochs: 0.7512562814070352\n",
      "test accuracy after 24400 epochs: 0.735\n",
      "train accuracy after 24500 epochs: 0.7562814070351759\n",
      "test accuracy after 24500 epochs: 0.735\n",
      "train accuracy after 24600 epochs: 0.7474874371859297\n",
      "test accuracy after 24600 epochs: 0.76\n",
      "train accuracy after 24700 epochs: 0.75\n",
      "test accuracy after 24700 epochs: 0.725\n",
      "train accuracy after 24800 epochs: 0.7701005025125628\n",
      "test accuracy after 24800 epochs: 0.73\n",
      "train accuracy after 24900 epochs: 0.7701005025125628\n",
      "test accuracy after 24900 epochs: 0.715\n",
      "train accuracy after 25000 epochs: 0.6859296482412061\n",
      "test accuracy after 25000 epochs: 0.675\n",
      "train accuracy after 25100 epochs: 0.7462311557788944\n",
      "test accuracy after 25100 epochs: 0.765\n",
      "train accuracy after 25200 epochs: 0.7663316582914573\n",
      "test accuracy after 25200 epochs: 0.735\n",
      "train accuracy after 25300 epochs: 0.757537688442211\n",
      "test accuracy after 25300 epochs: 0.73\n",
      "train accuracy after 25400 epochs: 0.5402010050251256\n",
      "test accuracy after 25400 epochs: 0.55\n",
      "train accuracy after 25500 epochs: 0.6155778894472361\n",
      "test accuracy after 25500 epochs: 0.615\n",
      "train accuracy after 25600 epochs: 0.7537688442211056\n",
      "test accuracy after 25600 epochs: 0.74\n",
      "train accuracy after 25700 epochs: 0.7562814070351759\n",
      "test accuracy after 25700 epochs: 0.75\n",
      "train accuracy after 25800 epochs: 0.742462311557789\n",
      "test accuracy after 25800 epochs: 0.73\n",
      "train accuracy after 25900 epochs: 0.7437185929648241\n",
      "test accuracy after 25900 epochs: 0.76\n",
      "train accuracy after 26000 epochs: 0.7650753768844221\n",
      "test accuracy after 26000 epochs: 0.755\n",
      "train accuracy after 26100 epochs: 0.7273869346733668\n",
      "test accuracy after 26100 epochs: 0.715\n",
      "train accuracy after 26200 epochs: 0.5841708542713567\n",
      "test accuracy after 26200 epochs: 0.58\n",
      "train accuracy after 26300 epochs: 0.7324120603015075\n",
      "test accuracy after 26300 epochs: 0.715\n",
      "train accuracy after 26400 epochs: 0.7273869346733668\n",
      "test accuracy after 26400 epochs: 0.705\n",
      "train accuracy after 26500 epochs: 0.7273869346733668\n",
      "test accuracy after 26500 epochs: 0.705\n",
      "train accuracy after 26600 epochs: 0.7688442211055276\n",
      "test accuracy after 26600 epochs: 0.715\n",
      "train accuracy after 26700 epochs: 0.7298994974874372\n",
      "test accuracy after 26700 epochs: 0.71\n",
      "train accuracy after 26800 epochs: 0.7525125628140703\n",
      "test accuracy after 26800 epochs: 0.725\n",
      "train accuracy after 26900 epochs: 0.7638190954773869\n",
      "test accuracy after 26900 epochs: 0.735\n",
      "train accuracy after 27000 epochs: 0.7650753768844221\n",
      "test accuracy after 27000 epochs: 0.75\n",
      "train accuracy after 27100 epochs: 0.7638190954773869\n",
      "test accuracy after 27100 epochs: 0.72\n",
      "train accuracy after 27200 epochs: 0.7562814070351759\n",
      "test accuracy after 27200 epochs: 0.75\n",
      "train accuracy after 27300 epochs: 0.7675879396984925\n",
      "test accuracy after 27300 epochs: 0.74\n",
      "train accuracy after 27400 epochs: 0.757537688442211\n",
      "test accuracy after 27400 epochs: 0.735\n",
      "train accuracy after 27500 epochs: 0.7688442211055276\n",
      "test accuracy after 27500 epochs: 0.715\n",
      "train accuracy after 27600 epochs: 0.7035175879396985\n",
      "test accuracy after 27600 epochs: 0.715\n",
      "train accuracy after 27700 epochs: 0.7022613065326633\n",
      "test accuracy after 27700 epochs: 0.68\n",
      "train accuracy after 27800 epochs: 0.7537688442211056\n",
      "test accuracy after 27800 epochs: 0.755\n",
      "train accuracy after 27900 epochs: 0.7562814070351759\n",
      "test accuracy after 27900 epochs: 0.725\n",
      "train accuracy after 28000 epochs: 0.7562814070351759\n",
      "test accuracy after 28000 epochs: 0.75\n",
      "train accuracy after 28100 epochs: 0.742462311557789\n",
      "test accuracy after 28100 epochs: 0.725\n",
      "train accuracy after 28200 epochs: 0.7198492462311558\n",
      "test accuracy after 28200 epochs: 0.7\n",
      "train accuracy after 28300 epochs: 0.6733668341708543\n",
      "test accuracy after 28300 epochs: 0.65\n",
      "train accuracy after 28400 epochs: 0.75\n",
      "test accuracy after 28400 epochs: 0.74\n",
      "train accuracy after 28500 epochs: 0.7349246231155779\n",
      "test accuracy after 28500 epochs: 0.76\n",
      "train accuracy after 28600 epochs: 0.6758793969849246\n",
      "test accuracy after 28600 epochs: 0.66\n",
      "train accuracy after 28700 epochs: 0.7160804020100503\n",
      "test accuracy after 28700 epochs: 0.695\n",
      "train accuracy after 28800 epochs: 0.6721105527638191\n",
      "test accuracy after 28800 epochs: 0.645\n",
      "train accuracy after 28900 epochs: 0.7261306532663316\n",
      "test accuracy after 28900 epochs: 0.705\n",
      "train accuracy after 29000 epochs: 0.7487437185929648\n",
      "test accuracy after 29000 epochs: 0.72\n",
      "train accuracy after 29100 epochs: 0.7349246231155779\n",
      "test accuracy after 29100 epochs: 0.71\n",
      "train accuracy after 29200 epochs: 0.7437185929648241\n",
      "test accuracy after 29200 epochs: 0.755\n",
      "train accuracy after 29300 epochs: 0.7663316582914573\n",
      "test accuracy after 29300 epochs: 0.735\n",
      "train accuracy after 29400 epochs: 0.7600502512562815\n",
      "test accuracy after 29400 epochs: 0.77\n",
      "train accuracy after 29500 epochs: 0.7600502512562815\n",
      "test accuracy after 29500 epochs: 0.765\n",
      "train accuracy after 29600 epochs: 0.7550251256281407\n",
      "test accuracy after 29600 epochs: 0.72\n",
      "train accuracy after 29700 epochs: 0.7638190954773869\n",
      "test accuracy after 29700 epochs: 0.735\n",
      "train accuracy after 29800 epochs: 0.7537688442211056\n",
      "test accuracy after 29800 epochs: 0.73\n",
      "train accuracy after 29900 epochs: 0.6708542713567839\n",
      "test accuracy after 29900 epochs: 0.64\n",
      "train accuracy after 30000 epochs: 0.7550251256281407\n",
      "test accuracy after 30000 epochs: 0.72\n",
      "train accuracy after 30100 epochs: 0.7550251256281407\n",
      "test accuracy after 30100 epochs: 0.755\n",
      "train accuracy after 30200 epochs: 0.75\n",
      "test accuracy after 30200 epochs: 0.72\n",
      "train accuracy after 30300 epochs: 0.5188442211055276\n",
      "test accuracy after 30300 epochs: 0.51\n",
      "train accuracy after 30400 epochs: 0.7487437185929648\n",
      "test accuracy after 30400 epochs: 0.72\n",
      "train accuracy after 30500 epochs: 0.7324120603015075\n",
      "test accuracy after 30500 epochs: 0.72\n",
      "train accuracy after 30600 epochs: 0.742462311557789\n",
      "test accuracy after 30600 epochs: 0.72\n",
      "train accuracy after 30700 epochs: 0.7474874371859297\n",
      "test accuracy after 30700 epochs: 0.725\n",
      "train accuracy after 30800 epochs: 0.7537688442211056\n",
      "test accuracy after 30800 epochs: 0.73\n",
      "train accuracy after 30900 epochs: 0.757537688442211\n",
      "test accuracy after 30900 epochs: 0.765\n",
      "train accuracy after 31000 epochs: 0.7738693467336684\n",
      "test accuracy after 31000 epochs: 0.73\n",
      "train accuracy after 31100 epochs: 0.742462311557789\n",
      "test accuracy after 31100 epochs: 0.75\n",
      "train accuracy after 31200 epochs: 0.6846733668341709\n",
      "test accuracy after 31200 epochs: 0.645\n",
      "train accuracy after 31300 epochs: 0.7600502512562815\n",
      "test accuracy after 31300 epochs: 0.725\n",
      "train accuracy after 31400 epochs: 0.757537688442211\n",
      "test accuracy after 31400 epochs: 0.735\n",
      "train accuracy after 31500 epochs: 0.6859296482412061\n",
      "test accuracy after 31500 epochs: 0.69\n",
      "train accuracy after 31600 epochs: 0.7550251256281407\n",
      "test accuracy after 31600 epochs: 0.735\n",
      "train accuracy after 31700 epochs: 0.7587939698492462\n",
      "test accuracy after 31700 epochs: 0.735\n",
      "train accuracy after 31800 epochs: 0.75\n",
      "test accuracy after 31800 epochs: 0.745\n",
      "train accuracy after 31900 epochs: 0.7738693467336684\n",
      "test accuracy after 31900 epochs: 0.725\n",
      "train accuracy after 32000 epochs: 0.5728643216080402\n",
      "test accuracy after 32000 epochs: 0.565\n",
      "train accuracy after 32100 epochs: 0.7223618090452262\n",
      "test accuracy after 32100 epochs: 0.705\n",
      "train accuracy after 32200 epochs: 0.714824120603015\n",
      "test accuracy after 32200 epochs: 0.71\n",
      "train accuracy after 32300 epochs: 0.7525125628140703\n",
      "test accuracy after 32300 epochs: 0.745\n",
      "train accuracy after 32400 epochs: 0.7738693467336684\n",
      "test accuracy after 32400 epochs: 0.725\n",
      "train accuracy after 32500 epochs: 0.7625628140703518\n",
      "test accuracy after 32500 epochs: 0.72\n",
      "train accuracy after 32600 epochs: 0.5037688442211056\n",
      "test accuracy after 32600 epochs: 0.535\n",
      "train accuracy after 32700 epochs: 0.664572864321608\n",
      "test accuracy after 32700 epochs: 0.65\n",
      "train accuracy after 32800 epochs: 0.7675879396984925\n",
      "test accuracy after 32800 epochs: 0.73\n",
      "train accuracy after 32900 epochs: 0.7663316582914573\n",
      "test accuracy after 32900 epochs: 0.745\n",
      "train accuracy after 33000 epochs: 0.5816582914572864\n",
      "test accuracy after 33000 epochs: 0.58\n",
      "train accuracy after 33100 epochs: 0.5891959798994975\n",
      "test accuracy after 33100 epochs: 0.575\n",
      "train accuracy after 33200 epochs: 0.6984924623115578\n",
      "test accuracy after 33200 epochs: 0.695\n",
      "train accuracy after 33300 epochs: 0.7449748743718593\n",
      "test accuracy after 33300 epochs: 0.75\n",
      "train accuracy after 33400 epochs: 0.757537688442211\n",
      "test accuracy after 33400 epochs: 0.755\n",
      "train accuracy after 33500 epochs: 0.7512562814070352\n",
      "test accuracy after 33500 epochs: 0.73\n",
      "train accuracy after 33600 epochs: 0.6118090452261307\n",
      "test accuracy after 33600 epochs: 0.605\n",
      "train accuracy after 33700 epochs: 0.7587939698492462\n",
      "test accuracy after 33700 epochs: 0.75\n",
      "train accuracy after 33800 epochs: 0.6407035175879398\n",
      "test accuracy after 33800 epochs: 0.645\n",
      "train accuracy after 33900 epochs: 0.6758793969849246\n",
      "test accuracy after 33900 epochs: 0.66\n",
      "train accuracy after 34000 epochs: 0.6306532663316583\n",
      "test accuracy after 34000 epochs: 0.675\n",
      "train accuracy after 34100 epochs: 0.6193467336683417\n",
      "test accuracy after 34100 epochs: 0.64\n",
      "train accuracy after 34200 epochs: 0.7650753768844221\n",
      "test accuracy after 34200 epochs: 0.74\n",
      "train accuracy after 34300 epochs: 0.7550251256281407\n",
      "test accuracy after 34300 epochs: 0.76\n",
      "train accuracy after 34400 epochs: 0.7474874371859297\n",
      "test accuracy after 34400 epochs: 0.72\n",
      "train accuracy after 34500 epochs: 0.742462311557789\n",
      "test accuracy after 34500 epochs: 0.71\n",
      "train accuracy after 34600 epochs: 0.7173366834170855\n",
      "test accuracy after 34600 epochs: 0.71\n",
      "train accuracy after 34700 epochs: 0.7374371859296482\n",
      "test accuracy after 34700 epochs: 0.715\n",
      "train accuracy after 34800 epochs: 0.7600502512562815\n",
      "test accuracy after 34800 epochs: 0.725\n",
      "train accuracy after 34900 epochs: 0.75\n",
      "test accuracy after 34900 epochs: 0.72\n",
      "train accuracy after 35000 epochs: 0.7600502512562815\n",
      "test accuracy after 35000 epochs: 0.76\n",
      "train accuracy after 35100 epochs: 0.7550251256281407\n",
      "test accuracy after 35100 epochs: 0.755\n",
      "train accuracy after 35200 epochs: 0.7625628140703518\n",
      "test accuracy after 35200 epochs: 0.75\n",
      "train accuracy after 35300 epochs: 0.7638190954773869\n",
      "test accuracy after 35300 epochs: 0.735\n",
      "train accuracy after 35400 epochs: 0.742462311557789\n",
      "test accuracy after 35400 epochs: 0.715\n",
      "train accuracy after 35500 epochs: 0.6482412060301508\n",
      "test accuracy after 35500 epochs: 0.645\n",
      "train accuracy after 35600 epochs: 0.7550251256281407\n",
      "test accuracy after 35600 epochs: 0.74\n",
      "train accuracy after 35700 epochs: 0.5251256281407035\n",
      "test accuracy after 35700 epochs: 0.525\n",
      "train accuracy after 35800 epochs: 0.6231155778894473\n",
      "test accuracy after 35800 epochs: 0.62\n",
      "train accuracy after 35900 epochs: 0.5766331658291457\n",
      "test accuracy after 35900 epochs: 0.575\n",
      "train accuracy after 36000 epochs: 0.7135678391959799\n",
      "test accuracy after 36000 epochs: 0.725\n",
      "train accuracy after 36100 epochs: 0.7550251256281407\n",
      "test accuracy after 36100 epochs: 0.77\n",
      "train accuracy after 36200 epochs: 0.6721105527638191\n",
      "test accuracy after 36200 epochs: 0.65\n",
      "train accuracy after 36300 epochs: 0.7211055276381909\n",
      "test accuracy after 36300 epochs: 0.705\n",
      "train accuracy after 36400 epochs: 0.7537688442211056\n",
      "test accuracy after 36400 epochs: 0.725\n",
      "train accuracy after 36500 epochs: 0.7462311557788944\n",
      "test accuracy after 36500 epochs: 0.72\n",
      "train accuracy after 36600 epochs: 0.7311557788944724\n",
      "test accuracy after 36600 epochs: 0.72\n",
      "train accuracy after 36700 epochs: 0.6419597989949749\n",
      "test accuracy after 36700 epochs: 0.605\n",
      "train accuracy after 36800 epochs: 0.7512562814070352\n",
      "test accuracy after 36800 epochs: 0.745\n",
      "train accuracy after 36900 epochs: 0.7173366834170855\n",
      "test accuracy after 36900 epochs: 0.725\n",
      "train accuracy after 37000 epochs: 0.7675879396984925\n",
      "test accuracy after 37000 epochs: 0.72\n",
      "train accuracy after 37100 epochs: 0.6419597989949749\n",
      "test accuracy after 37100 epochs: 0.64\n",
      "train accuracy after 37200 epochs: 0.75\n",
      "test accuracy after 37200 epochs: 0.73\n",
      "train accuracy after 37300 epochs: 0.7675879396984925\n",
      "test accuracy after 37300 epochs: 0.72\n",
      "train accuracy after 37400 epochs: 0.7123115577889447\n",
      "test accuracy after 37400 epochs: 0.705\n",
      "train accuracy after 37500 epochs: 0.7638190954773869\n",
      "test accuracy after 37500 epochs: 0.725\n",
      "train accuracy after 37600 epochs: 0.7449748743718593\n",
      "test accuracy after 37600 epochs: 0.72\n",
      "train accuracy after 37700 epochs: 0.7625628140703518\n",
      "test accuracy after 37700 epochs: 0.765\n",
      "train accuracy after 37800 epochs: 0.7562814070351759\n",
      "test accuracy after 37800 epochs: 0.75\n",
      "train accuracy after 37900 epochs: 0.7512562814070352\n",
      "test accuracy after 37900 epochs: 0.725\n",
      "train accuracy after 38000 epochs: 0.7675879396984925\n",
      "test accuracy after 38000 epochs: 0.73\n",
      "train accuracy after 38100 epochs: 0.7613065326633166\n",
      "test accuracy after 38100 epochs: 0.765\n",
      "train accuracy after 38200 epochs: 0.7562814070351759\n",
      "test accuracy after 38200 epochs: 0.74\n",
      "train accuracy after 38300 epochs: 0.757537688442211\n",
      "test accuracy after 38300 epochs: 0.71\n",
      "train accuracy after 38400 epochs: 0.7487437185929648\n",
      "test accuracy after 38400 epochs: 0.715\n",
      "train accuracy after 38500 epochs: 0.7638190954773869\n",
      "test accuracy after 38500 epochs: 0.745\n",
      "train accuracy after 38600 epochs: 0.7173366834170855\n",
      "test accuracy after 38600 epochs: 0.72\n",
      "train accuracy after 38700 epochs: 0.7688442211055276\n",
      "test accuracy after 38700 epochs: 0.74\n",
      "train accuracy after 38800 epochs: 0.7625628140703518\n",
      "test accuracy after 38800 epochs: 0.74\n",
      "train accuracy after 38900 epochs: 0.7675879396984925\n",
      "test accuracy after 38900 epochs: 0.74\n",
      "train accuracy after 39000 epochs: 0.7474874371859297\n",
      "test accuracy after 39000 epochs: 0.725\n",
      "train accuracy after 39100 epochs: 0.7625628140703518\n",
      "test accuracy after 39100 epochs: 0.745\n",
      "train accuracy after 39200 epochs: 0.5238693467336684\n",
      "test accuracy after 39200 epochs: 0.535\n",
      "train accuracy after 39300 epochs: 0.7537688442211056\n",
      "test accuracy after 39300 epochs: 0.715\n",
      "train accuracy after 39400 epochs: 0.7537688442211056\n",
      "test accuracy after 39400 epochs: 0.765\n",
      "train accuracy after 39500 epochs: 0.7537688442211056\n",
      "test accuracy after 39500 epochs: 0.73\n",
      "train accuracy after 39600 epochs: 0.5753768844221105\n",
      "test accuracy after 39600 epochs: 0.565\n",
      "train accuracy after 39700 epochs: 0.6532663316582915\n",
      "test accuracy after 39700 epochs: 0.715\n",
      "train accuracy after 39800 epochs: 0.7650753768844221\n",
      "test accuracy after 39800 epochs: 0.77\n",
      "train accuracy after 39900 epochs: 0.7675879396984925\n",
      "test accuracy after 39900 epochs: 0.735\n",
      "train accuracy after 40000 epochs: 0.7336683417085427\n",
      "test accuracy after 40000 epochs: 0.72\n",
      "train accuracy after 40100 epochs: 0.757537688442211\n",
      "test accuracy after 40100 epochs: 0.725\n",
      "train accuracy after 40200 epochs: 0.7550251256281407\n",
      "test accuracy after 40200 epochs: 0.76\n",
      "train accuracy after 40300 epochs: 0.7625628140703518\n",
      "test accuracy after 40300 epochs: 0.725\n",
      "train accuracy after 40400 epochs: 0.75\n",
      "test accuracy after 40400 epochs: 0.735\n",
      "train accuracy after 40500 epochs: 0.6180904522613065\n",
      "test accuracy after 40500 epochs: 0.57\n",
      "train accuracy after 40600 epochs: 0.7663316582914573\n",
      "test accuracy after 40600 epochs: 0.745\n",
      "train accuracy after 40700 epochs: 0.7550251256281407\n",
      "test accuracy after 40700 epochs: 0.73\n",
      "train accuracy after 40800 epochs: 0.7675879396984925\n",
      "test accuracy after 40800 epochs: 0.735\n",
      "train accuracy after 40900 epochs: 0.7638190954773869\n",
      "test accuracy after 40900 epochs: 0.725\n",
      "train accuracy after 41000 epochs: 0.6042713567839196\n",
      "test accuracy after 41000 epochs: 0.59\n",
      "train accuracy after 41100 epochs: 0.7600502512562815\n",
      "test accuracy after 41100 epochs: 0.74\n",
      "train accuracy after 41200 epochs: 0.742462311557789\n",
      "test accuracy after 41200 epochs: 0.72\n",
      "train accuracy after 41300 epochs: 0.6758793969849246\n",
      "test accuracy after 41300 epochs: 0.635\n",
      "train accuracy after 41400 epochs: 0.7198492462311558\n",
      "test accuracy after 41400 epochs: 0.68\n",
      "train accuracy after 41500 epochs: 0.6092964824120602\n",
      "test accuracy after 41500 epochs: 0.57\n",
      "train accuracy after 41600 epochs: 0.7525125628140703\n",
      "test accuracy after 41600 epochs: 0.765\n",
      "train accuracy after 41700 epochs: 0.7537688442211056\n",
      "test accuracy after 41700 epochs: 0.745\n",
      "train accuracy after 41800 epochs: 0.7324120603015075\n",
      "test accuracy after 41800 epochs: 0.71\n",
      "train accuracy after 41900 epochs: 0.7638190954773869\n",
      "test accuracy after 41900 epochs: 0.74\n",
      "train accuracy after 42000 epochs: 0.75\n",
      "test accuracy after 42000 epochs: 0.73\n",
      "train accuracy after 42100 epochs: 0.7273869346733668\n",
      "test accuracy after 42100 epochs: 0.715\n",
      "train accuracy after 42200 epochs: 0.7587939698492462\n",
      "test accuracy after 42200 epochs: 0.755\n",
      "train accuracy after 42300 epochs: 0.6984924623115578\n",
      "test accuracy after 42300 epochs: 0.665\n",
      "train accuracy after 42400 epochs: 0.6407035175879398\n",
      "test accuracy after 42400 epochs: 0.625\n",
      "train accuracy after 42500 epochs: 0.7638190954773869\n",
      "test accuracy after 42500 epochs: 0.73\n",
      "train accuracy after 42600 epochs: 0.7600502512562815\n",
      "test accuracy after 42600 epochs: 0.735\n",
      "train accuracy after 42700 epochs: 0.657035175879397\n",
      "test accuracy after 42700 epochs: 0.635\n",
      "train accuracy after 42800 epochs: 0.7625628140703518\n",
      "test accuracy after 42800 epochs: 0.75\n",
      "train accuracy after 42900 epochs: 0.7562814070351759\n",
      "test accuracy after 42900 epochs: 0.765\n",
      "train accuracy after 43000 epochs: 0.7198492462311558\n",
      "test accuracy after 43000 epochs: 0.72\n",
      "train accuracy after 43100 epochs: 0.7587939698492462\n",
      "test accuracy after 43100 epochs: 0.735\n",
      "train accuracy after 43200 epochs: 0.7298994974874372\n",
      "test accuracy after 43200 epochs: 0.695\n",
      "train accuracy after 43300 epochs: 0.6947236180904522\n",
      "test accuracy after 43300 epochs: 0.665\n",
      "train accuracy after 43400 epochs: 0.6771356783919598\n",
      "test accuracy after 43400 epochs: 0.715\n",
      "train accuracy after 43500 epochs: 0.7462311557788944\n",
      "test accuracy after 43500 epochs: 0.72\n",
      "train accuracy after 43600 epochs: 0.7537688442211056\n",
      "test accuracy after 43600 epochs: 0.73\n",
      "train accuracy after 43700 epochs: 0.707286432160804\n",
      "test accuracy after 43700 epochs: 0.69\n",
      "train accuracy after 43800 epochs: 0.5552763819095478\n",
      "test accuracy after 43800 epochs: 0.56\n",
      "train accuracy after 43900 epochs: 0.7537688442211056\n",
      "test accuracy after 43900 epochs: 0.75\n",
      "train accuracy after 44000 epochs: 0.7185929648241206\n",
      "test accuracy after 44000 epochs: 0.69\n",
      "train accuracy after 44100 epochs: 0.6733668341708543\n",
      "test accuracy after 44100 epochs: 0.655\n",
      "train accuracy after 44200 epochs: 0.7562814070351759\n",
      "test accuracy after 44200 epochs: 0.74\n",
      "train accuracy after 44300 epochs: 0.6092964824120602\n",
      "test accuracy after 44300 epochs: 0.59\n",
      "train accuracy after 44400 epochs: 0.6771356783919598\n",
      "test accuracy after 44400 epochs: 0.645\n",
      "train accuracy after 44500 epochs: 0.75\n",
      "test accuracy after 44500 epochs: 0.755\n",
      "train accuracy after 44600 epochs: 0.7474874371859297\n",
      "test accuracy after 44600 epochs: 0.75\n",
      "train accuracy after 44700 epochs: 0.7613065326633166\n",
      "test accuracy after 44700 epochs: 0.745\n",
      "train accuracy after 44800 epochs: 0.7412060301507538\n",
      "test accuracy after 44800 epochs: 0.705\n",
      "train accuracy after 44900 epochs: 0.7625628140703518\n",
      "test accuracy after 44900 epochs: 0.785\n",
      "train accuracy after 45000 epochs: 0.7613065326633166\n",
      "test accuracy after 45000 epochs: 0.73\n",
      "train accuracy after 45100 epochs: 0.7600502512562815\n",
      "test accuracy after 45100 epochs: 0.74\n",
      "train accuracy after 45200 epochs: 0.5565326633165829\n",
      "test accuracy after 45200 epochs: 0.555\n",
      "train accuracy after 45300 epochs: 0.5037688442211056\n",
      "test accuracy after 45300 epochs: 0.54\n",
      "train accuracy after 45400 epochs: 0.7738693467336684\n",
      "test accuracy after 45400 epochs: 0.72\n",
      "train accuracy after 45500 epochs: 0.7625628140703518\n",
      "test accuracy after 45500 epochs: 0.74\n",
      "train accuracy after 45600 epochs: 0.7613065326633166\n",
      "test accuracy after 45600 epochs: 0.72\n",
      "train accuracy after 45700 epochs: 0.7625628140703518\n",
      "test accuracy after 45700 epochs: 0.765\n",
      "train accuracy after 45800 epochs: 0.7060301507537688\n",
      "test accuracy after 45800 epochs: 0.715\n",
      "train accuracy after 45900 epochs: 0.7386934673366834\n",
      "test accuracy after 45900 epochs: 0.725\n",
      "train accuracy after 46000 epochs: 0.7512562814070352\n",
      "test accuracy after 46000 epochs: 0.705\n",
      "train accuracy after 46100 epochs: 0.7625628140703518\n",
      "test accuracy after 46100 epochs: 0.745\n",
      "train accuracy after 46200 epochs: 0.7613065326633166\n",
      "test accuracy after 46200 epochs: 0.75\n",
      "train accuracy after 46300 epochs: 0.7613065326633166\n",
      "test accuracy after 46300 epochs: 0.735\n",
      "train accuracy after 46400 epochs: 0.7625628140703518\n",
      "test accuracy after 46400 epochs: 0.76\n",
      "train accuracy after 46500 epochs: 0.7525125628140703\n",
      "test accuracy after 46500 epochs: 0.71\n",
      "train accuracy after 46600 epochs: 0.7638190954773869\n",
      "test accuracy after 46600 epochs: 0.745\n",
      "train accuracy after 46700 epochs: 0.7562814070351759\n",
      "test accuracy after 46700 epochs: 0.74\n",
      "train accuracy after 46800 epochs: 0.7613065326633166\n",
      "test accuracy after 46800 epochs: 0.73\n",
      "train accuracy after 46900 epochs: 0.7600502512562815\n",
      "test accuracy after 46900 epochs: 0.74\n",
      "train accuracy after 47000 epochs: 0.7650753768844221\n",
      "test accuracy after 47000 epochs: 0.74\n",
      "train accuracy after 47100 epochs: 0.5628140703517588\n",
      "test accuracy after 47100 epochs: 0.51\n",
      "train accuracy after 47200 epochs: 0.7638190954773869\n",
      "test accuracy after 47200 epochs: 0.765\n",
      "train accuracy after 47300 epochs: 0.7562814070351759\n",
      "test accuracy after 47300 epochs: 0.78\n",
      "train accuracy after 47400 epochs: 0.6896984924623115\n",
      "test accuracy after 47400 epochs: 0.665\n",
      "train accuracy after 47500 epochs: 0.7587939698492462\n",
      "test accuracy after 47500 epochs: 0.75\n",
      "train accuracy after 47600 epochs: 0.7663316582914573\n",
      "test accuracy after 47600 epochs: 0.75\n",
      "train accuracy after 47700 epochs: 0.7412060301507538\n",
      "test accuracy after 47700 epochs: 0.715\n",
      "train accuracy after 47800 epochs: 0.7600502512562815\n",
      "test accuracy after 47800 epochs: 0.745\n",
      "train accuracy after 47900 epochs: 0.7537688442211056\n",
      "test accuracy after 47900 epochs: 0.73\n",
      "train accuracy after 48000 epochs: 0.6984924623115578\n",
      "test accuracy after 48000 epochs: 0.67\n",
      "train accuracy after 48100 epochs: 0.7336683417085427\n",
      "test accuracy after 48100 epochs: 0.695\n",
      "train accuracy after 48200 epochs: 0.7474874371859297\n",
      "test accuracy after 48200 epochs: 0.715\n",
      "train accuracy after 48300 epochs: 0.6834170854271356\n",
      "test accuracy after 48300 epochs: 0.675\n",
      "train accuracy after 48400 epochs: 0.6984924623115578\n",
      "test accuracy after 48400 epochs: 0.67\n",
      "train accuracy after 48500 epochs: 0.7487437185929648\n",
      "test accuracy after 48500 epochs: 0.725\n",
      "train accuracy after 48600 epochs: 0.7236180904522613\n",
      "test accuracy after 48600 epochs: 0.705\n",
      "train accuracy after 48700 epochs: 0.7562814070351759\n",
      "test accuracy after 48700 epochs: 0.73\n",
      "train accuracy after 48800 epochs: 0.7587939698492462\n",
      "test accuracy after 48800 epochs: 0.74\n",
      "train accuracy after 48900 epochs: 0.7123115577889447\n",
      "test accuracy after 48900 epochs: 0.695\n",
      "train accuracy after 49000 epochs: 0.7449748743718593\n",
      "test accuracy after 49000 epochs: 0.725\n",
      "train accuracy after 49100 epochs: 0.7587939698492462\n",
      "test accuracy after 49100 epochs: 0.745\n",
      "train accuracy after 49200 epochs: 0.7713567839195979\n",
      "test accuracy after 49200 epochs: 0.735\n",
      "train accuracy after 49300 epochs: 0.7701005025125628\n",
      "test accuracy after 49300 epochs: 0.74\n",
      "train accuracy after 49400 epochs: 0.7600502512562815\n",
      "test accuracy after 49400 epochs: 0.735\n",
      "train accuracy after 49500 epochs: 0.75\n",
      "test accuracy after 49500 epochs: 0.735\n",
      "train accuracy after 49600 epochs: 0.7135678391959799\n",
      "test accuracy after 49600 epochs: 0.69\n",
      "train accuracy after 49700 epochs: 0.7123115577889447\n",
      "test accuracy after 49700 epochs: 0.705\n",
      "train accuracy after 49800 epochs: 0.5942211055276382\n",
      "test accuracy after 49800 epochs: 0.6\n",
      "train accuracy after 49900 epochs: 0.7374371859296482\n",
      "test accuracy after 49900 epochs: 0.705\n",
      "train accuracy after 50000 epochs: 0.7487437185929648\n",
      "test accuracy after 50000 epochs: 0.75\n"
     ]
    }
   ],
   "source": [
    "eta  = 1e-3\n",
    "epochs = 500\n",
    "store_epoch = 100\n",
    "\n",
    "train_acc, test_acc, _ = train(epochs, eta, store_epoch)\n",
    "\n",
    "for i in range(len(train_acc)):\n",
    "    print(\"train accuracy after {} epochs: {}\".format((i+1)*store_epoch, train_acc[i]))\n",
    "    print(\"test accuracy after {} epochs: {}\".format((i+1)*store_epoch, test_acc[i]))\n",
    "    "
   ]
  },
  {
   "cell_type": "markdown",
   "metadata": {
    "deletable": false,
    "editable": false,
    "nbgrader": {
     "cell_type": "markdown",
     "checksum": "1835fad48f97ca1d66c9a7b849a3cb07",
     "grade": false,
     "grade_id": "cell-c7150ec75f715a87",
     "locked": true,
     "schema_version": 3,
     "solution": false,
     "task": false
    }
   },
   "source": [
    "#### Part 2 C [5 points]\n",
    "What is the role of the learning rate? What are the pros and cons of high/low learning rates? Do you see any trade-off? First, plot accuracies of different $\\eta$s together vs. number of epochs for both training and testing. Then briefly elaborate on these questions."
   ]
  },
  {
   "cell_type": "markdown",
   "metadata": {},
   "source": [
    "**SOURCES USED:**\n",
    "\n",
    "1 - (A closer look at Training/Testing Data in Python) https://data-flair.training/blogs/train-test-set-in-python-ml/"
   ]
  },
  {
   "cell_type": "code",
   "execution_count": 22,
   "metadata": {
    "deletable": false,
    "nbgrader": {
     "cell_type": "code",
     "checksum": "386c67d8fdacd668efb63cf67cccf0be",
     "grade": true,
     "grade_id": "cell-09a16c6562efd6e5",
     "locked": false,
     "points": 3,
     "schema_version": 3,
     "solution": true,
     "task": false
    }
   },
   "outputs": [],
   "source": [
    "dataset_handler = Dataset('./data/titanic.pklz')\n",
    "train_results = {}\n",
    "test_results = {}\n",
    "\n",
    "epochs = 1500\n",
    "store_epoch = 50\n",
    "for eta in [1e-3, 1e-4, 1e-5, 1e-6]:\n",
    "    # TODO: \n",
    "    # Finish the code to loop over different values of learning rates (Use the train() function above)\n",
    "    # You need to store accuracy arrays obtained in the dictionaries provided \n",
    "    # above (train_results and test_results)\n",
    "    # Effectively, you will be creating a mapping between eta -> train/test_accuracy_array \n",
    "    # Therefore, running train_results[eta] should return the train_accuracy_array for that value\n",
    "    # of eta and likewise for test_results[eta].\n",
    "    # YOUR CODE HERE\n",
    "    # raise NotImplementedError()\n",
    "    #I'm taking some of the code from Part 2 B\n",
    "    #----------------- Part 2B ------------------\n",
    "    #Initializations\n",
    "    test_arr = []\n",
    "    train_arr = []\n",
    "    train = {}\n",
    "    test = {}\n",
    "    lr = LogReg(dataset_handler.train_x.shape[1], eta)\n",
    "    \n",
    "    #Now look through epochs\n",
    "    for e in range(epochs):\n",
    "        #First, let's get our X and Y Test Data from shuffle function on test x and test y\n",
    "        XTest, YTest=(dataset_handler.test_x, dataset_handler.test_y)\n",
    "        #Now, let's get our X and Y Training Data from shuffle function on training x and training y\n",
    "        XTrain, YTrain = dataset_handler.shuffle(dataset_handler.train_x, dataset_handler.train_y)\n",
    "        #We need to zip our training data and update using sgd_update with values from X and Y Training\n",
    "        for i, j in zip(XTrain, YTrain):\n",
    "            #Use sgd update to complete the task\n",
    "            lr.sgd_update(i, j)\n",
    "        #Now, we know progress function returns a log probability, and a accuracy, so we can use this functions now.\n",
    "        lp_test, testAcc =lr.progress(XTest, YTest)\n",
    "        #We do the same thing for our training data now, we run progress and get back two return values.\n",
    "        lp_train, trainAcc = lr.progress(XTrain, YTrain)\n",
    "        #Every 50th update we would do this.\n",
    "        if(e % store_epoch == 0):\n",
    "            #The next step is to take our test accuracies, and append it to the test array above.\n",
    "            test_arr.append(testAcc)\n",
    "            #Similarly, we append the array of training accuracy to the array given above.\n",
    "            train_arr.append(trainAcc)\n",
    "    #Now we want to append our testing and training value from outside the loop now into the array.\n",
    "    test_arr.append(testAcc)\n",
    "    #Append training values\n",
    "    train_arr.append(trainAcc)\n",
    "    #Finally, at the eta value, we store our test array and training array into the results\n",
    "    test_results[eta] = test_arr\n",
    "    #print(test_results[eta])\n",
    "    train_results[eta] = train_arr\n",
    "    #print(train_results[eta])"
   ]
  },
  {
   "cell_type": "markdown",
   "metadata": {
    "deletable": false,
    "editable": false,
    "nbgrader": {
     "cell_type": "markdown",
     "checksum": "19e321915541406dc1e5e2b8b6ffd90c",
     "grade": false,
     "grade_id": "cell-cdceadb514539e82",
     "locked": true,
     "schema_version": 3,
     "solution": false,
     "task": false
    }
   },
   "source": [
    "Plot training results below."
   ]
  },
  {
   "cell_type": "code",
   "execution_count": 23,
   "metadata": {},
   "outputs": [
    {
     "data": {
      "image/png": "[encoded data removed]",
      "text/plain": [
       "<Figure size 864x432 with 1 Axes>"
      ]
     },
     "metadata": {
      "needs_background": "light"
     },
     "output_type": "display_data"
    }
   ],
   "source": [
    "fig, ax = plt.subplots(nrows=1, ncols=1, figsize=(12,6))\n",
    "#---Important!---\n",
    "#I'm starting my range from 49, because without it, from range 50 to 1000 to 50 was giving me an error\n",
    "#about dimensionality. So I'm starting 1 below 50. store_epoch has value 50, go to 1000, and use a step of 50 from my understanding\n",
    "epochs_array = [i for i in range(store_epoch-1, epochs, store_epoch)]\n",
    "epochs_array.append(epochs)\n",
    "ax.plot(epochs_array, train_results[1e-3], color=\"steelblue\", label=str(1e-3))\n",
    "ax.plot(epochs_array, train_results[1e-4], color=\"lightblue\", label=str(1e-4))\n",
    "ax.plot(epochs_array, train_results[1e-5], color=\"grey\", label=str(1e-5))\n",
    "ax.plot(epochs_array, train_results[1e-6], color=\"black\", label=str(1e-6))\n",
    "ax.legend(loc=\"lower right\", fontsize=16)\n",
    "ax.set_xlabel(\"epochs\", fontsize=16)\n",
    "ax.set_ylabel(\"train accuracy\", fontsize=16)\n",
    "plt.show()"
   ]
  },
  {
   "cell_type": "markdown",
   "metadata": {
    "deletable": false,
    "editable": false,
    "nbgrader": {
     "cell_type": "markdown",
     "checksum": "3d69bdf93baa5b77689c4c724361c7e4",
     "grade": false,
     "grade_id": "cell-08d14ca96a171d0c",
     "locked": true,
     "schema_version": 3,
     "solution": false,
     "task": false
    }
   },
   "source": [
    "Plot testing results below."
   ]
  },
  {
   "cell_type": "code",
   "execution_count": 24,
   "metadata": {},
   "outputs": [
    {
     "data": {
      "image/png": "[encoded data removed]",
      "text/plain": [
       "<Figure size 864x432 with 1 Axes>"
      ]
     },
     "metadata": {
      "needs_background": "light"
     },
     "output_type": "display_data"
    }
   ],
   "source": [
    "fig, ax = plt.subplots(nrows=1, ncols=1, figsize=(12,6))\n",
    "#---Important!---\n",
    "#I'm starting my range from 49, because without it, from range 50 to 1000 to 50 was giving me an error\n",
    "#about dimensionality. So I'm starting 1 below 50. store_epoch has value 50, go to 1000, and use a step of 50 from my understanding\n",
    "epochs_array = [i for i in range(store_epoch-1, epochs, store_epoch)]\n",
    "epochs_array.append(epochs)\n",
    "ax.plot(epochs_array, test_results[1e-3], color=\"steelblue\", label=str(1e-3))\n",
    "ax.plot(epochs_array, test_results[1e-4], color=\"lightblue\", label=str(1e-4))\n",
    "ax.plot(epochs_array, test_results[1e-5], color=\"grey\", label=str(1e-5))\n",
    "ax.plot(epochs_array, test_results[1e-6], color=\"black\", label=str(1e-6))\n",
    "ax.legend(loc=\"lower right\", fontsize=16)\n",
    "ax.set_xlabel(\"epochs\", fontsize=16)\n",
    "ax.set_ylabel(\"test accuracy\", fontsize=16)\n",
    "plt.show()"
   ]
  },
  {
   "cell_type": "markdown",
   "metadata": {
    "deletable": false,
    "nbgrader": {
     "cell_type": "markdown",
     "checksum": "d9ab704dc9e247cab6fe16b04bdb1c73",
     "grade": true,
     "grade_id": "cell-dd0ea201d734cc98",
     "locked": false,
     "points": 2,
     "schema_version": 3,
     "solution": true
    }
   },
   "source": [
    "**(SOLUTION):**\n",
    "\n",
    "* What is the role of the learning rate? \n",
    "\n",
    "The Learning Rate is our $\\textbf{Hyperparamater}$ which controls the rate at which a Model learns from the data. So for instance the learning rate, or $\\text{step size}$ as it is referred to sometimes could be how much times we update our weight vector during the training process. $\\checkmark$\n",
    "\n",
    "* What are the pros and cons of high/low learning rates? Do you see any trade-off?\n",
    "\n",
    "A $\\textbf{learning rate that's low}$, or small, can sometimes halt or delay the model, and also having a smaller learning rate means running it more times (or having a bigger epoch) because changes made in the weights between updates would be miniscule. Meanwhile, a $\\textbf{big learning rate}$ might make our model converge to some value way too fast, and that value could end up not even being your optimal solution that you would want. As well as that, because of the fast change that accompanies a larger learning rate, you have to run it few times because it'll be changing so drastically, so lesser epochs. $\\checkmark$"
   ]
  },
  {
   "cell_type": "markdown",
   "metadata": {
    "deletable": false,
    "editable": false,
    "nbgrader": {
     "cell_type": "markdown",
     "checksum": "59a9a21127f64d588b91cfdada782e3f",
     "grade": false,
     "grade_id": "cell-edbacfc3a57559ab",
     "locked": true,
     "schema_version": 3,
     "solution": false,
     "task": false
    }
   },
   "source": [
    "#### Part 2 D [10 points]\n",
    "\n",
    "Adding $l_2$ regularization to the feature parameters for NLL loss gives:\n",
    "\n",
    "$$\n",
    "\\textrm{NLL}_{l_2}(\\boldsymbol{\\beta}) = -\\displaystyle\\sum_{i=1}^n \\left[y_i \\log \\sigma(\\boldsymbol{\\beta}^T{\\bf x}^{(i)}) + (1-y_i)\\log(1 - \\sigma(\\boldsymbol{\\beta}^T{\\bf x}^{(i)}))\\right] + \\lambda\\displaystyle\\sum_{k=1}^{p} \\beta_{k}^2\n",
    "$$\n",
    "\n",
    "where $p$ is the number of features, and $\\beta_0$ is the bias term. Notice that $\\beta_0$ is not included in the regularization term.\n",
    "\n",
    "Write down the derivative of the regularized negative log likelihood loss function $\\textrm{NLL}_{l_2}$ with respect to $\\boldsymbol{\\beta}$. Since we are working with SGD, derive it for $n=1$."
   ]
  },
  {
   "cell_type": "markdown",
   "metadata": {
    "deletable": false,
    "nbgrader": {
     "cell_type": "markdown",
     "checksum": "8de7f0f39e6af563561352399c29cb40",
     "grade": true,
     "grade_id": "cell-a25a04527ff025ff",
     "locked": false,
     "points": 1,
     "schema_version": 3,
     "solution": true,
     "task": false
    }
   },
   "source": [
    "**(SOLUTION):**\n",
    "\n",
    "Since we are deriving for $n = 1$, we can change the formula above to incorporate that.\n",
    "$$\n",
    "\\textrm{NLL_I_2}(\\boldsymbol{\\beta}) = -\\displaystyle\\sum_{i=1}^1 \\left[y_1 \\log \\sigma(\\boldsymbol{\\beta}^T{\\bf x}^{(1)}) + (1-y_1)\\log(1 - \\sigma(\\boldsymbol{\\beta}^T{\\bf x}^{(1)}))\\right] + \\lambda\\displaystyle\\sum_{k=1}^{p} \\beta_{k}^2\n",
    "$$\n",
    "\n",
    "We can reduce the summation, that will go away because a sum from $1$ to $1$ is just the term itself so the sum will be gone, and we will be left with something like\n",
    "\n",
    "$$- [y_i \\cdot log \\sigma(\\beta^Tx_1) + (1 - y_1) \\cdot log(1 - \\sigma(B^Tx^{(1)})] + \\lambda\\displaystyle\\sum_{k=1}^{p} \\beta_{k}^2$$\n",
    "\n",
    "Then you can further simplify...\n",
    "\n",
    "The summation by $\\lambda$ goes away, we take the derivative with respect to $\\beta$ so, $\\beta_k^2$ becomes just $2 \\beta_k$, and we keep the first part the same from the derivative we took above so we get...\n",
    "\n",
    "$$\n",
    "\\frac {d(NLL)}{d\\beta_k} \\text{ from }1 \\text{ to } p = \\left(\\sigma(\\boldsymbol{\\beta}^T{\\bf x}^{(1)})-y_1\\right){x^1} + \\lambda \\cdot 2 \\beta_k\n",
    "$$"
   ]
  },
  {
   "cell_type": "markdown",
   "metadata": {
    "deletable": false,
    "editable": false,
    "nbgrader": {
     "cell_type": "markdown",
     "checksum": "91255fcddea6e4116092f3b764264982",
     "grade": false,
     "grade_id": "cell-58a1174637893818",
     "locked": true,
     "schema_version": 3,
     "solution": false,
     "task": false
    }
   },
   "source": [
    "Update your implementation of the `sgd_update` method so that it performs regularized SGD updates of the model parameters to minimize the regularized NLL loss function.\n",
    "\n",
    "Remember, do **not** regularize the bias parameter $\\beta_0$.\n",
    "\n",
    "Provide train and test accuracy after above change with `lam=1e-5`."
   ]
  },
  {
   "cell_type": "code",
   "execution_count": 25,
   "metadata": {
    "deletable": false,
    "editable": false,
    "nbgrader": {
     "cell_type": "code",
     "checksum": "ca0f630ec835ecbd8cbf7365b6cf9205",
     "grade": true,
     "grade_id": "cell-3879c5176d481064",
     "locked": true,
     "points": 9,
     "schema_version": 3,
     "solution": false
    }
   },
   "outputs": [
    {
     "name": "stderr",
     "output_type": "stream",
     "text": [
      "testNegRegUpdate (tests.tests.TestLogReg)\n",
      "test update based on negative example ... ok\n",
      "testPosRegUpdate (tests.tests.TestLogReg)\n",
      "test regularized update based on positive example ... ok\n",
      "\n",
      "----------------------------------------------------------------------\n",
      "Ran 2 tests in 0.002s\n",
      "\n",
      "OK\n"
     ]
    }
   ],
   "source": [
    "from tests import tests\n",
    "tests.run_test_suite('prob 2E', LogReg)"
   ]
  },
  {
   "cell_type": "markdown",
   "metadata": {
    "deletable": false,
    "editable": false,
    "nbgrader": {
     "cell_type": "markdown",
     "checksum": "3822f44a2dcc1d5ada7adf4525c48586",
     "grade": false,
     "grade_id": "cell-8598434febfab063",
     "locked": true,
     "schema_version": 3,
     "solution": false,
     "task": false
    }
   },
   "source": [
    "#### Part 2 E [5 points]\n",
    "Update your implementation of train() to incorporate a regularization term. The change should typically be on only one line in your code.\n",
    "\n",
    "Plot accuracies of different $\\lambda$s together vs. epochs for both training and testing)."
   ]
  },
  {
   "cell_type": "code",
   "execution_count": 26,
   "metadata": {
    "deletable": false,
    "nbgrader": {
     "cell_type": "code",
     "checksum": "79d4fd92662a9a5154b3aefc10e2318e",
     "grade": true,
     "grade_id": "cell-a450215e16c0f1a5",
     "locked": false,
     "points": 3,
     "schema_version": 3,
     "solution": true,
     "task": false
    }
   },
   "outputs": [],
   "source": [
    "dataset_handler = Dataset('./data/titanic.pklz')\n",
    "train_results = {}\n",
    "test_results = {}\n",
    "epochs = 1500\n",
    "eta = 1e-5\n",
    "store_epoch = 50\n",
    "for lam in [0, 0.01, 0.1, 0.05]:\n",
    "    # TODO: \n",
    "    # Finish the code to loop over different values of lambda (Use the train() function above)\n",
    "    \n",
    "    # You need to store accuracy arrays obtained in the dictionaries provided \n",
    "    # above (train_results and test_results)\n",
    "    \n",
    "    # Effectively, you will be creating a mapping between lambda -> train/test_accuracy_array \n",
    "    # Therefore, running train_results[lam] should return the train_accuracy_array for that value\n",
    "    # of lam and likewise for test_results[lam].\n",
    "    \n",
    "    # YOUR CODE HERE\n",
    "    # raise NotImplementedError()\n",
    "        # raise NotImplementedError()\n",
    "    #I'm taking some of the code from Part 2 B\n",
    "    #----------------- Part 2B ------------------\n",
    "    #Initializations\n",
    "    test_arr = []\n",
    "    train_arr = []\n",
    "    train = {}\n",
    "    test = {}\n",
    "    lr = LogReg(dataset_handler.train_x.shape[1], eta)\n",
    "    #Now look through epochs\n",
    "    for e in range(epochs):\n",
    "        #First, let's get our X and Y Test Data from shuffle function on test x and test y\n",
    "        XTest, YTest=(dataset_handler.test_x, dataset_handler.test_y)\n",
    "        #Now, let's get our X and Y Training Data from shuffle function on training x and training y\n",
    "        XTrain, YTrain = dataset_handler.shuffle(dataset_handler.train_x, dataset_handler.train_y)\n",
    "        #We need to zip our training data and update using sgd_update with values from X and Y Training\n",
    "        for i, j in zip(XTrain, YTrain):\n",
    "            #Use sgd update to complete the task\n",
    "            #Pass in Lambda!\n",
    "            lr.sgd_update(i, j, lam)\n",
    "        #Now, we know progress function returns a log probability, and a accuracy, so we can use this functions now.\n",
    "        lp_test, testAcc =lr.progress(XTest, YTest)\n",
    "        #We do the same thing for our training data now, we run progress and get back two return values.\n",
    "        lp_train, trainAcc = lr.progress(XTrain, YTrain)\n",
    "        #Every 50th update we would do this.\n",
    "        if(e % store_epoch == 0):\n",
    "            #The next step is to take our test accuracies, and append it to the test array above.\n",
    "            test_arr.append(testAcc)\n",
    "            #Similarly, we append the array of training accuracy to the array given above.\n",
    "            train_arr.append(trainAcc)\n",
    "    #Now we want to append our testing and training value from outside the loop now into the array.\n",
    "    test_arr.append(testAcc)\n",
    "    #Append training values\n",
    "    train_arr.append(trainAcc)\n",
    "    #Finally, at the eta value, we store our test array and training array into the results\n",
    "    #---- Now, what changes here between this and the previous part is where we store the values, now we store them in lam----\n",
    "    test_results[lam] = test_arr\n",
    "    #print(test_results[lam])\n",
    "    train_results[lam] = train_arr\n",
    "    #print(train_results[lam])"
   ]
  },
  {
   "cell_type": "markdown",
   "metadata": {
    "deletable": false,
    "editable": false,
    "nbgrader": {
     "cell_type": "markdown",
     "checksum": "117526c11d85393af4d2de0c81c3b33e",
     "grade": false,
     "grade_id": "cell-48bd45286d3e1d41",
     "locked": true,
     "schema_version": 3,
     "solution": false,
     "task": false
    }
   },
   "source": [
    "Plot training results below."
   ]
  },
  {
   "cell_type": "code",
   "execution_count": 27,
   "metadata": {},
   "outputs": [
    {
     "data": {
      "image/png": "[encoded data removed]",
      "text/plain": [
       "<Figure size 864x432 with 1 Axes>"
      ]
     },
     "metadata": {
      "needs_background": "light"
     },
     "output_type": "display_data"
    }
   ],
   "source": [
    "fig, ax = plt.subplots(nrows=1, ncols=1, figsize=(12,6))\n",
    "#---Important!---\n",
    "#I'm starting my range from 49, because without it, from range 50 to 1000 to 50 was giving me an error\n",
    "#about dimensionality. So I'm starting 1 below 50. store_epoch has value 50, go to 1000, and use a step of 50 from my understanding\n",
    "epochs_array = [i for i in range(store_epoch-1, epochs, store_epoch)]\n",
    "epochs_array.append(epochs)\n",
    "ax.plot(epochs_array, train_results[0], color=\"steelblue\", label=str(0))\n",
    "ax.plot(epochs_array, train_results[1e-1], color=\"black\", label=str(1e-1))\n",
    "ax.plot(epochs_array, train_results[1e-2], color=\"grey\", label=str(1e-2))\n",
    "ax.plot(epochs_array, train_results[5e-2], color=\"green\", label=str(5e-2))\n",
    "ax.legend(loc=\"lower right\", fontsize=16)\n",
    "ax.set_xlabel(\"epochs\", fontsize=16)\n",
    "ax.set_ylabel(\"train accuracy\", fontsize=16)\n",
    "plt.show()"
   ]
  },
  {
   "cell_type": "markdown",
   "metadata": {
    "deletable": false,
    "editable": false,
    "nbgrader": {
     "cell_type": "markdown",
     "checksum": "e518dd444497901ecdfcd4e4907a6f25",
     "grade": false,
     "grade_id": "cell-dbc673e5af14643b",
     "locked": true,
     "schema_version": 3,
     "solution": false,
     "task": false
    }
   },
   "source": [
    "Plot testing results below."
   ]
  },
  {
   "cell_type": "code",
   "execution_count": 28,
   "metadata": {},
   "outputs": [
    {
     "data": {
      "image/png": "[encoded data removed]",
      "text/plain": [
       "<Figure size 864x432 with 1 Axes>"
      ]
     },
     "metadata": {
      "needs_background": "light"
     },
     "output_type": "display_data"
    }
   ],
   "source": [
    "fig, ax = plt.subplots(nrows=1, ncols=1, figsize=(12,6))\n",
    "#---Important!---\n",
    "#I'm starting my range from 49, because without it, from range 50 to 1000 to 50 was giving me an error\n",
    "#about dimensionality. So I'm starting 1 below 50. store_epoch has value 50, go to 1000, and use a step of 50 from my understanding\n",
    "epochs_array = [i for i in range(store_epoch-1, epochs, store_epoch)]\n",
    "epochs_array.append(epochs)\n",
    "ax.plot(epochs_array, test_results[0], color=\"steelblue\", label=str(0))\n",
    "ax.plot(epochs_array, test_results[1e-1], color=\"black\", label=str(1e-1))\n",
    "ax.plot(epochs_array, test_results[1e-2], color=\"grey\", label=str(1e-2))\n",
    "ax.plot(epochs_array, test_results[5e-2], color=\"green\", label=str(5e-2))\n",
    "ax.legend(loc=\"lower right\", fontsize=16)\n",
    "ax.set_xlabel(\"epochs\", fontsize=16)\n",
    "ax.set_ylabel(\"test accuracy\", fontsize=16)\n",
    "plt.show()"
   ]
  },
  {
   "cell_type": "markdown",
   "metadata": {
    "deletable": false,
    "editable": false,
    "nbgrader": {
     "cell_type": "markdown",
     "checksum": "8430613a9662cf1e30b47dfe34276ba6",
     "grade": false,
     "grade_id": "cell-e3a64883a284043e",
     "locked": true,
     "schema_version": 3,
     "solution": false,
     "task": false
    }
   },
   "source": [
    "**Part 2 F (continued)** What is the effect of regularization term with respect to accuracy? "
   ]
  },
  {
   "cell_type": "markdown",
   "metadata": {
    "deletable": false,
    "nbgrader": {
     "cell_type": "markdown",
     "checksum": "8bdcea34f5386a716a6fd4f93bfa3ff9",
     "grade": true,
     "grade_id": "cell-0ce393d045320da5",
     "locked": false,
     "points": 2,
     "schema_version": 3,
     "solution": true
    }
   },
   "source": [
    "**(SOLUTION):**\n",
    "\n",
    "Regularization is used so that our Model does not run the risk of overfitting! It will increase the accurary of your testing, but decrease the accuracy of your training, at least in the ideal sense that is what it will do, but it could be that the testing accuracy may be impacted by underfitting. See how in the model at $0.1$ we have a test accuracy worse than the other regularization values, so this proves that sometimes that can occur. $\\checkmark$"
   ]
  },
  {
   "cell_type": "markdown",
   "metadata": {
    "deletable": false,
    "editable": false,
    "nbgrader": {
     "cell_type": "markdown",
     "checksum": "e8fc1936f6c84888fed1dd74b090e5aa",
     "grade": false,
     "grade_id": "cell-58303538bf6d7940",
     "locked": true,
     "schema_version": 3,
     "solution": false,
     "task": false
    }
   },
   "source": [
    "### Part 3 [5 points] \n",
    "\n",
    "Time based Learning Rate is dynamic learning rate given the following equation:\n",
    "\n",
    "$\\textrm{LearningRate} = \\eta\\, / \\,(1 + \\textrm{decay} \\cdot \\textrm{current epoch})$\n",
    "\n",
    "Train SGD with the dynamic learning rate defined above and follow these instructions:\n",
    "* Use initial learning rate $\\eta = 0.1$.\n",
    "* Use $\\textrm{decay} = 0.001$.\n",
    "* Update learning rate `lr.eta` every epoch.\n",
    "* Plot train accuracy and learning rate together for each epoch.\n",
    "\n",
    "The above can be accomplished by changing one line in `train()` from Part 2a. "
   ]
  },
  {
   "cell_type": "code",
   "execution_count": 29,
   "metadata": {
    "deletable": false,
    "nbgrader": {
     "cell_type": "code",
     "checksum": "bc9f653be2b27aad01d238d9a9c74f6e",
     "grade": true,
     "grade_id": "cell-4cc9c3502840b913",
     "locked": false,
     "points": 5,
     "schema_version": 3,
     "solution": true
    }
   },
   "outputs": [],
   "source": [
    "eta  = 1e-1\n",
    "epochs = 200\n",
    "store_epoch = 1\n",
    "\n",
    "# Lists required for plotting\n",
    "train_accuracy_array = None\n",
    "learning_rates = None\n",
    "\n",
    "# YOUR CODE HERE\n",
    "# raise NotImplementedError()\n",
    "# ------ TAKING MY CODE FROM TRAINING FUNCTION ---------\n",
    "dataset_handler = Dataset('./data/titanic.pklz')\n",
    "lr = LogReg(dataset_handler.train_x.shape[1], eta)\n",
    "train_accuracy_array = []\n",
    "learning_rates = []\n",
    "for epoch in range(epochs):\n",
    "    #UPDATE: We just need to look at our test values now.\n",
    "    #Now, let's get our X and Y Training Data from shuffle function on training x and training y\n",
    "    XTrain, YTrain = dataset_handler.shuffle(dataset_handler.train_x, dataset_handler.train_y)\n",
    "    #We need to zip our training data and update using sgd_update with values from X and Y Training\n",
    "    #UPDATE: Now we update our lr.eta here with the correct decay and vars.\n",
    "    denomVar = 1 + (0.001 * epoch)\n",
    "    lr.eta = lr.eta / denomVar\n",
    "    #UPDATE: Now to learning rate we append our eta value\n",
    "    learning_rates.append(lr.eta)\n",
    "    for i, j in zip(XTrain, YTrain):\n",
    "        #Use sgd update to complete the task\n",
    "        lr.sgd_update(i, j)\n",
    "    #We do the same thing for our training data now, we run progress and get back two return values.\n",
    "    lp_train, trainAcc = lr.progress(XTrain, YTrain)\n",
    "    #Similarly, we append the array of training accuracy to the array given above.\n",
    "    train_accuracy_array.append(trainAcc)"
   ]
  },
  {
   "cell_type": "code",
   "execution_count": 30,
   "metadata": {},
   "outputs": [
    {
     "data": {
      "image/png": "[encoded data removed]",
      "text/plain": [
       "<Figure size 864x432 with 1 Axes>"
      ]
     },
     "metadata": {
      "needs_background": "light"
     },
     "output_type": "display_data"
    }
   ],
   "source": [
    "fig, ax = plt.subplots(nrows=1, ncols=1, figsize=(12,6))\n",
    "epochs_array = [i for i in range(1,epochs)]\n",
    "epochs_array.append(epochs)\n",
    "ax.plot(epochs_array, train_accuracy_array, color=\"steelblue\", label=str('train accuracy'))\n",
    "ax.plot(epochs_array, learning_rates,color=\"grey\", label=str('learning rate'))\n",
    "ax.legend(loc=\"upper right\", fontsize=16)\n",
    "ax.set_xlabel(\"epochs\", fontsize=16)\n",
    "ax.set_ylabel(\"\", fontsize=16)\n",
    "plt.show()"
   ]
  },
  {
   "cell_type": "markdown",
   "metadata": {},
   "source": [
    "### Optional survey.\n",
    "***\n",
    "\n",
    "We are always interested in your feedback. At the end of each homework, there is a simple anonymous feedback [survey](https://docs.google.com/forms/d/e/1FAIpQLSfa22OUdAI2LDrK8LA2ldPBEW08-2wM8oVDkeNr528UCijdLA/viewform?usp=pp_url) to solicit your feedback for how to improve the course."
   ]
  },
  {
   "cell_type": "markdown",
   "metadata": {},
   "source": [
    "Suvery Completed! $\\checkmark$"
   ]
  }
 ],
 "metadata": {
  "kernelspec": {
   "display_name": "Python 3",
   "language": "python",
   "name": "python3"
  },
  "language_info": {
   "codemirror_mode": {
    "name": "ipython",
    "version": 3
   },
   "file_extension": ".py",
   "mimetype": "text/x-python",
   "name": "python",
   "nbconvert_exporter": "python",
   "pygments_lexer": "ipython3",
   "version": "3.8.3"
  },
  "toc": {
   "base_numbering": 1,
   "nav_menu": {},
   "number_sections": false,
   "sideBar": true,
   "skip_h1_title": true,
   "title_cell": "Table of Contents",
   "title_sidebar": "Contents",
   "toc_cell": false,
   "toc_position": {
    "height": "calc(100% - 180px)",
    "left": "10px",
    "top": "150px",
    "width": "396.188px"
   },
   "toc_section_display": true,
   "toc_window_display": true
  }
 },
 "nbformat": 4,
 "nbformat_minor": 4
}
